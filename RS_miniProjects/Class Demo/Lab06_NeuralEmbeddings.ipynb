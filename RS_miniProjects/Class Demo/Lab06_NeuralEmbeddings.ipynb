{
 "cells": [
  {
   "cell_type": "code",
   "execution_count": 48,
   "id": "35885a0d",
   "metadata": {},
   "outputs": [],
   "source": [
    "import numpy as np\n",
    "import matplotlib.pyplot as plt\n",
    "\n",
    "from sklearn import datasets\n",
    "from sklearn.decomposition import PCA"
   ]
  },
  {
   "cell_type": "code",
   "execution_count": null,
   "id": "33a9c29b",
   "metadata": {},
   "outputs": [],
   "source": []
  },
  {
   "cell_type": "markdown",
   "id": "818d4664",
   "metadata": {},
   "source": [
    "## PCA "
   ]
  },
  {
   "cell_type": "code",
   "execution_count": 49,
   "id": "2816fae6",
   "metadata": {
    "collapsed": true
   },
   "outputs": [
    {
     "data": {
      "text/plain": [
       "['__all__',\n",
       " '__builtins__',\n",
       " '__cached__',\n",
       " '__doc__',\n",
       " '__file__',\n",
       " '__loader__',\n",
       " '__name__',\n",
       " '__package__',\n",
       " '__path__',\n",
       " '__spec__',\n",
       " '_base',\n",
       " '_california_housing',\n",
       " '_covtype',\n",
       " '_kddcup99',\n",
       " '_lfw',\n",
       " '_olivetti_faces',\n",
       " '_openml',\n",
       " '_rcv1',\n",
       " '_samples_generator',\n",
       " '_species_distributions',\n",
       " '_svmlight_format_fast',\n",
       " '_svmlight_format_io',\n",
       " '_twenty_newsgroups',\n",
       " 'clear_data_home',\n",
       " 'dump_svmlight_file',\n",
       " 'fetch_20newsgroups',\n",
       " 'fetch_20newsgroups_vectorized',\n",
       " 'fetch_california_housing',\n",
       " 'fetch_covtype',\n",
       " 'fetch_kddcup99',\n",
       " 'fetch_lfw_pairs',\n",
       " 'fetch_lfw_people',\n",
       " 'fetch_olivetti_faces',\n",
       " 'fetch_openml',\n",
       " 'fetch_rcv1',\n",
       " 'fetch_species_distributions',\n",
       " 'get_data_home',\n",
       " 'load_boston',\n",
       " 'load_breast_cancer',\n",
       " 'load_diabetes',\n",
       " 'load_digits',\n",
       " 'load_files',\n",
       " 'load_iris',\n",
       " 'load_linnerud',\n",
       " 'load_sample_image',\n",
       " 'load_sample_images',\n",
       " 'load_svmlight_file',\n",
       " 'load_svmlight_files',\n",
       " 'load_wine',\n",
       " 'make_biclusters',\n",
       " 'make_blobs',\n",
       " 'make_checkerboard',\n",
       " 'make_circles',\n",
       " 'make_classification',\n",
       " 'make_friedman1',\n",
       " 'make_friedman2',\n",
       " 'make_friedman3',\n",
       " 'make_gaussian_quantiles',\n",
       " 'make_hastie_10_2',\n",
       " 'make_low_rank_matrix',\n",
       " 'make_moons',\n",
       " 'make_multilabel_classification',\n",
       " 'make_regression',\n",
       " 'make_s_curve',\n",
       " 'make_sparse_coded_signal',\n",
       " 'make_sparse_spd_matrix',\n",
       " 'make_sparse_uncorrelated',\n",
       " 'make_spd_matrix',\n",
       " 'make_swiss_roll']"
      ]
     },
     "execution_count": 49,
     "metadata": {},
     "output_type": "execute_result"
    }
   ],
   "source": [
    "dir(datasets)"
   ]
  },
  {
   "cell_type": "code",
   "execution_count": 50,
   "id": "df98fcf9",
   "metadata": {},
   "outputs": [],
   "source": [
    "iris_data = datasets.load_iris()\n",
    "X = iris_data.data\n",
    "y = iris_data.target"
   ]
  },
  {
   "cell_type": "code",
   "execution_count": 8,
   "id": "247f4f0f",
   "metadata": {},
   "outputs": [
    {
     "data": {
      "text/plain": [
       "(150, 4)"
      ]
     },
     "execution_count": 8,
     "metadata": {},
     "output_type": "execute_result"
    }
   ],
   "source": [
    "X.shape"
   ]
  },
  {
   "cell_type": "code",
   "execution_count": 55,
   "id": "e472cb0b",
   "metadata": {},
   "outputs": [
    {
     "data": {
      "text/plain": [
       "array([0, 0, 0, 0, 0, 0, 0, 0, 0, 0, 0, 0, 0, 0, 0, 0, 0, 0, 0, 0, 0, 0,\n",
       "       0, 0, 0, 0, 0, 0, 0, 0, 0, 0, 0, 0, 0, 0, 0, 0, 0, 0, 0, 0, 0, 0,\n",
       "       0, 0, 0, 0, 0, 0, 1, 1, 1, 1, 1, 1, 1, 1, 1, 1, 1, 1, 1, 1, 1, 1,\n",
       "       1, 1, 1, 1, 1, 1, 1, 1, 1, 1, 1, 1, 1, 1, 1, 1, 1, 1, 1, 1, 1, 1,\n",
       "       1, 1, 1, 1, 1, 1, 1, 1, 1, 1, 1, 1, 2, 2, 2, 2, 2, 2, 2, 2, 2, 2,\n",
       "       2, 2, 2, 2, 2, 2, 2, 2, 2, 2, 2, 2, 2, 2, 2, 2, 2, 2, 2, 2, 2, 2,\n",
       "       2, 2, 2, 2, 2, 2, 2, 2, 2, 2, 2, 2, 2, 2, 2, 2, 2, 2])"
      ]
     },
     "execution_count": 55,
     "metadata": {},
     "output_type": "execute_result"
    }
   ],
   "source": [
    "y"
   ]
  },
  {
   "cell_type": "code",
   "execution_count": 56,
   "id": "a745e2d6",
   "metadata": {},
   "outputs": [],
   "source": [
    "pca = PCA(n_components=2)\n",
    "X_reduced = pca.fit_transform(X)"
   ]
  },
  {
   "cell_type": "code",
   "execution_count": 59,
   "id": "3b63b7d6",
   "metadata": {},
   "outputs": [
    {
     "data": {
      "text/plain": [
       "(array([-2.68412563,  0.31939725]), array([5.1, 3.5, 1.4, 0.2]))"
      ]
     },
     "execution_count": 59,
     "metadata": {},
     "output_type": "execute_result"
    }
   ],
   "source": [
    "X_reduced[0], X[0]"
   ]
  },
  {
   "cell_type": "code",
   "execution_count": 57,
   "id": "9f31e218",
   "metadata": {},
   "outputs": [
    {
     "data": {
      "text/plain": [
       "(150, 2)"
      ]
     },
     "execution_count": 57,
     "metadata": {},
     "output_type": "execute_result"
    }
   ],
   "source": [
    "X_reduced.shape"
   ]
  },
  {
   "cell_type": "code",
   "execution_count": 17,
   "id": "d4e76ce0",
   "metadata": {},
   "outputs": [
    {
     "data": {
      "image/png": "[encoded data removed]",
      "text/plain": [
       "<Figure size 432x288 with 1 Axes>"
      ]
     },
     "metadata": {
      "needs_background": "light"
     },
     "output_type": "display_data"
    }
   ],
   "source": [
    "colors = [\"#A4DEB4\", \"#6376C1\", \"#74CCD3\"]\n",
    "\n",
    "for color, target_idx, target_name in zip(colors, [0, 1, 2], iris_data.target_names):\n",
    "    plt.scatter(X_reduced[y == target_idx, 0], X_reduced[y == target_idx, 1], color=color, label=target_name)\n",
    "plt.legend()\n",
    "plt.show()"
   ]
  },
  {
   "cell_type": "code",
   "execution_count": null,
   "id": "abd3837e",
   "metadata": {},
   "outputs": [],
   "source": []
  },
  {
   "cell_type": "code",
   "execution_count": null,
   "id": "3555a6b0",
   "metadata": {},
   "outputs": [],
   "source": []
  },
  {
   "cell_type": "markdown",
   "id": "d5f54273",
   "metadata": {},
   "source": [
    "## Neural Embeddings"
   ]
  },
  {
   "cell_type": "markdown",
   "id": "7d872558",
   "metadata": {},
   "source": [
    "### 1. BERT"
   ]
  },
  {
   "cell_type": "code",
   "execution_count": 60,
   "id": "871d9362",
   "metadata": {},
   "outputs": [],
   "source": [
    "import torch\n",
    "from transformers import AutoTokenizer, AutoModel"
   ]
  },
  {
   "cell_type": "code",
   "execution_count": 20,
   "id": "065bdbad",
   "metadata": {},
   "outputs": [
    {
     "data": {
      "application/vnd.jupyter.widget-view+json": {
       "model_id": "aa69c44c380b441b8f363a513ec559ed",
       "version_major": 2,
       "version_minor": 0
      },
      "text/plain": [
       "Downloading:   0%|          | 0.00/28.0 [00:00<?, ?B/s]"
      ]
     },
     "metadata": {},
     "output_type": "display_data"
    },
    {
     "data": {
      "application/vnd.jupyter.widget-view+json": {
       "model_id": "69faab7d3031444ba27a0d389eb6dbee",
       "version_major": 2,
       "version_minor": 0
      },
      "text/plain": [
       "Downloading:   0%|          | 0.00/455k [00:00<?, ?B/s]"
      ]
     },
     "metadata": {},
     "output_type": "display_data"
    },
    {
     "name": "stderr",
     "output_type": "stream",
     "text": [
      "Some weights of the model checkpoint at bert-base-uncased were not used when initializing BertModel: ['cls.predictions.transform.LayerNorm.bias', 'cls.predictions.transform.dense.weight', 'cls.predictions.transform.LayerNorm.weight', 'cls.predictions.decoder.weight', 'cls.seq_relationship.weight', 'cls.predictions.transform.dense.bias', 'cls.predictions.bias', 'cls.seq_relationship.bias']\n",
      "- This IS expected if you are initializing BertModel from the checkpoint of a model trained on another task or with another architecture (e.g. initializing a BertForSequenceClassification model from a BertForPreTraining model).\n",
      "- This IS NOT expected if you are initializing BertModel from the checkpoint of a model that you expect to be exactly identical (initializing a BertForSequenceClassification model from a BertForSequenceClassification model).\n"
     ]
    }
   ],
   "source": [
    "tokenizer = AutoTokenizer.from_pretrained(\"bert-base-uncased\")\n",
    "model = AutoModel.from_pretrained(\"bert-base-uncased\")"
   ]
  },
  {
   "cell_type": "code",
   "execution_count": 22,
   "id": "4d3b4f66",
   "metadata": {},
   "outputs": [
    {
     "data": {
      "text/plain": [
       "('[CLS]', 101, '[MASK]', 103)"
      ]
     },
     "execution_count": 22,
     "metadata": {},
     "output_type": "execute_result"
    }
   ],
   "source": [
    "tokenizer.cls_token, tokenizer.cls_token_id, tokenizer.mask_token, tokenizer.mask_token_id"
   ]
  },
  {
   "cell_type": "code",
   "execution_count": 23,
   "id": "bee71bd5",
   "metadata": {},
   "outputs": [
    {
     "data": {
      "text/plain": [
       "('[UNK]', 100)"
      ]
     },
     "execution_count": 23,
     "metadata": {},
     "output_type": "execute_result"
    }
   ],
   "source": [
    "tokenizer.unk_token, tokenizer.unk_token_id"
   ]
  },
  {
   "cell_type": "markdown",
   "id": "e6a72bcb",
   "metadata": {},
   "source": [
    "#### Enoding a doc"
   ]
  },
  {
   "cell_type": "code",
   "execution_count": 61,
   "id": "158ed86b",
   "metadata": {},
   "outputs": [
    {
     "data": {
      "text/plain": [
       "[101, 2817, 102]"
      ]
     },
     "execution_count": 61,
     "metadata": {},
     "output_type": "execute_result"
    }
   ],
   "source": [
    "tokenizer.encode(\"study\")"
   ]
  },
  {
   "cell_type": "code",
   "execution_count": 25,
   "id": "80d34e1c",
   "metadata": {},
   "outputs": [
    {
     "data": {
      "text/plain": [
       "'[CLS] study [SEP]'"
      ]
     },
     "execution_count": 25,
     "metadata": {},
     "output_type": "execute_result"
    }
   ],
   "source": [
    "tokenizer.decode([101, 2817, 102])"
   ]
  },
  {
   "cell_type": "code",
   "execution_count": 45,
   "id": "29d77ed0",
   "metadata": {},
   "outputs": [
    {
     "data": {
      "text/plain": [
       "['[CLS]', 'study', '[SEP]']"
      ]
     },
     "execution_count": 45,
     "metadata": {},
     "output_type": "execute_result"
    }
   ],
   "source": [
    "tokenizer.convert_ids_to_tokens(tokenizer.encode(\"study\"))"
   ]
  },
  {
   "cell_type": "code",
   "execution_count": 63,
   "id": "7d967c96",
   "metadata": {},
   "outputs": [
    {
     "data": {
      "text/plain": [
       "['[CLS]', 'neural', 'networks', 'are', 'black', 'boxes', '.', '[SEP]']"
      ]
     },
     "execution_count": 63,
     "metadata": {},
     "output_type": "execute_result"
    }
   ],
   "source": [
    "tokenizer.convert_ids_to_tokens(tokenizer.encode(\"neural networks are black boxes.\"))"
   ]
  },
  {
   "cell_type": "code",
   "execution_count": 62,
   "id": "11dd111b",
   "metadata": {},
   "outputs": [
    {
     "data": {
      "text/plain": [
       "[101,\n",
       " 15756,\n",
       " 6125,\n",
       " 2024,\n",
       " 2304,\n",
       " 8378,\n",
       " 1012,\n",
       " 2045,\n",
       " 2323,\n",
       " 2022,\n",
       " 1037,\n",
       " 19802,\n",
       " 19204,\n",
       " 4873,\n",
       " 2182,\n",
       " 1012,\n",
       " 102]"
      ]
     },
     "execution_count": 62,
     "metadata": {},
     "output_type": "execute_result"
    }
   ],
   "source": [
    "tokenizer.encode(\"neural networks are black boxes. There should be a sep token somewhere here.\")"
   ]
  },
  {
   "cell_type": "code",
   "execution_count": 27,
   "id": "ac10c1a3",
   "metadata": {},
   "outputs": [
    {
     "data": {
      "text/plain": [
       "'[SEP] to been'"
      ]
     },
     "execution_count": 27,
     "metadata": {},
     "output_type": "execute_result"
    }
   ],
   "source": [
    "tokenizer.decode([102, 2000, 2042])"
   ]
  },
  {
   "cell_type": "code",
   "execution_count": 28,
   "id": "cb9e7f53",
   "metadata": {
    "collapsed": true
   },
   "outputs": [
    {
     "data": {
      "text/plain": [
       "['SPECIAL_TOKENS_ATTRIBUTES',\n",
       " '__annotations__',\n",
       " '__call__',\n",
       " '__class__',\n",
       " '__delattr__',\n",
       " '__dict__',\n",
       " '__dir__',\n",
       " '__doc__',\n",
       " '__eq__',\n",
       " '__format__',\n",
       " '__ge__',\n",
       " '__getattribute__',\n",
       " '__gt__',\n",
       " '__hash__',\n",
       " '__init__',\n",
       " '__init_subclass__',\n",
       " '__le__',\n",
       " '__len__',\n",
       " '__lt__',\n",
       " '__module__',\n",
       " '__ne__',\n",
       " '__new__',\n",
       " '__reduce__',\n",
       " '__reduce_ex__',\n",
       " '__repr__',\n",
       " '__setattr__',\n",
       " '__sizeof__',\n",
       " '__str__',\n",
       " '__subclasshook__',\n",
       " '__weakref__',\n",
       " '_add_tokens',\n",
       " '_additional_special_tokens',\n",
       " '_batch_encode_plus',\n",
       " '_bos_token',\n",
       " '_cls_token',\n",
       " '_convert_encoding',\n",
       " '_convert_id_to_token',\n",
       " '_convert_token_to_id_with_added_voc',\n",
       " '_create_or_get_repo',\n",
       " '_decode',\n",
       " '_decode_use_source_tokenizer',\n",
       " '_encode_plus',\n",
       " '_eos_token',\n",
       " '_eventual_warn_about_too_long_sequence',\n",
       " '_from_pretrained',\n",
       " '_get_padding_truncation_strategies',\n",
       " '_get_repo_url_from_name',\n",
       " '_mask_token',\n",
       " '_pad',\n",
       " '_pad_token',\n",
       " '_pad_token_type_id',\n",
       " '_push_to_hub',\n",
       " '_save_pretrained',\n",
       " '_sep_token',\n",
       " '_tokenizer',\n",
       " '_unk_token',\n",
       " 'add_special_tokens',\n",
       " 'add_tokens',\n",
       " 'additional_special_tokens',\n",
       " 'additional_special_tokens_ids',\n",
       " 'all_special_ids',\n",
       " 'all_special_tokens',\n",
       " 'all_special_tokens_extended',\n",
       " 'as_target_tokenizer',\n",
       " 'backend_tokenizer',\n",
       " 'batch_decode',\n",
       " 'batch_encode_plus',\n",
       " 'bos_token',\n",
       " 'bos_token_id',\n",
       " 'build_inputs_with_special_tokens',\n",
       " 'can_save_slow_tokenizer',\n",
       " 'clean_up_tokenization',\n",
       " 'cls_token',\n",
       " 'cls_token_id',\n",
       " 'convert_ids_to_tokens',\n",
       " 'convert_tokens_to_ids',\n",
       " 'convert_tokens_to_string',\n",
       " 'create_token_type_ids_from_sequences',\n",
       " 'decode',\n",
       " 'decoder',\n",
       " 'deprecation_warnings',\n",
       " 'do_lower_case',\n",
       " 'encode',\n",
       " 'encode_plus',\n",
       " 'eos_token',\n",
       " 'eos_token_id',\n",
       " 'from_pretrained',\n",
       " 'get_added_vocab',\n",
       " 'get_special_tokens_mask',\n",
       " 'get_vocab',\n",
       " 'init_inputs',\n",
       " 'init_kwargs',\n",
       " 'is_fast',\n",
       " 'mask_token',\n",
       " 'mask_token_id',\n",
       " 'max_len_sentences_pair',\n",
       " 'max_len_single_sentence',\n",
       " 'max_model_input_sizes',\n",
       " 'model_input_names',\n",
       " 'model_max_length',\n",
       " 'name_or_path',\n",
       " 'num_special_tokens_to_add',\n",
       " 'pad',\n",
       " 'pad_token',\n",
       " 'pad_token_id',\n",
       " 'pad_token_type_id',\n",
       " 'padding_side',\n",
       " 'prepare_for_model',\n",
       " 'prepare_seq2seq_batch',\n",
       " 'pretrained_init_configuration',\n",
       " 'pretrained_vocab_files_map',\n",
       " 'push_to_hub',\n",
       " 'sanitize_special_tokens',\n",
       " 'save_pretrained',\n",
       " 'save_vocabulary',\n",
       " 'sep_token',\n",
       " 'sep_token_id',\n",
       " 'set_truncation_and_padding',\n",
       " 'slow_tokenizer_class',\n",
       " 'special_tokens_map',\n",
       " 'special_tokens_map_extended',\n",
       " 'tokenize',\n",
       " 'train_new_from_iterator',\n",
       " 'truncate_sequences',\n",
       " 'unk_token',\n",
       " 'unk_token_id',\n",
       " 'verbose',\n",
       " 'vocab',\n",
       " 'vocab_files_names',\n",
       " 'vocab_size']"
      ]
     },
     "execution_count": 28,
     "metadata": {},
     "output_type": "execute_result"
    }
   ],
   "source": [
    "dir(tokenizer)"
   ]
  },
  {
   "cell_type": "code",
   "execution_count": 29,
   "id": "bb07a805",
   "metadata": {},
   "outputs": [],
   "source": [
    "def embed_text_using_bert(text):\n",
    "    input_ids = torch.tensor(tokenizer.encode(text)).unsqueeze(0)  # Batch size 1\n",
    "    outputs = model(input_ids)\n",
    "    last_hidden_states = outputs[0]  # The last hidden-state is the first element of the output tuple\n",
    "    return last_hidden_states"
   ]
  },
  {
   "cell_type": "code",
   "execution_count": 64,
   "id": "4931d16d",
   "metadata": {},
   "outputs": [
    {
     "name": "stdout",
     "output_type": "stream",
     "text": [
      "Vocab ids:\n",
      "[101, 2057, 2052, 2066, 2000, 7861, 8270, 2023, 3793, 999, 102]\n"
     ]
    }
   ],
   "source": [
    "to_embed = \"We would like to embed this text!\"\n",
    "\n",
    "print(\"Vocab ids:\")\n",
    "print(tokenizer.encode(to_embed))"
   ]
  },
  {
   "cell_type": "code",
   "execution_count": 65,
   "id": "dd6790e4",
   "metadata": {},
   "outputs": [
    {
     "name": "stdout",
     "output_type": "stream",
     "text": [
      "Token ids:\n",
      "['[CLS]', 'we', 'would', 'like', 'to', 'em', '##bed', 'this', 'text', '!', '[SEP]']\n"
     ]
    }
   ],
   "source": [
    "print(\"Token ids:\")\n",
    "print(tokenizer.convert_ids_to_tokens([101, 2057, 2052, 2066, 2000, 7861, 8270, 2023, 3793, 999, 102]))"
   ]
  },
  {
   "cell_type": "code",
   "execution_count": 32,
   "id": "81a5a614",
   "metadata": {},
   "outputs": [
    {
     "name": "stdout",
     "output_type": "stream",
     "text": [
      "torch.Size([1, 11, 768])\n"
     ]
    }
   ],
   "source": [
    "vec = embed_text_using_bert(to_embed)\n",
    "print(vec.shape)"
   ]
  },
  {
   "cell_type": "code",
   "execution_count": 33,
   "id": "284a38fa",
   "metadata": {},
   "outputs": [
    {
     "name": "stdout",
     "output_type": "stream",
     "text": [
      "(1, 768)\n"
     ]
    }
   ],
   "source": [
    "mean_vec = vec.mean(1).detach().numpy()\n",
    "print(mean_vec.shape)"
   ]
  },
  {
   "cell_type": "markdown",
   "id": "c2dc714d",
   "metadata": {},
   "source": [
    "#### Visualizing contextual vectors in 2d embedding space"
   ]
  },
  {
   "cell_type": "code",
   "execution_count": 34,
   "id": "93afd151",
   "metadata": {},
   "outputs": [],
   "source": [
    "s1 = \"I went to the bank yesterday to withdraw cash.\"\n",
    "s2 = \"We went fishing by the river bank.\"\n",
    "s3 = \"He has borrowed a loan from the bank.\"\n",
    "s4 = \"The bank issued a new 10 rupee note yesterday.\""
   ]
  },
  {
   "cell_type": "code",
   "execution_count": 35,
   "id": "4701bd64",
   "metadata": {},
   "outputs": [
    {
     "data": {
      "text/plain": [
       "([1045, 2253, 2000, 1996, 2924, 7483, 2000, 10632, 5356, 1012],\n",
       " [2057, 2253, 5645, 2011, 1996, 2314, 2924, 1012],\n",
       " [2002, 2038, 11780, 1037, 5414, 2013, 1996, 2924, 1012],\n",
       " [1996, 2924, 3843, 1037, 2047, 2184, 21766, 28084, 3602, 7483, 1012])"
      ]
     },
     "execution_count": 35,
     "metadata": {},
     "output_type": "execute_result"
    }
   ],
   "source": [
    "tokenizer.convert_tokens_to_ids(tokenizer.tokenize(s1)), tokenizer.convert_tokens_to_ids(tokenizer.tokenize(s2)), tokenizer.convert_tokens_to_ids(tokenizer.tokenize(s3)), tokenizer.convert_tokens_to_ids(tokenizer.tokenize(s4))"
   ]
  },
  {
   "cell_type": "code",
   "execution_count": 36,
   "id": "43b06e5e",
   "metadata": {},
   "outputs": [
    {
     "data": {
      "text/plain": [
       "['bank']"
      ]
     },
     "execution_count": 36,
     "metadata": {},
     "output_type": "execute_result"
    }
   ],
   "source": [
    "tokenizer.convert_ids_to_tokens([2924])"
   ]
  },
  {
   "cell_type": "code",
   "execution_count": 37,
   "id": "f2e9a773",
   "metadata": {},
   "outputs": [
    {
     "data": {
      "text/plain": [
       "torch.Size([1, 12, 768])"
      ]
     },
     "execution_count": 37,
     "metadata": {},
     "output_type": "execute_result"
    }
   ],
   "source": [
    "s1vec = embed_text_using_bert(s1)[0:4:]\n",
    "s1vec.shape"
   ]
  },
  {
   "cell_type": "code",
   "execution_count": 76,
   "id": "4d5a61f8",
   "metadata": {},
   "outputs": [
    {
     "data": {
      "text/plain": [
       "tensor([[[-0.2714, -0.0988, -0.0246,  ..., -0.1452,  0.1943,  0.1932],\n",
       "         [-0.2611, -0.9128, -0.1425,  ...,  0.1244,  0.4893, -1.1103],\n",
       "         [ 0.8449, -0.0620, -0.2899,  ...,  0.0398, -0.8511, -0.2079]]],\n",
       "       grad_fn=<NativeLayerNormBackward0>)"
      ]
     },
     "execution_count": 76,
     "metadata": {},
     "output_type": "execute_result"
    }
   ],
   "source": [
    "embed_text_using_bert(\"adventure\")"
   ]
  },
  {
   "cell_type": "code",
   "execution_count": 77,
   "id": "166cc72a",
   "metadata": {},
   "outputs": [
    {
     "data": {
      "text/plain": [
       "tensor([[[-0.2593, -0.0280, -0.1265,  ..., -0.3691,  0.5829,  0.1290],\n",
       "         [ 0.6792,  0.1643, -0.4040,  ...,  0.0445,  0.6822, -0.0459],\n",
       "         [ 0.1466,  0.3843,  0.0497,  ..., -0.3319,  0.3326, -0.8355],\n",
       "         ...,\n",
       "         [ 0.1583, -0.1830, -0.6424,  ..., -0.2118, -0.0340, -0.2663],\n",
       "         [-0.3968, -0.0187, -0.6092,  ...,  0.4115, -0.1936, -0.6930],\n",
       "         [ 0.8821, -0.0595, -0.3000,  ...,  0.1215, -0.7610, -0.1975]]],\n",
       "       grad_fn=<NativeLayerNormBackward0>)"
      ]
     },
     "execution_count": 77,
     "metadata": {},
     "output_type": "execute_result"
    }
   ],
   "source": [
    "embed_text_using_bert(\"movie adventure lord of the rings\")"
   ]
  },
  {
   "cell_type": "code",
   "execution_count": 66,
   "id": "875adb0e",
   "metadata": {},
   "outputs": [],
   "source": [
    "def get_bank_contextual_vector(text):\n",
    "    bank_idx = tokenizer.encode(text).index(2924)\n",
    "    v1 = embed_text_using_bert(text).detach().numpy()[0, bank_idx]\n",
    "    print(v1.shape)\n",
    "    return v1"
   ]
  },
  {
   "cell_type": "code",
   "execution_count": 67,
   "id": "a16b96f2",
   "metadata": {},
   "outputs": [
    {
     "name": "stdout",
     "output_type": "stream",
     "text": [
      "(768,)\n",
      "(768,)\n",
      "(768,)\n",
      "(768,)\n"
     ]
    }
   ],
   "source": [
    "s1vec = get_bank_contextual_vector(s1)\n",
    "s2vec = get_bank_contextual_vector(s2)\n",
    "s3vec = get_bank_contextual_vector(s3)\n",
    "s4vec = get_bank_contextual_vector(s4)"
   ]
  },
  {
   "cell_type": "code",
   "execution_count": 69,
   "id": "375df3cf",
   "metadata": {},
   "outputs": [
    {
     "data": {
      "text/plain": [
       "False"
      ]
     },
     "execution_count": 69,
     "metadata": {},
     "output_type": "execute_result"
    }
   ],
   "source": [
    "(s1vec == s3vec).all()"
   ]
  },
  {
   "cell_type": "code",
   "execution_count": 70,
   "id": "1d302b3a",
   "metadata": {},
   "outputs": [],
   "source": [
    "pca = PCA(n_components=2)\n",
    "X_2d = pca.fit_transform(np.array([s1vec, s2vec, s3vec, s4vec]))"
   ]
  },
  {
   "cell_type": "code",
   "execution_count": 71,
   "id": "0516f8bc",
   "metadata": {},
   "outputs": [
    {
     "data": {
      "text/plain": [
       "(4, 2)"
      ]
     },
     "execution_count": 71,
     "metadata": {},
     "output_type": "execute_result"
    }
   ],
   "source": [
    "X_2d.shape"
   ]
  },
  {
   "cell_type": "code",
   "execution_count": 73,
   "id": "4402cd37",
   "metadata": {},
   "outputs": [
    {
     "data": {
      "image/png": "[encoded data removed]",
      "text/plain": [
       "<Figure size 600x400 with 1 Axes>"
      ]
     },
     "metadata": {
      "needs_background": "light"
     },
     "output_type": "display_data"
    }
   ],
   "source": [
    "fig, ax = plt.subplots(dpi=100)\n",
    "ax.scatter(X_2d[:,0], X_2d[:, 1])\n",
    "\n",
    "for _, txt in enumerate(['bank cash', 'river bank', 'bank loan', 'bank note']):\n",
    "    ax.annotate(txt, (X_2d[_, 0]+0.2, X_2d[_, 1]+0.2))"
   ]
  },
  {
   "cell_type": "code",
   "execution_count": null,
   "id": "11b17891",
   "metadata": {},
   "outputs": [],
   "source": [
    "s1 = \"I went to the bank yesterday to withdraw cash.\"\n",
    "s2 = \"We went fishing by the river bank.\"\n",
    "s3 = \"He has borrowed a loan from the bank.\"\n",
    "s4 = \"The bank issued a new 10 rupee note yesterday.\""
   ]
  },
  {
   "cell_type": "markdown",
   "id": "6dc6356e",
   "metadata": {},
   "source": [
    "### 2. Word2Vec"
   ]
  },
  {
   "cell_type": "markdown",
   "id": "fec69999",
   "metadata": {},
   "source": [
    "https://colab.research.google.com/drive/1CFhMBtGVxeTRD0w_lTo36N69Vgi6eh-G?usp=sharing"
   ]
  },
  {
   "cell_type": "code",
   "execution_count": null,
   "id": "80c667d0",
   "metadata": {},
   "outputs": [],
   "source": [
    "!pip install -U pip setuptools wheel\n",
    "!pip install -U spacy"
   ]
  },
  {
   "cell_type": "code",
   "execution_count": null,
   "id": "8f26f18b",
   "metadata": {},
   "outputs": [],
   "source": [
    "!python -m spacy download en_core_web_lg"
   ]
  },
  {
   "cell_type": "code",
   "execution_count": null,
   "id": "34f1e32f",
   "metadata": {},
   "outputs": [],
   "source": [
    "import spacy"
   ]
  },
  {
   "cell_type": "code",
   "execution_count": null,
   "id": "6948304f",
   "metadata": {},
   "outputs": [],
   "source": [
    "nlp = spacy.load(\"en_core_web_lg\")"
   ]
  },
  {
   "cell_type": "code",
   "execution_count": null,
   "id": "80b24992",
   "metadata": {},
   "outputs": [],
   "source": [
    "s1 = \"I went to the bank yesterday to withdraw cash.\"\n",
    "s2 = \"We went fishing by the river bank.\""
   ]
  },
  {
   "cell_type": "code",
   "execution_count": null,
   "id": "9bfe5381",
   "metadata": {},
   "outputs": [],
   "source": [
    "doc1 = nlp(s1)\n",
    "doc2 = nlp(s2)"
   ]
  },
  {
   "cell_type": "code",
   "execution_count": null,
   "id": "a494c55b",
   "metadata": {},
   "outputs": [],
   "source": [
    "for token in doc1:\n",
    "    print(token.text, token.pos_)\n",
    "    if token.text == 'bank':\n",
    "        v1 = token.vector\n",
    "\n",
    "for token in doc2:\n",
    "    print(token.text, token.pos_)\n",
    "    if token.text == 'bank':\n",
    "        v2 = token.vector"
   ]
  },
  {
   "cell_type": "code",
   "execution_count": null,
   "id": "4ae17be4",
   "metadata": {},
   "outputs": [],
   "source": [
    "(v1 == v2).all()"
   ]
  },
  {
   "cell_type": "code",
   "execution_count": null,
   "id": "f9e9f166",
   "metadata": {},
   "outputs": [],
   "source": []
  }
 ],
 "metadata": {
  "kernelspec": {
   "display_name": "base",
   "language": "python",
   "name": "base"
  },
  "language_info": {
   "codemirror_mode": {
    "name": "ipython",
    "version": 3
   },
   "file_extension": ".py",
   "mimetype": "text/x-python",
   "name": "python",
   "nbconvert_exporter": "python",
   "pygments_lexer": "ipython3",
   "version": "3.9.7"
  }
 },
 "nbformat": 4,
 "nbformat_minor": 5
}

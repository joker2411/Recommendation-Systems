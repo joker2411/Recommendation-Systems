{
 "cells": [
  {
   "cell_type": "code",
   "execution_count": 8,
   "id": "d0874c61",
   "metadata": {},
   "outputs": [
    {
     "name": "stdout",
     "output_type": "stream",
     "text": [
      "/Users/ambuj/Downloads/Compressed/RS_assignment01\r\n"
     ]
    }
   ],
   "source": [
    "!pwd"
   ]
  },
  {
   "cell_type": "code",
   "execution_count": 9,
   "id": "2e124b1f",
   "metadata": {},
   "outputs": [
    {
     "name": "stdout",
     "output_type": "stream",
     "text": [
      "RS assignment01.ipynb \u001b[34marchive\u001b[m\u001b[m\r\n"
     ]
    }
   ],
   "source": [
    "!ls"
   ]
  },
  {
   "cell_type": "code",
   "execution_count": 11,
   "id": "862919a6",
   "metadata": {},
   "outputs": [
    {
     "name": "stdout",
     "output_type": "stream",
     "text": [
      "Requirement already satisfied: numpy in /Users/ambuj/opt/anaconda3/envs/scrapping/lib/python3.8/site-packages (1.21.2)\n",
      "Collecting scikit-surprise\n",
      "  Downloading scikit-surprise-1.1.1.tar.gz (11.8 MB)\n",
      "\u001b[K     |████████████████████████████████| 11.8 MB 8.9 MB/s eta 0:00:01\n",
      "\u001b[?25hRequirement already satisfied: joblib>=0.11 in /Users/ambuj/.local/lib/python3.8/site-packages (from scikit-surprise) (1.1.0)\n",
      "Requirement already satisfied: numpy>=1.11.2 in /Users/ambuj/opt/anaconda3/envs/scrapping/lib/python3.8/site-packages (from scikit-surprise) (1.21.2)\n",
      "Requirement already satisfied: scipy>=1.0.0 in /Users/ambuj/opt/anaconda3/envs/scrapping/lib/python3.8/site-packages (from scikit-surprise) (1.7.1)\n",
      "Requirement already satisfied: six>=1.10.0 in /Users/ambuj/opt/anaconda3/envs/scrapping/lib/python3.8/site-packages (from scikit-surprise) (1.16.0)\n",
      "Building wheels for collected packages: scikit-surprise\n",
      "  Building wheel for scikit-surprise (setup.py) ... \u001b[?25ldone\n",
      "\u001b[?25h  Created wheel for scikit-surprise: filename=scikit_surprise-1.1.1-cp38-cp38-macosx_10_9_x86_64.whl size=784858 sha256=7ebbafed43c105c524330c459b3430df35fa4b029ff8241d4d3f0b693407001c\n",
      "  Stored in directory: /Users/ambuj/Library/Caches/pip/wheels/20/91/57/2965d4cff1b8ac7ed1b6fa25741882af3974b54a31759e10b6\n",
      "Successfully built scikit-surprise\n",
      "Installing collected packages: scikit-surprise\n",
      "Successfully installed scikit-surprise-1.1.1\n"
     ]
    }
   ],
   "source": [
    "!pip install numpy\n",
    "!pip install scikit-surprise"
   ]
  },
  {
   "cell_type": "code",
   "execution_count": 12,
   "id": "5eb4de13",
   "metadata": {},
   "outputs": [],
   "source": [
    "import surprise"
   ]
  },
  {
   "cell_type": "code",
   "execution_count": 13,
   "id": "8987074c",
   "metadata": {},
   "outputs": [
    {
     "data": {
      "text/plain": [
       "['AlgoBase',\n",
       " 'BaselineOnly',\n",
       " 'CoClustering',\n",
       " 'Dataset',\n",
       " 'KNNBaseline',\n",
       " 'KNNBasic',\n",
       " 'KNNWithMeans',\n",
       " 'KNNWithZScore',\n",
       " 'NMF',\n",
       " 'NormalPredictor',\n",
       " 'Prediction',\n",
       " 'PredictionImpossible',\n",
       " 'Reader',\n",
       " 'SVD',\n",
       " 'SVDpp',\n",
       " 'SlopeOne',\n",
       " 'Trainset',\n",
       " '__all__',\n",
       " '__builtins__',\n",
       " '__cached__',\n",
       " '__doc__',\n",
       " '__file__',\n",
       " '__loader__',\n",
       " '__name__',\n",
       " '__package__',\n",
       " '__path__',\n",
       " '__spec__',\n",
       " '__version__',\n",
       " 'accuracy',\n",
       " 'builtin_datasets',\n",
       " 'dataset',\n",
       " 'dump',\n",
       " 'get_dataset_dir',\n",
       " 'get_distribution',\n",
       " 'model_selection',\n",
       " 'prediction_algorithms',\n",
       " 'reader',\n",
       " 'similarities',\n",
       " 'trainset',\n",
       " 'utils']"
      ]
     },
     "execution_count": 13,
     "metadata": {},
     "output_type": "execute_result"
    }
   ],
   "source": [
    "dir(surprise)"
   ]
  },
  {
   "cell_type": "code",
   "execution_count": 40,
   "id": "25616e25",
   "metadata": {},
   "outputs": [],
   "source": [
    "from surprise import Dataset\n",
    "from surprise import Reader\n",
    "import numpy as np\n",
    "import pandas as pd"
   ]
  },
  {
   "cell_type": "code",
   "execution_count": 15,
   "id": "b12611b6",
   "metadata": {},
   "outputs": [
    {
     "name": "stdout",
     "output_type": "stream",
     "text": [
      "/Users/ambuj/Downloads/Compressed/RS_assignment01\r\n"
     ]
    }
   ],
   "source": [
    "!pwd"
   ]
  },
  {
   "cell_type": "code",
   "execution_count": 16,
   "id": "85412032",
   "metadata": {},
   "outputs": [
    {
     "name": "stdout",
     "output_type": "stream",
     "text": [
      "PP_recipes.csv              ingr_map.pkl\r\n",
      "PP_users.csv                interactions_test.csv\r\n",
      "RAW_interactions.csv        interactions_train.csv\r\n",
      "RAW_recipes.csv             interactions_validation.csv\r\n"
     ]
    }
   ],
   "source": [
    "!ls /Users/ambuj/Downloads/Compressed/RS_assignment01/archive/"
   ]
  },
  {
   "cell_type": "code",
   "execution_count": 17,
   "id": "2900a9fd",
   "metadata": {},
   "outputs": [
    {
     "name": "stdout",
     "output_type": "stream",
     "text": [
      "user_id,recipe_id,date,rating,u,i\r",
      "\r\n",
      "8937,44551,2005-12-23,4.0,2,173538\r",
      "\r\n",
      "56680,126118,2006-10-07,4.0,16,177847\r",
      "\r\n",
      "349752,219596,2008-04-12,0.0,26,89896\r",
      "\r\n",
      "628951,82783,2007-11-13,2.0,45,172637\r",
      "\r\n",
      "92816,435013,2013-07-31,3.0,52,177935\r",
      "\r\n",
      "280271,228179,2007-07-29,5.0,55,178179\r",
      "\r\n",
      "345569,186470,2008-10-05,0.0,57,177482\r",
      "\r\n",
      "724516,298748,2011-05-07,5.0,71,177749\r",
      "\r\n",
      "176615,118119,2006-10-27,0.0,82,178250\r",
      "\r\n"
     ]
    }
   ],
   "source": [
    "!head /Users/ambuj/Downloads/Compressed/RS_assignment01/archive/interactions_test.csv"
   ]
  },
  {
   "cell_type": "code",
   "execution_count": 18,
   "id": "fb541da4",
   "metadata": {},
   "outputs": [
    {
     "name": "stdout",
     "output_type": "stream",
     "text": [
      "user_id,recipe_id,date,rating,u,i\r",
      "\r\n",
      "2046,4684,2000-02-25,5.0,22095,44367\r",
      "\r\n",
      "2046,517,2000-02-25,5.0,22095,87844\r",
      "\r\n",
      "1773,7435,2000-03-13,5.0,24732,138181\r",
      "\r\n",
      "1773,278,2000-03-13,4.0,24732,93054\r",
      "\r\n",
      "2046,3431,2000-04-07,5.0,22095,101723\r",
      "\r\n",
      "2046,13307,2000-05-21,5.0,22095,134551\r",
      "\r\n",
      "2312,780,2000-09-12,5.0,1674,127175\r",
      "\r\n",
      "2312,51964,2000-09-26,5.0,1674,151793\r",
      "\r\n",
      "2312,1232,2000-10-17,4.0,1674,15498\r",
      "\r\n"
     ]
    }
   ],
   "source": [
    "!head /Users/ambuj/Downloads/Compressed/RS_assignment01/archive/interactions_train.csv"
   ]
  },
  {
   "cell_type": "code",
   "execution_count": 77,
   "id": "6406f3f2",
   "metadata": {},
   "outputs": [],
   "source": [
    "TRAINING_PATH = '/Users/ambuj/Downloads/Compressed/RS_assignment01/archive/interactions_train.csv'\n",
    "TESTING_PATH = '/Users/ambuj/Downloads/Compressed/RS_assignment01/archive/interactions_test.csv'"
   ]
  },
  {
   "cell_type": "code",
   "execution_count": 46,
   "id": "565bffa9",
   "metadata": {},
   "outputs": [],
   "source": [
    "!mkdir sample_data\n",
    "!head /Users/ambuj/Downloads/Compressed/RS_assignment01/archive/interactions_train.csv > /Users/ambuj/Downloads/Compressed/RS_assignment01/sample_data/sample_train.csv"
   ]
  },
  {
   "cell_type": "code",
   "execution_count": 49,
   "id": "2a956cf9",
   "metadata": {},
   "outputs": [
    {
     "name": "stdout",
     "output_type": "stream",
     "text": [
      "user_id,recipe_id,date,rating,u,i\r",
      "\r\n",
      "2046,4684,2000-02-25,5.0,22095,44367\r",
      "\r\n",
      "2046,517,2000-02-25,5.0,22095,87844\r",
      "\r\n",
      "1773,7435,2000-03-13,5.0,24732,138181\r",
      "\r\n",
      "1773,278,2000-03-13,4.0,24732,93054\r",
      "\r\n",
      "2046,3431,2000-04-07,5.0,22095,101723\r",
      "\r\n",
      "2046,13307,2000-05-21,5.0,22095,134551\r",
      "\r\n",
      "2312,780,2000-09-12,5.0,1674,127175\r",
      "\r\n",
      "2312,51964,2000-09-26,5.0,1674,151793\r",
      "\r\n",
      "2312,1232,2000-10-17,4.0,1674,15498\r",
      "\r\n"
     ]
    }
   ],
   "source": [
    "!cat /Users/ambuj/Downloads/Compressed/RS_assignment01/sample_data/sample_train.csv"
   ]
  },
  {
   "cell_type": "code",
   "execution_count": 51,
   "id": "bd846ed6",
   "metadata": {},
   "outputs": [],
   "source": [
    "sample_path = '/Users/ambuj/Downloads/Compressed/RS_assignment01/sample_data/sample_train.csv'"
   ]
  },
  {
   "cell_type": "code",
   "execution_count": 70,
   "id": "c25d3606",
   "metadata": {},
   "outputs": [],
   "source": [
    "def load_dataset(PATH):\n",
    "    data = pd.read_csv(PATH)\n",
    "    return data"
   ]
  },
  {
   "cell_type": "code",
   "execution_count": 85,
   "id": "fcdd0cd3",
   "metadata": {},
   "outputs": [
    {
     "name": "stdout",
     "output_type": "stream",
     "text": [
      "           user_id  recipe_id  rating\n",
      "0             2046       4684     5.0\n",
      "1             2046        517     5.0\n",
      "2             1773       7435     5.0\n",
      "3             1773        278     4.0\n",
      "4             2046       3431     5.0\n",
      "...            ...        ...     ...\n",
      "698896      926904     457971     5.0\n",
      "698897  2002312797      27208     5.0\n",
      "698898     1290903     131607     5.0\n",
      "698899      226867     363072     5.0\n",
      "698900  2000498330     314535     5.0\n",
      "\n",
      "[698901 rows x 3 columns]\n"
     ]
    },
    {
     "data": {
      "text/html": [
       "<div>\n",
       "<style scoped>\n",
       "    .dataframe tbody tr th:only-of-type {\n",
       "        vertical-align: middle;\n",
       "    }\n",
       "\n",
       "    .dataframe tbody tr th {\n",
       "        vertical-align: top;\n",
       "    }\n",
       "\n",
       "    .dataframe thead th {\n",
       "        text-align: right;\n",
       "    }\n",
       "</style>\n",
       "<table border=\"1\" class=\"dataframe\">\n",
       "  <thead>\n",
       "    <tr style=\"text-align: right;\">\n",
       "      <th></th>\n",
       "      <th>user_id</th>\n",
       "      <th>recipe_id</th>\n",
       "      <th>date</th>\n",
       "      <th>rating</th>\n",
       "      <th>u</th>\n",
       "      <th>i</th>\n",
       "    </tr>\n",
       "  </thead>\n",
       "  <tbody>\n",
       "    <tr>\n",
       "      <th>0</th>\n",
       "      <td>2046</td>\n",
       "      <td>4684</td>\n",
       "      <td>2000-02-25</td>\n",
       "      <td>5.0</td>\n",
       "      <td>22095</td>\n",
       "      <td>44367</td>\n",
       "    </tr>\n",
       "    <tr>\n",
       "      <th>1</th>\n",
       "      <td>2046</td>\n",
       "      <td>517</td>\n",
       "      <td>2000-02-25</td>\n",
       "      <td>5.0</td>\n",
       "      <td>22095</td>\n",
       "      <td>87844</td>\n",
       "    </tr>\n",
       "    <tr>\n",
       "      <th>2</th>\n",
       "      <td>1773</td>\n",
       "      <td>7435</td>\n",
       "      <td>2000-03-13</td>\n",
       "      <td>5.0</td>\n",
       "      <td>24732</td>\n",
       "      <td>138181</td>\n",
       "    </tr>\n",
       "    <tr>\n",
       "      <th>3</th>\n",
       "      <td>1773</td>\n",
       "      <td>278</td>\n",
       "      <td>2000-03-13</td>\n",
       "      <td>4.0</td>\n",
       "      <td>24732</td>\n",
       "      <td>93054</td>\n",
       "    </tr>\n",
       "    <tr>\n",
       "      <th>4</th>\n",
       "      <td>2046</td>\n",
       "      <td>3431</td>\n",
       "      <td>2000-04-07</td>\n",
       "      <td>5.0</td>\n",
       "      <td>22095</td>\n",
       "      <td>101723</td>\n",
       "    </tr>\n",
       "  </tbody>\n",
       "</table>\n",
       "</div>"
      ],
      "text/plain": [
       "   user_id  recipe_id        date  rating      u       i\n",
       "0     2046       4684  2000-02-25     5.0  22095   44367\n",
       "1     2046        517  2000-02-25     5.0  22095   87844\n",
       "2     1773       7435  2000-03-13     5.0  24732  138181\n",
       "3     1773        278  2000-03-13     4.0  24732   93054\n",
       "4     2046       3431  2000-04-07     5.0  22095  101723"
      ]
     },
     "execution_count": 85,
     "metadata": {},
     "output_type": "execute_result"
    }
   ],
   "source": [
    "df = load_dataset(TRAINING_PATH)\n",
    "df.head()"
   ]
  },
  {
   "cell_type": "code",
   "execution_count": 79,
   "id": "c1e550b8",
   "metadata": {},
   "outputs": [
    {
     "data": {
      "text/plain": [
       "160901"
      ]
     },
     "execution_count": 79,
     "metadata": {},
     "output_type": "execute_result"
    }
   ],
   "source": [
    "len(df_train['recipe_id'].unique())"
   ]
  },
  {
   "cell_type": "code",
   "execution_count": 80,
   "id": "092dcff5",
   "metadata": {},
   "outputs": [
    {
     "data": {
      "text/plain": [
       "537458"
      ]
     },
     "execution_count": 80,
     "metadata": {},
     "output_type": "execute_result"
    }
   ],
   "source": [
    "max(df_train['recipe_id'])"
   ]
  },
  {
   "cell_type": "code",
   "execution_count": 81,
   "id": "d1d9401b",
   "metadata": {},
   "outputs": [
    {
     "data": {
      "text/plain": [
       "25076"
      ]
     },
     "execution_count": 81,
     "metadata": {},
     "output_type": "execute_result"
    }
   ],
   "source": [
    "len(df_train['u'].unique())"
   ]
  },
  {
   "cell_type": "code",
   "execution_count": 82,
   "id": "554c261b",
   "metadata": {},
   "outputs": [
    {
     "data": {
      "text/plain": [
       "25075"
      ]
     },
     "execution_count": 82,
     "metadata": {},
     "output_type": "execute_result"
    }
   ],
   "source": [
    "max(df_train['u'])"
   ]
  },
  {
   "cell_type": "code",
   "execution_count": 83,
   "id": "bd2959ba",
   "metadata": {},
   "outputs": [
    {
     "data": {
      "text/plain": [
       "160901"
      ]
     },
     "execution_count": 83,
     "metadata": {},
     "output_type": "execute_result"
    }
   ],
   "source": [
    "len(df_train['i'].unique())"
   ]
  },
  {
   "cell_type": "code",
   "execution_count": 84,
   "id": "deec73ab",
   "metadata": {},
   "outputs": [
    {
     "data": {
      "text/plain": [
       "178262"
      ]
     },
     "execution_count": 84,
     "metadata": {},
     "output_type": "execute_result"
    }
   ],
   "source": [
    "max(df_train['i'])"
   ]
  },
  {
   "cell_type": "code",
   "execution_count": 86,
   "id": "b2bbd6f4",
   "metadata": {},
   "outputs": [],
   "source": [
    "reader = Reader(rating_scale=(1.0,5.0))"
   ]
  },
  {
   "cell_type": "code",
   "execution_count": 87,
   "id": "8a5a7ec9",
   "metadata": {},
   "outputs": [],
   "source": [
    "df_train = Dataset.load_from_df(df[['user_id', 'recipe_id', 'rating']], reader)"
   ]
  },
  {
   "cell_type": "code",
   "execution_count": 88,
   "id": "431a55e7",
   "metadata": {},
   "outputs": [
    {
     "data": {
      "text/plain": [
       "surprise.dataset.DatasetAutoFolds"
      ]
     },
     "execution_count": 88,
     "metadata": {},
     "output_type": "execute_result"
    }
   ],
   "source": [
    "type(df_train)"
   ]
  },
  {
   "cell_type": "code",
   "execution_count": 91,
   "id": "4ad8bddf",
   "metadata": {},
   "outputs": [
    {
     "name": "stdout",
     "output_type": "stream",
     "text": [
      "<surprise.dataset.DatasetAutoFolds object at 0x7feafbf638e0>\n"
     ]
    }
   ],
   "source": [
    "print(df_train)"
   ]
  },
  {
   "cell_type": "code",
   "execution_count": 93,
   "id": "9aeb17ca",
   "metadata": {},
   "outputs": [
    {
     "ename": "TypeError",
     "evalue": "'DatasetAutoFolds' object is not subscriptable",
     "output_type": "error",
     "traceback": [
      "\u001b[0;31m---------------------------------------------------------------------------\u001b[0m",
      "\u001b[0;31mTypeError\u001b[0m                                 Traceback (most recent call last)",
      "\u001b[0;32m/var/folders/kl/55tfkryd5vs0fjm2fnv6vd140000gn/T/ipykernel_28836/4157173215.py\u001b[0m in \u001b[0;36m<module>\u001b[0;34m\u001b[0m\n\u001b[0;32m----> 1\u001b[0;31m \u001b[0mdf_train\u001b[0m\u001b[0;34m[\u001b[0m\u001b[0;36m0\u001b[0m\u001b[0;34m]\u001b[0m\u001b[0;34m\u001b[0m\u001b[0;34m\u001b[0m\u001b[0m\n\u001b[0m",
      "\u001b[0;31mTypeError\u001b[0m: 'DatasetAutoFolds' object is not subscriptable"
     ]
    }
   ],
   "source": [
    "df_train[0]"
   ]
  },
  {
   "cell_type": "code",
   "execution_count": 94,
   "id": "4116f981",
   "metadata": {},
   "outputs": [
    {
     "data": {
      "text/plain": [
       "['AlgoBase',\n",
       " 'BaselineOnly',\n",
       " 'CoClustering',\n",
       " 'Dataset',\n",
       " 'KNNBaseline',\n",
       " 'KNNBasic',\n",
       " 'KNNWithMeans',\n",
       " 'KNNWithZScore',\n",
       " 'NMF',\n",
       " 'NormalPredictor',\n",
       " 'Prediction',\n",
       " 'PredictionImpossible',\n",
       " 'Reader',\n",
       " 'SVD',\n",
       " 'SVDpp',\n",
       " 'SlopeOne',\n",
       " 'Trainset',\n",
       " '__all__',\n",
       " '__builtins__',\n",
       " '__cached__',\n",
       " '__doc__',\n",
       " '__file__',\n",
       " '__loader__',\n",
       " '__name__',\n",
       " '__package__',\n",
       " '__path__',\n",
       " '__spec__',\n",
       " '__version__',\n",
       " 'accuracy',\n",
       " 'builtin_datasets',\n",
       " 'dataset',\n",
       " 'dump',\n",
       " 'get_dataset_dir',\n",
       " 'get_distribution',\n",
       " 'model_selection',\n",
       " 'prediction_algorithms',\n",
       " 'reader',\n",
       " 'similarities',\n",
       " 'trainset',\n",
       " 'utils']"
      ]
     },
     "execution_count": 94,
     "metadata": {},
     "output_type": "execute_result"
    }
   ],
   "source": [
    "dir(surprise)"
   ]
  },
  {
   "cell_type": "code",
   "execution_count": null,
   "id": "95705882",
   "metadata": {},
   "outputs": [],
   "source": []
  },
  {
   "cell_type": "code",
   "execution_count": null,
   "id": "57289d71",
   "metadata": {},
   "outputs": [],
   "source": []
  },
  {
   "cell_type": "code",
   "execution_count": 209,
   "id": "5f63b772",
   "metadata": {},
   "outputs": [],
   "source": [
    "import pandas as pd\n",
    "import numpy as np\n",
    "import matplotlib.pyplot as plt\n",
    "\n",
    "from surprise.model_selection import GridSearchCV\n",
    "from surprise import KNNBasic, KNNWithMeans, KNNWithZScore"
   ]
  },
  {
   "cell_type": "code",
   "execution_count": 96,
   "id": "92065bfa",
   "metadata": {},
   "outputs": [],
   "source": [
    "TRAINING_PATH = '/Users/ambuj/Downloads/Compressed/RS_assignment01/archive/interactions_train.csv'\n",
    "TESTING_PATH = '/Users/ambuj/Downloads/Compressed/RS_assignment01/archive/interactions_test.csv'"
   ]
  },
  {
   "cell_type": "code",
   "execution_count": 106,
   "id": "a58b1ec6",
   "metadata": {},
   "outputs": [],
   "source": [
    "data_train = pd.read_csv(TRAINING_PATH, encoding=\"latin-1\")\n",
    "data_train = data_train[['user_id', 'recipe_id', 'rating']]"
   ]
  },
  {
   "cell_type": "code",
   "execution_count": 107,
   "id": "81cf479a",
   "metadata": {},
   "outputs": [
    {
     "name": "stdout",
     "output_type": "stream",
     "text": [
      "Index(['user_id', 'recipe_id', 'rating'], dtype='object')\n"
     ]
    }
   ],
   "source": [
    "print(data_train.columns)"
   ]
  },
  {
   "cell_type": "code",
   "execution_count": 108,
   "id": "826f640b",
   "metadata": {},
   "outputs": [
    {
     "data": {
      "text/html": [
       "<div>\n",
       "<style scoped>\n",
       "    .dataframe tbody tr th:only-of-type {\n",
       "        vertical-align: middle;\n",
       "    }\n",
       "\n",
       "    .dataframe tbody tr th {\n",
       "        vertical-align: top;\n",
       "    }\n",
       "\n",
       "    .dataframe thead th {\n",
       "        text-align: right;\n",
       "    }\n",
       "</style>\n",
       "<table border=\"1\" class=\"dataframe\">\n",
       "  <thead>\n",
       "    <tr style=\"text-align: right;\">\n",
       "      <th></th>\n",
       "      <th>user_id</th>\n",
       "      <th>recipe_id</th>\n",
       "      <th>rating</th>\n",
       "    </tr>\n",
       "  </thead>\n",
       "  <tbody>\n",
       "    <tr>\n",
       "      <th>0</th>\n",
       "      <td>2046</td>\n",
       "      <td>4684</td>\n",
       "      <td>5.0</td>\n",
       "    </tr>\n",
       "    <tr>\n",
       "      <th>1</th>\n",
       "      <td>2046</td>\n",
       "      <td>517</td>\n",
       "      <td>5.0</td>\n",
       "    </tr>\n",
       "    <tr>\n",
       "      <th>2</th>\n",
       "      <td>1773</td>\n",
       "      <td>7435</td>\n",
       "      <td>5.0</td>\n",
       "    </tr>\n",
       "    <tr>\n",
       "      <th>3</th>\n",
       "      <td>1773</td>\n",
       "      <td>278</td>\n",
       "      <td>4.0</td>\n",
       "    </tr>\n",
       "    <tr>\n",
       "      <th>4</th>\n",
       "      <td>2046</td>\n",
       "      <td>3431</td>\n",
       "      <td>5.0</td>\n",
       "    </tr>\n",
       "  </tbody>\n",
       "</table>\n",
       "</div>"
      ],
      "text/plain": [
       "   user_id  recipe_id  rating\n",
       "0     2046       4684     5.0\n",
       "1     2046        517     5.0\n",
       "2     1773       7435     5.0\n",
       "3     1773        278     4.0\n",
       "4     2046       3431     5.0"
      ]
     },
     "execution_count": 108,
     "metadata": {},
     "output_type": "execute_result"
    }
   ],
   "source": [
    "data_train.head()"
   ]
  },
  {
   "cell_type": "code",
   "execution_count": 109,
   "id": "f470bdd2",
   "metadata": {},
   "outputs": [
    {
     "data": {
      "text/plain": [
       "(698901, 3)"
      ]
     },
     "execution_count": 109,
     "metadata": {},
     "output_type": "execute_result"
    }
   ],
   "source": [
    "data_train.shape"
   ]
  },
  {
   "cell_type": "code",
   "execution_count": 115,
   "id": "67e8c4eb",
   "metadata": {},
   "outputs": [
    {
     "data": {
      "text/plain": [
       "5.0    518568\n",
       "4.0    127402\n",
       "3.0     25781\n",
       "0.0     16957\n",
       "2.0      6852\n",
       "1.0      3341\n",
       "Name: rating, dtype: int64"
      ]
     },
     "execution_count": 115,
     "metadata": {},
     "output_type": "execute_result"
    }
   ],
   "source": [
    "data_train['rating'].value_counts()"
   ]
  },
  {
   "cell_type": "code",
   "execution_count": 121,
   "id": "4ee833c4",
   "metadata": {},
   "outputs": [
    {
     "data": {
      "image/png": "[encoded data removed]",
      "text/plain": [
       "<Figure size 432x288 with 1 Axes>"
      ]
     },
     "metadata": {
      "needs_background": "light"
     },
     "output_type": "display_data"
    }
   ],
   "source": [
    "plt.rc(\"font\", size=15)\n",
    "# data_train['rating'].hist(bins=[0.0, 1.0, 2.0, 3.0, 4.0, 5.0])\n",
    "data_train['rating'].value_counts(sort=False).plot(kind='bar')\n",
    "plt.title('Rating Distribution\\n')\n",
    "plt.xlabel('Rating')\n",
    "plt.ylabel('Count')\n",
    "plt.show()"
   ]
  },
  {
   "cell_type": "code",
   "execution_count": 135,
   "id": "3a5499fb",
   "metadata": {},
   "outputs": [],
   "source": [
    "rating_count = pd.DataFrame(data_train.groupby('recipe_id')['rating'].count())\n",
    "rating_count_sorted = rating_count.sort_values('rating', ascending=False)"
   ]
  },
  {
   "cell_type": "code",
   "execution_count": 136,
   "id": "b3c5f99d",
   "metadata": {},
   "outputs": [
    {
     "data": {
      "text/plain": [
       "(160901, 1)"
      ]
     },
     "execution_count": 136,
     "metadata": {},
     "output_type": "execute_result"
    }
   ],
   "source": [
    "rating_count_sorted.shape"
   ]
  },
  {
   "cell_type": "code",
   "execution_count": 137,
   "id": "c0d9d8dc",
   "metadata": {},
   "outputs": [
    {
     "data": {
      "text/html": [
       "<div>\n",
       "<style scoped>\n",
       "    .dataframe tbody tr th:only-of-type {\n",
       "        vertical-align: middle;\n",
       "    }\n",
       "\n",
       "    .dataframe tbody tr th {\n",
       "        vertical-align: top;\n",
       "    }\n",
       "\n",
       "    .dataframe thead th {\n",
       "        text-align: right;\n",
       "    }\n",
       "</style>\n",
       "<table border=\"1\" class=\"dataframe\">\n",
       "  <thead>\n",
       "    <tr style=\"text-align: right;\">\n",
       "      <th></th>\n",
       "      <th>rating</th>\n",
       "    </tr>\n",
       "    <tr>\n",
       "      <th>recipe_id</th>\n",
       "      <th></th>\n",
       "    </tr>\n",
       "  </thead>\n",
       "  <tbody>\n",
       "    <tr>\n",
       "      <th>27208</th>\n",
       "      <td>1091</td>\n",
       "    </tr>\n",
       "    <tr>\n",
       "      <th>89204</th>\n",
       "      <td>1075</td>\n",
       "    </tr>\n",
       "    <tr>\n",
       "      <th>32204</th>\n",
       "      <td>897</td>\n",
       "    </tr>\n",
       "    <tr>\n",
       "      <th>39087</th>\n",
       "      <td>894</td>\n",
       "    </tr>\n",
       "    <tr>\n",
       "      <th>69173</th>\n",
       "      <td>787</td>\n",
       "    </tr>\n",
       "    <tr>\n",
       "      <th>...</th>\n",
       "      <td>...</td>\n",
       "    </tr>\n",
       "    <tr>\n",
       "      <th>252202</th>\n",
       "      <td>1</td>\n",
       "    </tr>\n",
       "    <tr>\n",
       "      <th>252194</th>\n",
       "      <td>1</td>\n",
       "    </tr>\n",
       "    <tr>\n",
       "      <th>252185</th>\n",
       "      <td>1</td>\n",
       "    </tr>\n",
       "    <tr>\n",
       "      <th>252184</th>\n",
       "      <td>1</td>\n",
       "    </tr>\n",
       "    <tr>\n",
       "      <th>537458</th>\n",
       "      <td>1</td>\n",
       "    </tr>\n",
       "  </tbody>\n",
       "</table>\n",
       "<p>160901 rows × 1 columns</p>\n",
       "</div>"
      ],
      "text/plain": [
       "           rating\n",
       "recipe_id        \n",
       "27208        1091\n",
       "89204        1075\n",
       "32204         897\n",
       "39087         894\n",
       "69173         787\n",
       "...           ...\n",
       "252202          1\n",
       "252194          1\n",
       "252185          1\n",
       "252184          1\n",
       "537458          1\n",
       "\n",
       "[160901 rows x 1 columns]"
      ]
     },
     "execution_count": 137,
     "metadata": {},
     "output_type": "execute_result"
    }
   ],
   "source": [
    "rating_count_sorted"
   ]
  },
  {
   "cell_type": "code",
   "execution_count": 156,
   "id": "2a16b327",
   "metadata": {},
   "outputs": [],
   "source": [
    "min_recipe_id = rating_count_sorted[rating_count_sorted['rating'] < 4]"
   ]
  },
  {
   "cell_type": "code",
   "execution_count": 157,
   "id": "6991c930",
   "metadata": {},
   "outputs": [
    {
     "data": {
      "text/html": [
       "<div>\n",
       "<style scoped>\n",
       "    .dataframe tbody tr th:only-of-type {\n",
       "        vertical-align: middle;\n",
       "    }\n",
       "\n",
       "    .dataframe tbody tr th {\n",
       "        vertical-align: top;\n",
       "    }\n",
       "\n",
       "    .dataframe thead th {\n",
       "        text-align: right;\n",
       "    }\n",
       "</style>\n",
       "<table border=\"1\" class=\"dataframe\">\n",
       "  <thead>\n",
       "    <tr style=\"text-align: right;\">\n",
       "      <th></th>\n",
       "      <th>rating</th>\n",
       "    </tr>\n",
       "    <tr>\n",
       "      <th>recipe_id</th>\n",
       "      <th></th>\n",
       "    </tr>\n",
       "  </thead>\n",
       "  <tbody>\n",
       "    <tr>\n",
       "      <th>365442</th>\n",
       "      <td>3</td>\n",
       "    </tr>\n",
       "    <tr>\n",
       "      <th>369686</th>\n",
       "      <td>3</td>\n",
       "    </tr>\n",
       "    <tr>\n",
       "      <th>362951</th>\n",
       "      <td>3</td>\n",
       "    </tr>\n",
       "    <tr>\n",
       "      <th>370126</th>\n",
       "      <td>3</td>\n",
       "    </tr>\n",
       "    <tr>\n",
       "      <th>154520</th>\n",
       "      <td>3</td>\n",
       "    </tr>\n",
       "    <tr>\n",
       "      <th>...</th>\n",
       "      <td>...</td>\n",
       "    </tr>\n",
       "    <tr>\n",
       "      <th>252202</th>\n",
       "      <td>1</td>\n",
       "    </tr>\n",
       "    <tr>\n",
       "      <th>252194</th>\n",
       "      <td>1</td>\n",
       "    </tr>\n",
       "    <tr>\n",
       "      <th>252185</th>\n",
       "      <td>1</td>\n",
       "    </tr>\n",
       "    <tr>\n",
       "      <th>252184</th>\n",
       "      <td>1</td>\n",
       "    </tr>\n",
       "    <tr>\n",
       "      <th>537458</th>\n",
       "      <td>1</td>\n",
       "    </tr>\n",
       "  </tbody>\n",
       "</table>\n",
       "<p>115873 rows × 1 columns</p>\n",
       "</div>"
      ],
      "text/plain": [
       "           rating\n",
       "recipe_id        \n",
       "365442          3\n",
       "369686          3\n",
       "362951          3\n",
       "370126          3\n",
       "154520          3\n",
       "...           ...\n",
       "252202          1\n",
       "252194          1\n",
       "252185          1\n",
       "252184          1\n",
       "537458          1\n",
       "\n",
       "[115873 rows x 1 columns]"
      ]
     },
     "execution_count": 157,
     "metadata": {},
     "output_type": "execute_result"
    }
   ],
   "source": [
    "min_recipe_id"
   ]
  },
  {
   "cell_type": "code",
   "execution_count": 158,
   "id": "7ac20629",
   "metadata": {},
   "outputs": [],
   "source": [
    "rating_count = pd.DataFrame(data_train.groupby('user_id')['rating'].count())\n",
    "rating_count_sorted = rating_count.sort_values('rating', ascending=False)"
   ]
  },
  {
   "cell_type": "code",
   "execution_count": 159,
   "id": "2048bf01",
   "metadata": {},
   "outputs": [
    {
     "data": {
      "text/plain": [
       "(25076, 1)"
      ]
     },
     "execution_count": 159,
     "metadata": {},
     "output_type": "execute_result"
    }
   ],
   "source": [
    "rating_count_sorted.shape"
   ]
  },
  {
   "cell_type": "code",
   "execution_count": 160,
   "id": "74b767a7",
   "metadata": {},
   "outputs": [
    {
     "data": {
      "text/html": [
       "<div>\n",
       "<style scoped>\n",
       "    .dataframe tbody tr th:only-of-type {\n",
       "        vertical-align: middle;\n",
       "    }\n",
       "\n",
       "    .dataframe tbody tr th {\n",
       "        vertical-align: top;\n",
       "    }\n",
       "\n",
       "    .dataframe thead th {\n",
       "        text-align: right;\n",
       "    }\n",
       "</style>\n",
       "<table border=\"1\" class=\"dataframe\">\n",
       "  <thead>\n",
       "    <tr style=\"text-align: right;\">\n",
       "      <th></th>\n",
       "      <th>rating</th>\n",
       "    </tr>\n",
       "    <tr>\n",
       "      <th>user_id</th>\n",
       "      <th></th>\n",
       "    </tr>\n",
       "  </thead>\n",
       "  <tbody>\n",
       "    <tr>\n",
       "      <th>424680</th>\n",
       "      <td>6437</td>\n",
       "    </tr>\n",
       "    <tr>\n",
       "      <th>37449</th>\n",
       "      <td>4581</td>\n",
       "    </tr>\n",
       "    <tr>\n",
       "      <th>383346</th>\n",
       "      <td>3656</td>\n",
       "    </tr>\n",
       "    <tr>\n",
       "      <th>169430</th>\n",
       "      <td>3465</td>\n",
       "    </tr>\n",
       "    <tr>\n",
       "      <th>128473</th>\n",
       "      <td>3338</td>\n",
       "    </tr>\n",
       "    <tr>\n",
       "      <th>...</th>\n",
       "      <td>...</td>\n",
       "    </tr>\n",
       "    <tr>\n",
       "      <th>1228709</th>\n",
       "      <td>2</td>\n",
       "    </tr>\n",
       "    <tr>\n",
       "      <th>244645</th>\n",
       "      <td>2</td>\n",
       "    </tr>\n",
       "    <tr>\n",
       "      <th>1228365</th>\n",
       "      <td>2</td>\n",
       "    </tr>\n",
       "    <tr>\n",
       "      <th>244637</th>\n",
       "      <td>2</td>\n",
       "    </tr>\n",
       "    <tr>\n",
       "      <th>2002312797</th>\n",
       "      <td>2</td>\n",
       "    </tr>\n",
       "  </tbody>\n",
       "</table>\n",
       "<p>25076 rows × 1 columns</p>\n",
       "</div>"
      ],
      "text/plain": [
       "            rating\n",
       "user_id           \n",
       "424680        6437\n",
       "37449         4581\n",
       "383346        3656\n",
       "169430        3465\n",
       "128473        3338\n",
       "...            ...\n",
       "1228709          2\n",
       "244645           2\n",
       "1228365          2\n",
       "244637           2\n",
       "2002312797       2\n",
       "\n",
       "[25076 rows x 1 columns]"
      ]
     },
     "execution_count": 160,
     "metadata": {},
     "output_type": "execute_result"
    }
   ],
   "source": [
    "rating_count_sorted"
   ]
  },
  {
   "cell_type": "code",
   "execution_count": 163,
   "id": "b2306ca8",
   "metadata": {},
   "outputs": [],
   "source": [
    "min_user_id = rating_count_sorted[rating_count_sorted['rating'] < 5]"
   ]
  },
  {
   "cell_type": "code",
   "execution_count": 164,
   "id": "9fee261d",
   "metadata": {},
   "outputs": [
    {
     "data": {
      "text/html": [
       "<div>\n",
       "<style scoped>\n",
       "    .dataframe tbody tr th:only-of-type {\n",
       "        vertical-align: middle;\n",
       "    }\n",
       "\n",
       "    .dataframe tbody tr th {\n",
       "        vertical-align: top;\n",
       "    }\n",
       "\n",
       "    .dataframe thead th {\n",
       "        text-align: right;\n",
       "    }\n",
       "</style>\n",
       "<table border=\"1\" class=\"dataframe\">\n",
       "  <thead>\n",
       "    <tr style=\"text-align: right;\">\n",
       "      <th></th>\n",
       "      <th>rating</th>\n",
       "    </tr>\n",
       "    <tr>\n",
       "      <th>user_id</th>\n",
       "      <th></th>\n",
       "    </tr>\n",
       "  </thead>\n",
       "  <tbody>\n",
       "    <tr>\n",
       "      <th>262649</th>\n",
       "      <td>4</td>\n",
       "    </tr>\n",
       "    <tr>\n",
       "      <th>625299</th>\n",
       "      <td>4</td>\n",
       "    </tr>\n",
       "    <tr>\n",
       "      <th>163884</th>\n",
       "      <td>4</td>\n",
       "    </tr>\n",
       "    <tr>\n",
       "      <th>176798</th>\n",
       "      <td>4</td>\n",
       "    </tr>\n",
       "    <tr>\n",
       "      <th>191169</th>\n",
       "      <td>4</td>\n",
       "    </tr>\n",
       "    <tr>\n",
       "      <th>...</th>\n",
       "      <td>...</td>\n",
       "    </tr>\n",
       "    <tr>\n",
       "      <th>1228709</th>\n",
       "      <td>2</td>\n",
       "    </tr>\n",
       "    <tr>\n",
       "      <th>244645</th>\n",
       "      <td>2</td>\n",
       "    </tr>\n",
       "    <tr>\n",
       "      <th>1228365</th>\n",
       "      <td>2</td>\n",
       "    </tr>\n",
       "    <tr>\n",
       "      <th>244637</th>\n",
       "      <td>2</td>\n",
       "    </tr>\n",
       "    <tr>\n",
       "      <th>2002312797</th>\n",
       "      <td>2</td>\n",
       "    </tr>\n",
       "  </tbody>\n",
       "</table>\n",
       "<p>10015 rows × 1 columns</p>\n",
       "</div>"
      ],
      "text/plain": [
       "            rating\n",
       "user_id           \n",
       "262649           4\n",
       "625299           4\n",
       "163884           4\n",
       "176798           4\n",
       "191169           4\n",
       "...            ...\n",
       "1228709          2\n",
       "244645           2\n",
       "1228365          2\n",
       "244637           2\n",
       "2002312797       2\n",
       "\n",
       "[10015 rows x 1 columns]"
      ]
     },
     "execution_count": 164,
     "metadata": {},
     "output_type": "execute_result"
    }
   ],
   "source": [
    "min_user_id"
   ]
  },
  {
   "cell_type": "code",
   "execution_count": null,
   "id": "76e3a961",
   "metadata": {},
   "outputs": [],
   "source": []
  },
  {
   "cell_type": "code",
   "execution_count": 193,
   "id": "98f4c67c",
   "metadata": {},
   "outputs": [
    {
     "data": {
      "text/html": [
       "<div>\n",
       "<style scoped>\n",
       "    .dataframe tbody tr th:only-of-type {\n",
       "        vertical-align: middle;\n",
       "    }\n",
       "\n",
       "    .dataframe tbody tr th {\n",
       "        vertical-align: top;\n",
       "    }\n",
       "\n",
       "    .dataframe thead th {\n",
       "        text-align: right;\n",
       "    }\n",
       "</style>\n",
       "<table border=\"1\" class=\"dataframe\">\n",
       "  <thead>\n",
       "    <tr style=\"text-align: right;\">\n",
       "      <th></th>\n",
       "      <th>user_id</th>\n",
       "      <th>recipe_id</th>\n",
       "      <th>rating</th>\n",
       "    </tr>\n",
       "  </thead>\n",
       "  <tbody>\n",
       "    <tr>\n",
       "      <th>6</th>\n",
       "      <td>2312</td>\n",
       "      <td>780</td>\n",
       "      <td>5.0</td>\n",
       "    </tr>\n",
       "    <tr>\n",
       "      <th>12</th>\n",
       "      <td>2999</td>\n",
       "      <td>3567</td>\n",
       "      <td>5.0</td>\n",
       "    </tr>\n",
       "    <tr>\n",
       "      <th>13</th>\n",
       "      <td>2178</td>\n",
       "      <td>3704</td>\n",
       "      <td>3.0</td>\n",
       "    </tr>\n",
       "    <tr>\n",
       "      <th>14</th>\n",
       "      <td>2178</td>\n",
       "      <td>4366</td>\n",
       "      <td>5.0</td>\n",
       "    </tr>\n",
       "    <tr>\n",
       "      <th>18</th>\n",
       "      <td>2312</td>\n",
       "      <td>3651</td>\n",
       "      <td>5.0</td>\n",
       "    </tr>\n",
       "    <tr>\n",
       "      <th>...</th>\n",
       "      <td>...</td>\n",
       "      <td>...</td>\n",
       "      <td>...</td>\n",
       "    </tr>\n",
       "    <tr>\n",
       "      <th>698891</th>\n",
       "      <td>2001513060</td>\n",
       "      <td>192495</td>\n",
       "      <td>5.0</td>\n",
       "    </tr>\n",
       "    <tr>\n",
       "      <th>698893</th>\n",
       "      <td>527509</td>\n",
       "      <td>78552</td>\n",
       "      <td>2.0</td>\n",
       "    </tr>\n",
       "    <tr>\n",
       "      <th>698895</th>\n",
       "      <td>454804</td>\n",
       "      <td>20713</td>\n",
       "      <td>0.0</td>\n",
       "    </tr>\n",
       "    <tr>\n",
       "      <th>698898</th>\n",
       "      <td>1290903</td>\n",
       "      <td>131607</td>\n",
       "      <td>5.0</td>\n",
       "    </tr>\n",
       "    <tr>\n",
       "      <th>698899</th>\n",
       "      <td>226867</td>\n",
       "      <td>363072</td>\n",
       "      <td>5.0</td>\n",
       "    </tr>\n",
       "  </tbody>\n",
       "</table>\n",
       "<p>445739 rows × 3 columns</p>\n",
       "</div>"
      ],
      "text/plain": [
       "           user_id  recipe_id  rating\n",
       "6             2312        780     5.0\n",
       "12            2999       3567     5.0\n",
       "13            2178       3704     3.0\n",
       "14            2178       4366     5.0\n",
       "18            2312       3651     5.0\n",
       "...            ...        ...     ...\n",
       "698891  2001513060     192495     5.0\n",
       "698893      527509      78552     2.0\n",
       "698895      454804      20713     0.0\n",
       "698898     1290903     131607     5.0\n",
       "698899      226867     363072     5.0\n",
       "\n",
       "[445739 rows x 3 columns]"
      ]
     },
     "execution_count": 193,
     "metadata": {},
     "output_type": "execute_result"
    }
   ],
   "source": [
    "user_count = data_train['user_id'].value_counts()\n",
    "data_matrix_rows = data_train[data_train['user_id'].isin(user_count[user_count >= 5].index)]\n",
    "recipe_count = data_matrix_rows['recipe_id'].value_counts()\n",
    "data_vectors = data_matrix_rows[data_matrix_rows['recipe_id'].isin(recipe_count[recipe_count >= 5].index)]\n",
    "data_vectors"
   ]
  },
  {
   "cell_type": "code",
   "execution_count": 194,
   "id": "69069286",
   "metadata": {},
   "outputs": [
    {
     "name": "stdout",
     "output_type": "stream",
     "text": [
      "(445739, 3)\n",
      "15041\n",
      "33419\n"
     ]
    }
   ],
   "source": [
    "print(data_vectors.shape)\n",
    "print(len(data_vectors['user_id'].unique()))\n",
    "print(len(data_vectors['recipe_id'].unique()))"
   ]
  },
  {
   "cell_type": "code",
   "execution_count": 195,
   "id": "f00a40d8",
   "metadata": {},
   "outputs": [
    {
     "name": "stdout",
     "output_type": "stream",
     "text": [
      "(15041, 33419)\n"
     ]
    },
    {
     "data": {
      "text/html": [
       "<div>\n",
       "<style scoped>\n",
       "    .dataframe tbody tr th:only-of-type {\n",
       "        vertical-align: middle;\n",
       "    }\n",
       "\n",
       "    .dataframe tbody tr th {\n",
       "        vertical-align: top;\n",
       "    }\n",
       "\n",
       "    .dataframe thead th {\n",
       "        text-align: right;\n",
       "    }\n",
       "</style>\n",
       "<table border=\"1\" class=\"dataframe\">\n",
       "  <thead>\n",
       "    <tr style=\"text-align: right;\">\n",
       "      <th>recipe_id</th>\n",
       "      <th>40</th>\n",
       "      <th>49</th>\n",
       "      <th>58</th>\n",
       "      <th>62</th>\n",
       "      <th>66</th>\n",
       "      <th>92</th>\n",
       "      <th>93</th>\n",
       "      <th>112</th>\n",
       "      <th>142</th>\n",
       "      <th>143</th>\n",
       "      <th>...</th>\n",
       "      <th>518078</th>\n",
       "      <th>518143</th>\n",
       "      <th>518229</th>\n",
       "      <th>519802</th>\n",
       "      <th>522871</th>\n",
       "      <th>522889</th>\n",
       "      <th>524947</th>\n",
       "      <th>532736</th>\n",
       "      <th>532740</th>\n",
       "      <th>536119</th>\n",
       "    </tr>\n",
       "    <tr>\n",
       "      <th>user_id</th>\n",
       "      <th></th>\n",
       "      <th></th>\n",
       "      <th></th>\n",
       "      <th></th>\n",
       "      <th></th>\n",
       "      <th></th>\n",
       "      <th></th>\n",
       "      <th></th>\n",
       "      <th></th>\n",
       "      <th></th>\n",
       "      <th></th>\n",
       "      <th></th>\n",
       "      <th></th>\n",
       "      <th></th>\n",
       "      <th></th>\n",
       "      <th></th>\n",
       "      <th></th>\n",
       "      <th></th>\n",
       "      <th></th>\n",
       "      <th></th>\n",
       "      <th></th>\n",
       "    </tr>\n",
       "  </thead>\n",
       "  <tbody>\n",
       "    <tr>\n",
       "      <th>1533</th>\n",
       "      <td>NaN</td>\n",
       "      <td>NaN</td>\n",
       "      <td>NaN</td>\n",
       "      <td>NaN</td>\n",
       "      <td>NaN</td>\n",
       "      <td>NaN</td>\n",
       "      <td>NaN</td>\n",
       "      <td>NaN</td>\n",
       "      <td>NaN</td>\n",
       "      <td>NaN</td>\n",
       "      <td>...</td>\n",
       "      <td>NaN</td>\n",
       "      <td>NaN</td>\n",
       "      <td>NaN</td>\n",
       "      <td>NaN</td>\n",
       "      <td>NaN</td>\n",
       "      <td>NaN</td>\n",
       "      <td>NaN</td>\n",
       "      <td>NaN</td>\n",
       "      <td>NaN</td>\n",
       "      <td>NaN</td>\n",
       "    </tr>\n",
       "    <tr>\n",
       "      <th>1535</th>\n",
       "      <td>NaN</td>\n",
       "      <td>NaN</td>\n",
       "      <td>NaN</td>\n",
       "      <td>NaN</td>\n",
       "      <td>NaN</td>\n",
       "      <td>NaN</td>\n",
       "      <td>NaN</td>\n",
       "      <td>NaN</td>\n",
       "      <td>NaN</td>\n",
       "      <td>NaN</td>\n",
       "      <td>...</td>\n",
       "      <td>NaN</td>\n",
       "      <td>NaN</td>\n",
       "      <td>NaN</td>\n",
       "      <td>NaN</td>\n",
       "      <td>NaN</td>\n",
       "      <td>NaN</td>\n",
       "      <td>NaN</td>\n",
       "      <td>NaN</td>\n",
       "      <td>NaN</td>\n",
       "      <td>NaN</td>\n",
       "    </tr>\n",
       "    <tr>\n",
       "      <th>1634</th>\n",
       "      <td>NaN</td>\n",
       "      <td>NaN</td>\n",
       "      <td>NaN</td>\n",
       "      <td>NaN</td>\n",
       "      <td>NaN</td>\n",
       "      <td>NaN</td>\n",
       "      <td>NaN</td>\n",
       "      <td>NaN</td>\n",
       "      <td>NaN</td>\n",
       "      <td>NaN</td>\n",
       "      <td>...</td>\n",
       "      <td>NaN</td>\n",
       "      <td>NaN</td>\n",
       "      <td>NaN</td>\n",
       "      <td>NaN</td>\n",
       "      <td>NaN</td>\n",
       "      <td>NaN</td>\n",
       "      <td>NaN</td>\n",
       "      <td>NaN</td>\n",
       "      <td>NaN</td>\n",
       "      <td>NaN</td>\n",
       "    </tr>\n",
       "    <tr>\n",
       "      <th>1676</th>\n",
       "      <td>NaN</td>\n",
       "      <td>NaN</td>\n",
       "      <td>NaN</td>\n",
       "      <td>NaN</td>\n",
       "      <td>NaN</td>\n",
       "      <td>NaN</td>\n",
       "      <td>NaN</td>\n",
       "      <td>NaN</td>\n",
       "      <td>NaN</td>\n",
       "      <td>NaN</td>\n",
       "      <td>...</td>\n",
       "      <td>NaN</td>\n",
       "      <td>NaN</td>\n",
       "      <td>NaN</td>\n",
       "      <td>NaN</td>\n",
       "      <td>NaN</td>\n",
       "      <td>NaN</td>\n",
       "      <td>NaN</td>\n",
       "      <td>NaN</td>\n",
       "      <td>NaN</td>\n",
       "      <td>NaN</td>\n",
       "    </tr>\n",
       "    <tr>\n",
       "      <th>1792</th>\n",
       "      <td>NaN</td>\n",
       "      <td>NaN</td>\n",
       "      <td>NaN</td>\n",
       "      <td>NaN</td>\n",
       "      <td>NaN</td>\n",
       "      <td>NaN</td>\n",
       "      <td>NaN</td>\n",
       "      <td>NaN</td>\n",
       "      <td>NaN</td>\n",
       "      <td>NaN</td>\n",
       "      <td>...</td>\n",
       "      <td>NaN</td>\n",
       "      <td>NaN</td>\n",
       "      <td>NaN</td>\n",
       "      <td>NaN</td>\n",
       "      <td>NaN</td>\n",
       "      <td>NaN</td>\n",
       "      <td>NaN</td>\n",
       "      <td>NaN</td>\n",
       "      <td>NaN</td>\n",
       "      <td>NaN</td>\n",
       "    </tr>\n",
       "  </tbody>\n",
       "</table>\n",
       "<p>5 rows × 33419 columns</p>\n",
       "</div>"
      ],
      "text/plain": [
       "recipe_id  40      49      58      62      66      92      93      112     \\\n",
       "user_id                                                                     \n",
       "1533          NaN     NaN     NaN     NaN     NaN     NaN     NaN     NaN   \n",
       "1535          NaN     NaN     NaN     NaN     NaN     NaN     NaN     NaN   \n",
       "1634          NaN     NaN     NaN     NaN     NaN     NaN     NaN     NaN   \n",
       "1676          NaN     NaN     NaN     NaN     NaN     NaN     NaN     NaN   \n",
       "1792          NaN     NaN     NaN     NaN     NaN     NaN     NaN     NaN   \n",
       "\n",
       "recipe_id  142     143     ...  518078  518143  518229  519802  522871  \\\n",
       "user_id                    ...                                           \n",
       "1533          NaN     NaN  ...     NaN     NaN     NaN     NaN     NaN   \n",
       "1535          NaN     NaN  ...     NaN     NaN     NaN     NaN     NaN   \n",
       "1634          NaN     NaN  ...     NaN     NaN     NaN     NaN     NaN   \n",
       "1676          NaN     NaN  ...     NaN     NaN     NaN     NaN     NaN   \n",
       "1792          NaN     NaN  ...     NaN     NaN     NaN     NaN     NaN   \n",
       "\n",
       "recipe_id  522889  524947  532736  532740  536119  \n",
       "user_id                                            \n",
       "1533          NaN     NaN     NaN     NaN     NaN  \n",
       "1535          NaN     NaN     NaN     NaN     NaN  \n",
       "1634          NaN     NaN     NaN     NaN     NaN  \n",
       "1676          NaN     NaN     NaN     NaN     NaN  \n",
       "1792          NaN     NaN     NaN     NaN     NaN  \n",
       "\n",
       "[5 rows x 33419 columns]"
      ]
     },
     "execution_count": 195,
     "metadata": {},
     "output_type": "execute_result"
    }
   ],
   "source": [
    "data_matrix = data_vectors.pivot(index='user_id', columns='recipe_id').rating\n",
    "U_ID = data_matrix.index\n",
    "R_ID = data_matrix.columns\n",
    "print(data_matrix.shape)\n",
    "data_matrix.head()"
   ]
  },
  {
   "cell_type": "code",
   "execution_count": 197,
   "id": "d0dfb80a",
   "metadata": {},
   "outputs": [
    {
     "data": {
      "text/plain": [
       "<surprise.dataset.DatasetAutoFolds at 0x7fead82f2670>"
      ]
     },
     "execution_count": 197,
     "metadata": {},
     "output_type": "execute_result"
    }
   ],
   "source": [
    "train_set = Dataset.load_from_df(data_vectors[['user_id', 'recipe_id', 'rating']], reader)\n",
    "train_set"
   ]
  },
  {
   "cell_type": "code",
   "execution_count": 218,
   "id": "717f1355",
   "metadata": {},
   "outputs": [
    {
     "data": {
      "text/plain": [
       "<surprise.trainset.Trainset at 0x7feaa980d6d0>"
      ]
     },
     "execution_count": 218,
     "metadata": {},
     "output_type": "execute_result"
    }
   ],
   "source": [
    "train_set.build_full_trainset()"
   ]
  },
  {
   "cell_type": "code",
   "execution_count": 219,
   "id": "7a9ae6b8",
   "metadata": {},
   "outputs": [],
   "source": [
    "fold_numbers = 5"
   ]
  },
  {
   "cell_type": "code",
   "execution_count": 220,
   "id": "761665b2",
   "metadata": {},
   "outputs": [],
   "source": [
    "param_grid = {'k':[10, 20], \n",
    "              'sim_options' :  {'name': ['cosine', 'pearson'], \n",
    "                                          'user_based': [True]}\n",
    "              }"
   ]
  },
  {
   "cell_type": "code",
   "execution_count": 222,
   "id": "828debcb",
   "metadata": {},
   "outputs": [],
   "source": [
    "model = GridSearchCV(KNNWithMeans, param_grid, measures = ['rmse'], cv = fold_numbers)"
   ]
  },
  {
   "cell_type": "code",
   "execution_count": 224,
   "id": "e4a410bc",
   "metadata": {},
   "outputs": [
    {
     "name": "stdout",
     "output_type": "stream",
     "text": [
      "Computing the cosine similarity matrix...\n"
     ]
    },
    {
     "name": "stderr",
     "output_type": "stream",
     "text": [
      "/Users/ambuj/opt/anaconda3/envs/scrapping/lib/python3.8/site-packages/surprise/prediction_algorithms/algo_base.py:249: RuntimeWarning: invalid value encountered in double_scalars\n",
      "  sim = construction_func[name](*args)\n"
     ]
    },
    {
     "name": "stdout",
     "output_type": "stream",
     "text": [
      "Done computing similarity matrix.\n",
      "Computing the cosine similarity matrix...\n",
      "Done computing similarity matrix.\n",
      "Computing the cosine similarity matrix...\n",
      "Done computing similarity matrix.\n",
      "Computing the cosine similarity matrix...\n",
      "Done computing similarity matrix.\n",
      "Computing the cosine similarity matrix...\n",
      "Done computing similarity matrix.\n",
      "Computing the cosine similarity matrix...\n",
      "Done computing similarity matrix.\n",
      "Computing the cosine similarity matrix...\n",
      "Done computing similarity matrix.\n",
      "Computing the cosine similarity matrix...\n",
      "Done computing similarity matrix.\n",
      "Computing the cosine similarity matrix...\n",
      "Done computing similarity matrix.\n",
      "Computing the cosine similarity matrix...\n",
      "Done computing similarity matrix.\n",
      "Computing the pearson similarity matrix...\n",
      "Done computing similarity matrix.\n",
      "Computing the pearson similarity matrix...\n",
      "Done computing similarity matrix.\n",
      "Computing the pearson similarity matrix...\n",
      "Done computing similarity matrix.\n",
      "Computing the pearson similarity matrix...\n",
      "Done computing similarity matrix.\n",
      "Computing the pearson similarity matrix...\n",
      "Done computing similarity matrix.\n",
      "Computing the pearson similarity matrix...\n",
      "Done computing similarity matrix.\n",
      "Computing the pearson similarity matrix...\n",
      "Done computing similarity matrix.\n",
      "Computing the pearson similarity matrix...\n",
      "Done computing similarity matrix.\n",
      "Computing the pearson similarity matrix...\n",
      "Done computing similarity matrix.\n",
      "Computing the pearson similarity matrix...\n",
      "Done computing similarity matrix.\n",
      "Computing the cosine similarity matrix...\n",
      "Done computing similarity matrix.\n",
      "Computing the cosine similarity matrix...\n",
      "Done computing similarity matrix.\n",
      "Computing the cosine similarity matrix...\n",
      "Done computing similarity matrix.\n",
      "Computing the cosine similarity matrix...\n",
      "Done computing similarity matrix.\n",
      "Computing the cosine similarity matrix...\n",
      "Done computing similarity matrix.\n",
      "Computing the cosine similarity matrix...\n",
      "Done computing similarity matrix.\n",
      "Computing the cosine similarity matrix...\n",
      "Done computing similarity matrix.\n",
      "Computing the cosine similarity matrix...\n",
      "Done computing similarity matrix.\n",
      "Computing the cosine similarity matrix...\n",
      "Done computing similarity matrix.\n",
      "Computing the cosine similarity matrix...\n",
      "Done computing similarity matrix.\n",
      "Computing the pearson similarity matrix...\n",
      "Done computing similarity matrix.\n",
      "Computing the pearson similarity matrix...\n",
      "Done computing similarity matrix.\n",
      "Computing the pearson similarity matrix...\n",
      "Done computing similarity matrix.\n",
      "Computing the pearson similarity matrix...\n",
      "Done computing similarity matrix.\n",
      "Computing the pearson similarity matrix...\n",
      "Done computing similarity matrix.\n",
      "Computing the pearson similarity matrix...\n",
      "Done computing similarity matrix.\n",
      "Computing the pearson similarity matrix...\n",
      "Done computing similarity matrix.\n",
      "Computing the pearson similarity matrix...\n",
      "Done computing similarity matrix.\n",
      "Computing the pearson similarity matrix...\n",
      "Done computing similarity matrix.\n",
      "Computing the pearson similarity matrix...\n",
      "Done computing similarity matrix.\n"
     ]
    }
   ],
   "source": [
    "model.fit(train_set)"
   ]
  },
  {
   "cell_type": "code",
   "execution_count": 225,
   "id": "363cfdc7",
   "metadata": {},
   "outputs": [
    {
     "name": "stdout",
     "output_type": "stream",
     "text": [
      "0.9288352089612417\n",
      "{'k': 20, 'sim_options': {'name': 'cosine', 'min_support': 5, 'user_based': True}}\n"
     ]
    }
   ],
   "source": [
    "print(model.best_score['rmse'])\n",
    "print(model.best_params['rmse'])"
   ]
  },
  {
   "cell_type": "code",
   "execution_count": 298,
   "id": "9aa29317",
   "metadata": {},
   "outputs": [
    {
     "data": {
      "text/html": [
       "<div>\n",
       "<style scoped>\n",
       "    .dataframe tbody tr th:only-of-type {\n",
       "        vertical-align: middle;\n",
       "    }\n",
       "\n",
       "    .dataframe tbody tr th {\n",
       "        vertical-align: top;\n",
       "    }\n",
       "\n",
       "    .dataframe thead th {\n",
       "        text-align: right;\n",
       "    }\n",
       "</style>\n",
       "<table border=\"1\" class=\"dataframe\">\n",
       "  <thead>\n",
       "    <tr style=\"text-align: right;\">\n",
       "      <th></th>\n",
       "      <th>split0_test_rmse</th>\n",
       "      <th>split1_test_rmse</th>\n",
       "      <th>split2_test_rmse</th>\n",
       "      <th>split3_test_rmse</th>\n",
       "      <th>split4_test_rmse</th>\n",
       "      <th>mean_test_rmse</th>\n",
       "      <th>std_test_rmse</th>\n",
       "      <th>rank_test_rmse</th>\n",
       "      <th>mean_fit_time</th>\n",
       "      <th>std_fit_time</th>\n",
       "      <th>mean_test_time</th>\n",
       "      <th>std_test_time</th>\n",
       "      <th>params</th>\n",
       "      <th>param_k</th>\n",
       "      <th>param_sim_options</th>\n",
       "    </tr>\n",
       "  </thead>\n",
       "  <tbody>\n",
       "    <tr>\n",
       "      <th>0</th>\n",
       "      <td>0.944057</td>\n",
       "      <td>0.943169</td>\n",
       "      <td>0.952482</td>\n",
       "      <td>0.940116</td>\n",
       "      <td>0.932896</td>\n",
       "      <td>0.942544</td>\n",
       "      <td>0.006331</td>\n",
       "      <td>6</td>\n",
       "      <td>39.053105</td>\n",
       "      <td>0.817186</td>\n",
       "      <td>3.694915</td>\n",
       "      <td>0.558873</td>\n",
       "      <td>{'k': 10, 'sim_options': {'name': 'cosine', 'm...</td>\n",
       "      <td>10</td>\n",
       "      <td>{'name': 'cosine', 'min_support': 1, 'user_bas...</td>\n",
       "    </tr>\n",
       "    <tr>\n",
       "      <th>1</th>\n",
       "      <td>0.930804</td>\n",
       "      <td>0.926558</td>\n",
       "      <td>0.940327</td>\n",
       "      <td>0.927777</td>\n",
       "      <td>0.921484</td>\n",
       "      <td>0.929390</td>\n",
       "      <td>0.006241</td>\n",
       "      <td>2</td>\n",
       "      <td>32.801370</td>\n",
       "      <td>0.643254</td>\n",
       "      <td>3.272006</td>\n",
       "      <td>0.531005</td>\n",
       "      <td>{'k': 10, 'sim_options': {'name': 'cosine', 'm...</td>\n",
       "      <td>10</td>\n",
       "      <td>{'name': 'cosine', 'min_support': 5, 'user_bas...</td>\n",
       "    </tr>\n",
       "    <tr>\n",
       "      <th>2</th>\n",
       "      <td>0.948869</td>\n",
       "      <td>0.943936</td>\n",
       "      <td>0.955099</td>\n",
       "      <td>0.946284</td>\n",
       "      <td>0.938612</td>\n",
       "      <td>0.946560</td>\n",
       "      <td>0.005447</td>\n",
       "      <td>8</td>\n",
       "      <td>62.045435</td>\n",
       "      <td>0.245374</td>\n",
       "      <td>3.295150</td>\n",
       "      <td>0.518707</td>\n",
       "      <td>{'k': 10, 'sim_options': {'name': 'pearson', '...</td>\n",
       "      <td>10</td>\n",
       "      <td>{'name': 'pearson', 'min_support': 1, 'user_ba...</td>\n",
       "    </tr>\n",
       "    <tr>\n",
       "      <th>3</th>\n",
       "      <td>0.933646</td>\n",
       "      <td>0.926224</td>\n",
       "      <td>0.939278</td>\n",
       "      <td>0.928844</td>\n",
       "      <td>0.923425</td>\n",
       "      <td>0.930284</td>\n",
       "      <td>0.005618</td>\n",
       "      <td>4</td>\n",
       "      <td>55.939157</td>\n",
       "      <td>0.823176</td>\n",
       "      <td>3.239768</td>\n",
       "      <td>0.515619</td>\n",
       "      <td>{'k': 10, 'sim_options': {'name': 'pearson', '...</td>\n",
       "      <td>10</td>\n",
       "      <td>{'name': 'pearson', 'min_support': 5, 'user_ba...</td>\n",
       "    </tr>\n",
       "    <tr>\n",
       "      <th>4</th>\n",
       "      <td>0.939505</td>\n",
       "      <td>0.938691</td>\n",
       "      <td>0.948418</td>\n",
       "      <td>0.936198</td>\n",
       "      <td>0.928424</td>\n",
       "      <td>0.938247</td>\n",
       "      <td>0.006417</td>\n",
       "      <td>5</td>\n",
       "      <td>40.012297</td>\n",
       "      <td>0.135265</td>\n",
       "      <td>3.971408</td>\n",
       "      <td>0.490106</td>\n",
       "      <td>{'k': 20, 'sim_options': {'name': 'cosine', 'm...</td>\n",
       "      <td>20</td>\n",
       "      <td>{'name': 'cosine', 'min_support': 1, 'user_bas...</td>\n",
       "    </tr>\n",
       "    <tr>\n",
       "      <th>5</th>\n",
       "      <td>0.930171</td>\n",
       "      <td>0.926094</td>\n",
       "      <td>0.939696</td>\n",
       "      <td>0.927256</td>\n",
       "      <td>0.920959</td>\n",
       "      <td>0.928835</td>\n",
       "      <td>0.006194</td>\n",
       "      <td>1</td>\n",
       "      <td>34.301400</td>\n",
       "      <td>0.687564</td>\n",
       "      <td>3.498059</td>\n",
       "      <td>0.506605</td>\n",
       "      <td>{'k': 20, 'sim_options': {'name': 'cosine', 'm...</td>\n",
       "      <td>20</td>\n",
       "      <td>{'name': 'cosine', 'min_support': 5, 'user_bas...</td>\n",
       "    </tr>\n",
       "    <tr>\n",
       "      <th>6</th>\n",
       "      <td>0.948604</td>\n",
       "      <td>0.943731</td>\n",
       "      <td>0.954751</td>\n",
       "      <td>0.946065</td>\n",
       "      <td>0.938349</td>\n",
       "      <td>0.946300</td>\n",
       "      <td>0.005415</td>\n",
       "      <td>7</td>\n",
       "      <td>62.807488</td>\n",
       "      <td>0.440247</td>\n",
       "      <td>3.450882</td>\n",
       "      <td>0.513586</td>\n",
       "      <td>{'k': 20, 'sim_options': {'name': 'pearson', '...</td>\n",
       "      <td>20</td>\n",
       "      <td>{'name': 'pearson', 'min_support': 1, 'user_ba...</td>\n",
       "    </tr>\n",
       "    <tr>\n",
       "      <th>7</th>\n",
       "      <td>0.933618</td>\n",
       "      <td>0.926114</td>\n",
       "      <td>0.939166</td>\n",
       "      <td>0.928790</td>\n",
       "      <td>0.923303</td>\n",
       "      <td>0.930198</td>\n",
       "      <td>0.005627</td>\n",
       "      <td>3</td>\n",
       "      <td>55.322825</td>\n",
       "      <td>0.545118</td>\n",
       "      <td>3.321091</td>\n",
       "      <td>0.486889</td>\n",
       "      <td>{'k': 20, 'sim_options': {'name': 'pearson', '...</td>\n",
       "      <td>20</td>\n",
       "      <td>{'name': 'pearson', 'min_support': 5, 'user_ba...</td>\n",
       "    </tr>\n",
       "  </tbody>\n",
       "</table>\n",
       "</div>"
      ],
      "text/plain": [
       "   split0_test_rmse  split1_test_rmse  split2_test_rmse  split3_test_rmse  \\\n",
       "0          0.944057          0.943169          0.952482          0.940116   \n",
       "1          0.930804          0.926558          0.940327          0.927777   \n",
       "2          0.948869          0.943936          0.955099          0.946284   \n",
       "3          0.933646          0.926224          0.939278          0.928844   \n",
       "4          0.939505          0.938691          0.948418          0.936198   \n",
       "5          0.930171          0.926094          0.939696          0.927256   \n",
       "6          0.948604          0.943731          0.954751          0.946065   \n",
       "7          0.933618          0.926114          0.939166          0.928790   \n",
       "\n",
       "   split4_test_rmse  mean_test_rmse  std_test_rmse  rank_test_rmse  \\\n",
       "0          0.932896        0.942544       0.006331               6   \n",
       "1          0.921484        0.929390       0.006241               2   \n",
       "2          0.938612        0.946560       0.005447               8   \n",
       "3          0.923425        0.930284       0.005618               4   \n",
       "4          0.928424        0.938247       0.006417               5   \n",
       "5          0.920959        0.928835       0.006194               1   \n",
       "6          0.938349        0.946300       0.005415               7   \n",
       "7          0.923303        0.930198       0.005627               3   \n",
       "\n",
       "   mean_fit_time  std_fit_time  mean_test_time  std_test_time  \\\n",
       "0      39.053105      0.817186        3.694915       0.558873   \n",
       "1      32.801370      0.643254        3.272006       0.531005   \n",
       "2      62.045435      0.245374        3.295150       0.518707   \n",
       "3      55.939157      0.823176        3.239768       0.515619   \n",
       "4      40.012297      0.135265        3.971408       0.490106   \n",
       "5      34.301400      0.687564        3.498059       0.506605   \n",
       "6      62.807488      0.440247        3.450882       0.513586   \n",
       "7      55.322825      0.545118        3.321091       0.486889   \n",
       "\n",
       "                                              params  param_k  \\\n",
       "0  {'k': 10, 'sim_options': {'name': 'cosine', 'm...       10   \n",
       "1  {'k': 10, 'sim_options': {'name': 'cosine', 'm...       10   \n",
       "2  {'k': 10, 'sim_options': {'name': 'pearson', '...       10   \n",
       "3  {'k': 10, 'sim_options': {'name': 'pearson', '...       10   \n",
       "4  {'k': 20, 'sim_options': {'name': 'cosine', 'm...       20   \n",
       "5  {'k': 20, 'sim_options': {'name': 'cosine', 'm...       20   \n",
       "6  {'k': 20, 'sim_options': {'name': 'pearson', '...       20   \n",
       "7  {'k': 20, 'sim_options': {'name': 'pearson', '...       20   \n",
       "\n",
       "                                   param_sim_options  \n",
       "0  {'name': 'cosine', 'min_support': 1, 'user_bas...  \n",
       "1  {'name': 'cosine', 'min_support': 5, 'user_bas...  \n",
       "2  {'name': 'pearson', 'min_support': 1, 'user_ba...  \n",
       "3  {'name': 'pearson', 'min_support': 5, 'user_ba...  \n",
       "4  {'name': 'cosine', 'min_support': 1, 'user_bas...  \n",
       "5  {'name': 'cosine', 'min_support': 5, 'user_bas...  \n",
       "6  {'name': 'pearson', 'min_support': 1, 'user_ba...  \n",
       "7  {'name': 'pearson', 'min_support': 5, 'user_ba...  "
      ]
     },
     "execution_count": 298,
     "metadata": {},
     "output_type": "execute_result"
    }
   ],
   "source": [
    "results = model.cv_results\n",
    "pd.DataFrame.from_dict(results)"
   ]
  },
  {
   "cell_type": "code",
   "execution_count": 295,
   "id": "363f13c0",
   "metadata": {},
   "outputs": [],
   "source": [
    "def average_RMSE_for_K(K):\n",
    "    l = [i for i in range(len(results['params'])) if results['params'][i]['k'] == K]\n",
    "    li = []\n",
    "    for i in l:\n",
    "        li.append(results['mean_test_rmse'][i])\n",
    "    average = sum(li)/len(li)\n",
    "    return average"
   ]
  },
  {
   "cell_type": "code",
   "execution_count": 296,
   "id": "9f18194c",
   "metadata": {},
   "outputs": [
    {
     "data": {
      "text/plain": [
       "0.9371943361253062"
      ]
     },
     "execution_count": 296,
     "metadata": {},
     "output_type": "execute_result"
    }
   ],
   "source": [
    "average_RMSE_for_K(10)"
   ]
  },
  {
   "cell_type": "code",
   "execution_count": 297,
   "id": "f9e111b7",
   "metadata": {},
   "outputs": [
    {
     "data": {
      "text/plain": [
       "0.9358952110465173"
      ]
     },
     "execution_count": 297,
     "metadata": {},
     "output_type": "execute_result"
    }
   ],
   "source": [
    "average_RMSE_for_K(20)"
   ]
  },
  {
   "cell_type": "code",
   "execution_count": null,
   "id": "d68e930e",
   "metadata": {},
   "outputs": [],
   "source": []
  }
 ],
 "metadata": {
  "kernelspec": {
   "display_name": "Python 3 (ipykernel)",
   "language": "python",
   "name": "python3"
  },
  "language_info": {
   "codemirror_mode": {
    "name": "ipython",
    "version": 3
   },
   "file_extension": ".py",
   "mimetype": "text/x-python",
   "name": "python",
   "nbconvert_exporter": "python",
   "pygments_lexer": "ipython3",
   "version": "3.8.11"
  }
 },
 "nbformat": 4,
 "nbformat_minor": 5
}

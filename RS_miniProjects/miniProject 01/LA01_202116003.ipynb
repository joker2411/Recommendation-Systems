{
 "cells": [
  {
   "cell_type": "markdown",
   "id": "3e6f7e6e",
   "metadata": {},
   "source": [
    "# Reccomendation Systems Assignment-1"
   ]
  },
  {
   "cell_type": "code",
   "execution_count": 99,
   "id": "0c02c5e0",
   "metadata": {},
   "outputs": [
    {
     "name": "stdout",
     "output_type": "stream",
     "text": [
      "/Users/ambuj/Downloads/Compressed/RS_assignment01\r\n"
     ]
    }
   ],
   "source": [
    "!pwd"
   ]
  },
  {
   "cell_type": "code",
   "execution_count": 100,
   "id": "d8a3fdca",
   "metadata": {},
   "outputs": [
    {
     "name": "stdout",
     "output_type": "stream",
     "text": [
      "Requirement already satisfied: numpy in /Users/ambuj/opt/anaconda3/envs/scrapping/lib/python3.8/site-packages (1.21.2)\n",
      "Requirement already satisfied: scikit-surprise in /Users/ambuj/opt/anaconda3/envs/scrapping/lib/python3.8/site-packages (1.1.1)\n",
      "Requirement already satisfied: joblib>=0.11 in /Users/ambuj/.local/lib/python3.8/site-packages (from scikit-surprise) (1.1.0)\n",
      "Requirement already satisfied: scipy>=1.0.0 in /Users/ambuj/opt/anaconda3/envs/scrapping/lib/python3.8/site-packages (from scikit-surprise) (1.7.1)\n",
      "Requirement already satisfied: six>=1.10.0 in /Users/ambuj/opt/anaconda3/envs/scrapping/lib/python3.8/site-packages (from scikit-surprise) (1.16.0)\n",
      "Requirement already satisfied: numpy>=1.11.2 in /Users/ambuj/opt/anaconda3/envs/scrapping/lib/python3.8/site-packages (from scikit-surprise) (1.21.2)\n"
     ]
    }
   ],
   "source": [
    "!pip install numpy\n",
    "!pip install scikit-surprise"
   ]
  },
  {
   "cell_type": "markdown",
   "id": "ef7f8bda",
   "metadata": {},
   "source": [
    "# QUESTION-1"
   ]
  },
  {
   "cell_type": "code",
   "execution_count": 101,
   "id": "f1660cf0",
   "metadata": {},
   "outputs": [],
   "source": [
    "import surprise\n",
    "from surprise import Dataset\n",
    "from surprise import Reader\n",
    "\n",
    "import numpy as np\n",
    "import pandas as pd\n",
    "import matplotlib.pyplot as plt\n",
    "\n",
    "from surprise.model_selection import GridSearchCV\n",
    "from surprise import KNNBasic, KNNWithMeans, KNNWithZScore"
   ]
  },
  {
   "cell_type": "code",
   "execution_count": 102,
   "id": "285d95d0",
   "metadata": {},
   "outputs": [
    {
     "data": {
      "text/plain": [
       "['AlgoBase',\n",
       " 'BaselineOnly',\n",
       " 'CoClustering',\n",
       " 'Dataset',\n",
       " 'KNNBaseline',\n",
       " 'KNNBasic',\n",
       " 'KNNWithMeans',\n",
       " 'KNNWithZScore',\n",
       " 'NMF',\n",
       " 'NormalPredictor',\n",
       " 'Prediction',\n",
       " 'PredictionImpossible',\n",
       " 'Reader',\n",
       " 'SVD',\n",
       " 'SVDpp',\n",
       " 'SlopeOne',\n",
       " 'Trainset',\n",
       " '__all__',\n",
       " '__builtins__',\n",
       " '__cached__',\n",
       " '__doc__',\n",
       " '__file__',\n",
       " '__loader__',\n",
       " '__name__',\n",
       " '__package__',\n",
       " '__path__',\n",
       " '__spec__',\n",
       " '__version__',\n",
       " 'accuracy',\n",
       " 'builtin_datasets',\n",
       " 'dataset',\n",
       " 'dump',\n",
       " 'get_dataset_dir',\n",
       " 'get_distribution',\n",
       " 'model_selection',\n",
       " 'prediction_algorithms',\n",
       " 'reader',\n",
       " 'similarities',\n",
       " 'trainset',\n",
       " 'utils']"
      ]
     },
     "execution_count": 102,
     "metadata": {},
     "output_type": "execute_result"
    }
   ],
   "source": [
    "dir(surprise)"
   ]
  },
  {
   "cell_type": "code",
   "execution_count": 103,
   "id": "17d0a7f3",
   "metadata": {},
   "outputs": [
    {
     "name": "stdout",
     "output_type": "stream",
     "text": [
      "user_id,recipe_id,date,rating,u,i\r",
      "\r\n",
      "2046,4684,2000-02-25,5.0,22095,44367\r",
      "\r\n",
      "2046,517,2000-02-25,5.0,22095,87844\r",
      "\r\n",
      "1773,7435,2000-03-13,5.0,24732,138181\r",
      "\r\n",
      "1773,278,2000-03-13,4.0,24732,93054\r",
      "\r\n",
      "2046,3431,2000-04-07,5.0,22095,101723\r",
      "\r\n",
      "2046,13307,2000-05-21,5.0,22095,134551\r",
      "\r\n",
      "2312,780,2000-09-12,5.0,1674,127175\r",
      "\r\n",
      "2312,51964,2000-09-26,5.0,1674,151793\r",
      "\r\n",
      "2312,1232,2000-10-17,4.0,1674,15498\r",
      "\r\n"
     ]
    }
   ],
   "source": [
    "!head /Users/ambuj/Downloads/Compressed/RS_assignment01/archive/interactions_train.csv"
   ]
  },
  {
   "cell_type": "code",
   "execution_count": 104,
   "id": "c225d081",
   "metadata": {},
   "outputs": [
    {
     "name": "stdout",
     "output_type": "stream",
     "text": [
      "user_id,recipe_id,date,rating,u,i\r",
      "\r\n",
      "8937,44551,2005-12-23,4.0,2,173538\r",
      "\r\n",
      "56680,126118,2006-10-07,4.0,16,177847\r",
      "\r\n",
      "349752,219596,2008-04-12,0.0,26,89896\r",
      "\r\n",
      "628951,82783,2007-11-13,2.0,45,172637\r",
      "\r\n",
      "92816,435013,2013-07-31,3.0,52,177935\r",
      "\r\n",
      "280271,228179,2007-07-29,5.0,55,178179\r",
      "\r\n",
      "345569,186470,2008-10-05,0.0,57,177482\r",
      "\r\n",
      "724516,298748,2011-05-07,5.0,71,177749\r",
      "\r\n",
      "176615,118119,2006-10-27,0.0,82,178250\r",
      "\r\n"
     ]
    }
   ],
   "source": [
    "!head /Users/ambuj/Downloads/Compressed/RS_assignment01/archive/interactions_test.csv"
   ]
  },
  {
   "cell_type": "code",
   "execution_count": 105,
   "id": "fd86e0cc",
   "metadata": {},
   "outputs": [],
   "source": [
    "def load_dataset(PATH):\n",
    "    data = pd.read_csv(PATH, encoding=\"latin-1\")\n",
    "    return data"
   ]
  },
  {
   "cell_type": "code",
   "execution_count": 106,
   "id": "c18cb0ad",
   "metadata": {},
   "outputs": [
    {
     "name": "stdout",
     "output_type": "stream",
     "text": [
      "(698901, 3)\n",
      "   user_id  recipe_id  rating\n",
      "0     2046       4684     5.0\n",
      "1     2046        517     5.0\n",
      "2     1773       7435     5.0\n",
      "3     1773        278     4.0\n",
      "4     2046       3431     5.0\n"
     ]
    }
   ],
   "source": [
    "TRAINING_PATH = '/Users/ambuj/Downloads/Compressed/RS_assignment01/archive/interactions_train.csv'\n",
    "TESTING_PATH = '/Users/ambuj/Downloads/Compressed/RS_assignment01/archive/interactions_test.csv'\n",
    "\n",
    "data_train = load_dataset(TRAINING_PATH)\n",
    "data_train = data_train[['user_id', 'recipe_id', 'rating']]\n",
    "print(data_train.shape)\n",
    "print(data_train.head(5))"
   ]
  },
  {
   "cell_type": "code",
   "execution_count": 107,
   "id": "5e92a777",
   "metadata": {},
   "outputs": [
    {
     "name": "stdout",
     "output_type": "stream",
     "text": [
      "698901\n"
     ]
    }
   ],
   "source": [
    "#### Total number of reviews\n",
    "\n",
    "print(data_train.shape[0])"
   ]
  },
  {
   "cell_type": "code",
   "execution_count": 108,
   "id": "4d1fd76a",
   "metadata": {},
   "outputs": [
    {
     "name": "stdout",
     "output_type": "stream",
     "text": [
      "25076\n",
      "2002312797\n"
     ]
    }
   ],
   "source": [
    "#### total number of unique users who have given reviews\n",
    "\n",
    "print(len(data_train['user_id'].unique()))\n",
    "print(max(data_train['user_id']))"
   ]
  },
  {
   "cell_type": "code",
   "execution_count": 109,
   "id": "f9fb1b06",
   "metadata": {},
   "outputs": [
    {
     "name": "stdout",
     "output_type": "stream",
     "text": [
      "160901\n",
      "537458\n"
     ]
    }
   ],
   "source": [
    "#### total number of unique items that have been given reviews\n",
    "\n",
    "print(len(data_train['recipe_id'].unique()))\n",
    "print(max(data_train['recipe_id']))"
   ]
  },
  {
   "cell_type": "markdown",
   "id": "252e23af",
   "metadata": {},
   "source": [
    "1. These above observation gives the initial idea about the size of user-item matrix size using the complete data.\n",
    "2. Also, above values shows that none of the user id and recipe id are continuous. So, we can't directly make the user-item matrix without using the preprocessing."
   ]
  },
  {
   "cell_type": "code",
   "execution_count": 110,
   "id": "584f644b",
   "metadata": {},
   "outputs": [
    {
     "name": "stdout",
     "output_type": "stream",
     "text": [
      "5.0\n",
      "3.0\n",
      "4.944444444444445\n"
     ]
    }
   ],
   "source": [
    "##### Function to print minimum, maximum and average ratings for a given item\n",
    "\n",
    "def item_rating_info(DATA, item_id):\n",
    "    unique_ratings = list(DATA[DATA['recipe_id']==item_id]['rating'])\n",
    "    maximum = max(unique_ratings)\n",
    "    minimum = min(unique_ratings)\n",
    "    average = sum(unique_ratings)/len(unique_ratings)\n",
    "    print(maximum)\n",
    "    print(minimum)\n",
    "    print(average)\n",
    "    \n",
    "item_rating_info(data_train, 4684)"
   ]
  },
  {
   "cell_type": "code",
   "execution_count": 111,
   "id": "b1b043a1",
   "metadata": {},
   "outputs": [
    {
     "name": "stdout",
     "output_type": "stream",
     "text": [
      "5.0    518568\n",
      "4.0    127402\n",
      "3.0     25781\n",
      "0.0     16957\n",
      "2.0      6852\n",
      "1.0      3341\n",
      "Name: rating, dtype: int64\n"
     ]
    }
   ],
   "source": [
    "##### Ratings distribution in dataset\n",
    "\n",
    "print(data_train['rating'].value_counts())"
   ]
  },
  {
   "cell_type": "code",
   "execution_count": 112,
   "id": "eb4de313",
   "metadata": {},
   "outputs": [
    {
     "data": {
      "image/png": "[encoded data removed]",
      "text/plain": [
       "<Figure size 432x288 with 1 Axes>"
      ]
     },
     "metadata": {
      "needs_background": "light"
     },
     "output_type": "display_data"
    }
   ],
   "source": [
    "#### Plotting bar chart of rating distribution\n",
    "\n",
    "plt.rc(\"font\", size=15)\n",
    "data_train['rating'].value_counts(sort=False).plot(kind='bar')\n",
    "plt.title('Rating Distribution\\n')\n",
    "plt.xlabel('Rating')\n",
    "plt.ylabel('Count')\n",
    "plt.grid(ls='dashed')\n",
    "plt.show()"
   ]
  },
  {
   "cell_type": "markdown",
   "id": "0bf1e22c",
   "metadata": {},
   "source": [
    "# QUESTION-2"
   ]
  },
  {
   "cell_type": "markdown",
   "id": "b1685f28",
   "metadata": {},
   "source": [
    "## Creating user-item matrix :"
   ]
  },
  {
   "cell_type": "code",
   "execution_count": 115,
   "id": "6105f957",
   "metadata": {},
   "outputs": [
    {
     "name": "stdout",
     "output_type": "stream",
     "text": [
      "            rating\n",
      "user_id           \n",
      "2002312797       2\n",
      "344741           2\n",
      "344511           2\n",
      "344441           2\n",
      "344083           2\n",
      "...            ...\n",
      "209130           4\n",
      "267295           4\n",
      "137373           4\n",
      "599319           4\n",
      "1030363          4\n",
      "\n",
      "[10015 rows x 1 columns]\n"
     ]
    }
   ],
   "source": [
    "###### checking for users who have reviews very less number of items\n",
    "\n",
    "rating_count_for_user = pd.DataFrame(data_train.groupby('user_id')['rating'].count())\n",
    "rating_count_for_user_sorted = rating_count_for_user.sort_values('rating', ascending=True)\n",
    "\n",
    "user_id_with_less_reviews = rating_count_for_user_sorted[rating_count_for_user_sorted['rating'] < 5]\n",
    "print(user_id_with_less_reviews)"
   ]
  },
  {
   "cell_type": "code",
   "execution_count": 116,
   "id": "ba0ff403",
   "metadata": {},
   "outputs": [
    {
     "name": "stdout",
     "output_type": "stream",
     "text": [
      "           rating\n",
      "recipe_id        \n",
      "537458          1\n",
      "145956          1\n",
      "335920          1\n",
      "145953          1\n",
      "145946          1\n",
      "...           ...\n",
      "70639           9\n",
      "379415          9\n",
      "97110           9\n",
      "87675           9\n",
      "390498          9\n",
      "\n",
      "[148004 rows x 1 columns]\n"
     ]
    }
   ],
   "source": [
    "###### checking for recipes who have been reviewed by very less number of users\n",
    "\n",
    "rating_count_for_item = pd.DataFrame(data_train.groupby('recipe_id')['rating'].count())\n",
    "rating_count_for_item_sorted = rating_count_for_item.sort_values('rating', ascending=True)\n",
    "\n",
    "recipe_id_with_less_reviews = rating_count_for_item_sorted[rating_count_for_item_sorted['rating'] < 10]\n",
    "print(recipe_id_with_less_reviews)"
   ]
  },
  {
   "cell_type": "code",
   "execution_count": 117,
   "id": "4f4ea564",
   "metadata": {},
   "outputs": [],
   "source": [
    "####### now, I am removing the user_id who have given less than 5 reviews and similarily removing items who have been reviews by less than 10 users\n",
    "\n",
    "def shorten_dataset(DATA):\n",
    "    user_count = DATA['user_id'].value_counts()\n",
    "    data_matrix_rows = DATA[DATA['user_id'].isin(user_count[user_count >= 5].index)]\n",
    "    recipe_count = data_matrix_rows['recipe_id'].value_counts()\n",
    "    data_vec = data_matrix_rows[data_matrix_rows['recipe_id'].isin(recipe_count[recipe_count >= 10].index)]\n",
    "    return data_vec"
   ]
  },
  {
   "cell_type": "code",
   "execution_count": 118,
   "id": "de170e01",
   "metadata": {},
   "outputs": [],
   "source": [
    "###### creating user-item matrix\n",
    "\n",
    "def creating_user_item_matrix(DATA_LIST):\n",
    "    data_mat = DATA_LIST.pivot(index='user_id', columns='recipe_id').rating\n",
    "    u_id = data_mat.index\n",
    "    r_id = data_mat.columns\n",
    "    print(data_mat.shape)\n",
    "    print(data_mat.head(5))\n",
    "    return data_mat, u_id, r_id"
   ]
  },
  {
   "cell_type": "code",
   "execution_count": 119,
   "id": "04d72009",
   "metadata": {},
   "outputs": [
    {
     "name": "stdout",
     "output_type": "stream",
     "text": [
      "(310610, 3)\n",
      "14908\n",
      "12292\n"
     ]
    }
   ],
   "source": [
    "##### printing new dimensions of dataset \n",
    "\n",
    "data_vectors_train = shorten_dataset(data_train)\n",
    "\n",
    "print(data_vectors_train.shape)\n",
    "print(len(data_vectors_train['user_id'].unique()))\n",
    "print(len(data_vectors_train['recipe_id'].unique()))"
   ]
  },
  {
   "cell_type": "code",
   "execution_count": 120,
   "id": "a4921644",
   "metadata": {},
   "outputs": [
    {
     "name": "stdout",
     "output_type": "stream",
     "text": [
      "(14908, 12292)\n",
      "recipe_id  62      66      142     167     198     232     246     278     \\\n",
      "user_id                                                                     \n",
      "1533          NaN     NaN     NaN     NaN     NaN     NaN     NaN     NaN   \n",
      "1535          NaN     NaN     NaN     NaN     NaN     NaN     NaN     NaN   \n",
      "1634          NaN     NaN     NaN     NaN     NaN     NaN     NaN     NaN   \n",
      "1676          NaN     NaN     NaN     NaN     NaN     NaN     NaN     NaN   \n",
      "1792          NaN     NaN     NaN     NaN     NaN     NaN     NaN     NaN   \n",
      "\n",
      "recipe_id  280     314     ...  504179  504455  505539  506822  509630  \\\n",
      "user_id                    ...                                           \n",
      "1533          NaN     NaN  ...     NaN     NaN     NaN     NaN     NaN   \n",
      "1535          NaN     NaN  ...     NaN     NaN     NaN     NaN     NaN   \n",
      "1634          NaN     NaN  ...     NaN     NaN     NaN     NaN     NaN   \n",
      "1676          NaN     NaN  ...     NaN     NaN     NaN     NaN     NaN   \n",
      "1792          NaN     NaN  ...     NaN     NaN     NaN     NaN     NaN   \n",
      "\n",
      "recipe_id  514423  517995  518068  518143  518229  \n",
      "user_id                                            \n",
      "1533          NaN     NaN     NaN     NaN     NaN  \n",
      "1535          NaN     NaN     NaN     NaN     NaN  \n",
      "1634          NaN     NaN     NaN     NaN     NaN  \n",
      "1676          NaN     NaN     NaN     NaN     NaN  \n",
      "1792          NaN     NaN     NaN     NaN     NaN  \n",
      "\n",
      "[5 rows x 12292 columns]\n"
     ]
    }
   ],
   "source": [
    "##### creating the user-item matrix\n",
    "\n",
    "data_matrix_train, U_ID, R_ID = creating_user_item_matrix(data_vectors_train)"
   ]
  },
  {
   "cell_type": "markdown",
   "id": "2aa66ed1",
   "metadata": {},
   "source": [
    "## Applying Models"
   ]
  },
  {
   "cell_type": "markdown",
   "id": "639a1cbb",
   "metadata": {},
   "source": [
    "### A. Mean centric Normalisation"
   ]
  },
  {
   "cell_type": "code",
   "execution_count": 121,
   "id": "03310838",
   "metadata": {},
   "outputs": [
    {
     "data": {
      "text/plain": [
       "<surprise.dataset.DatasetAutoFolds at 0x7ff43c68ac10>"
      ]
     },
     "execution_count": 121,
     "metadata": {},
     "output_type": "execute_result"
    }
   ],
   "source": [
    "##### making reader object and loading data from dataframe\n",
    "\n",
    "reader = Reader(rating_scale=(1,5))\n",
    "\n",
    "train_set = Dataset.load_from_df(data_vectors_train[['user_id', 'recipe_id', 'rating']], reader)\n",
    "train_set"
   ]
  },
  {
   "cell_type": "code",
   "execution_count": 122,
   "id": "32f56682",
   "metadata": {},
   "outputs": [
    {
     "data": {
      "text/plain": [
       "<surprise.trainset.Trainset at 0x7ff46b60de20>"
      ]
     },
     "execution_count": 122,
     "metadata": {},
     "output_type": "execute_result"
    }
   ],
   "source": [
    "train_set.build_full_trainset()"
   ]
  },
  {
   "cell_type": "code",
   "execution_count": 123,
   "id": "6fe14f4e",
   "metadata": {},
   "outputs": [],
   "source": [
    "##### Applying GridSearch and creating model object function\n",
    "\n",
    "def creating_model(algo_name, fold_number, k_list, sim_measure_name, user_based_flag):\n",
    "    param_grid = {'k': k_list, \n",
    "                  'sim_options' :  {'name': [sim_measure_name], \n",
    "                                              'user_based': [user_based_flag]}\n",
    "                  }\n",
    "    model = GridSearchCV(algo_name, param_grid, measures = ['rmse'], cv = fold_number, refit=True)\n",
    "    return model"
   ]
  },
  {
   "cell_type": "code",
   "execution_count": 124,
   "id": "7e845265",
   "metadata": {},
   "outputs": [],
   "source": [
    "##### creating model object with 'KNNWithMeans'\n",
    "\n",
    "model_mean_cosine = creating_model(KNNWithMeans, 5, [10, 50, 100, 350, 500], 'cosine', True)"
   ]
  },
  {
   "cell_type": "code",
   "execution_count": 125,
   "id": "d7a0506c",
   "metadata": {},
   "outputs": [
    {
     "name": "stdout",
     "output_type": "stream",
     "text": [
      "Computing the cosine similarity matrix...\n"
     ]
    },
    {
     "name": "stderr",
     "output_type": "stream",
     "text": [
      "/Users/ambuj/opt/anaconda3/envs/scrapping/lib/python3.8/site-packages/surprise/prediction_algorithms/algo_base.py:249: RuntimeWarning: invalid value encountered in double_scalars\n",
      "  sim = construction_func[name](*args)\n"
     ]
    },
    {
     "name": "stdout",
     "output_type": "stream",
     "text": [
      "Done computing similarity matrix.\n",
      "Computing the cosine similarity matrix...\n",
      "Done computing similarity matrix.\n",
      "Computing the cosine similarity matrix...\n",
      "Done computing similarity matrix.\n",
      "Computing the cosine similarity matrix...\n",
      "Done computing similarity matrix.\n",
      "Computing the cosine similarity matrix...\n",
      "Done computing similarity matrix.\n",
      "Computing the cosine similarity matrix...\n",
      "Done computing similarity matrix.\n",
      "Computing the cosine similarity matrix...\n",
      "Done computing similarity matrix.\n",
      "Computing the cosine similarity matrix...\n",
      "Done computing similarity matrix.\n",
      "Computing the cosine similarity matrix...\n",
      "Done computing similarity matrix.\n",
      "Computing the cosine similarity matrix...\n",
      "Done computing similarity matrix.\n",
      "Computing the cosine similarity matrix...\n",
      "Done computing similarity matrix.\n",
      "Computing the cosine similarity matrix...\n",
      "Done computing similarity matrix.\n",
      "Computing the cosine similarity matrix...\n",
      "Done computing similarity matrix.\n",
      "Computing the cosine similarity matrix...\n",
      "Done computing similarity matrix.\n",
      "Computing the cosine similarity matrix...\n",
      "Done computing similarity matrix.\n",
      "Computing the cosine similarity matrix...\n",
      "Done computing similarity matrix.\n",
      "Computing the cosine similarity matrix...\n",
      "Done computing similarity matrix.\n",
      "Computing the cosine similarity matrix...\n",
      "Done computing similarity matrix.\n",
      "Computing the cosine similarity matrix...\n",
      "Done computing similarity matrix.\n",
      "Computing the cosine similarity matrix...\n",
      "Done computing similarity matrix.\n",
      "Computing the cosine similarity matrix...\n",
      "Done computing similarity matrix.\n",
      "Computing the cosine similarity matrix...\n",
      "Done computing similarity matrix.\n",
      "Computing the cosine similarity matrix...\n",
      "Done computing similarity matrix.\n",
      "Computing the cosine similarity matrix...\n",
      "Done computing similarity matrix.\n",
      "Computing the cosine similarity matrix...\n",
      "Done computing similarity matrix.\n",
      "Computing the cosine similarity matrix...\n",
      "Done computing similarity matrix.\n"
     ]
    }
   ],
   "source": [
    "##### fitting the model\n",
    "\n",
    "model_mean_cosine.fit(train_set)"
   ]
  },
  {
   "cell_type": "code",
   "execution_count": 126,
   "id": "817e2ce1",
   "metadata": {},
   "outputs": [
    {
     "data": {
      "text/plain": [
       "{'split0_test_rmse': array([0.94593683, 0.93845106, 0.9382041 , 0.93808402, 0.93808733]),\n",
       " 'split1_test_rmse': array([0.94483852, 0.93715378, 0.93696494, 0.93683058, 0.93685164]),\n",
       " 'split2_test_rmse': array([0.95213503, 0.94385592, 0.94342306, 0.94334844, 0.94335242]),\n",
       " 'split3_test_rmse': array([0.95566303, 0.94915097, 0.94901585, 0.94898929, 0.94899159]),\n",
       " 'split4_test_rmse': array([0.96888849, 0.96163477, 0.96144366, 0.96136081, 0.96137913]),\n",
       " 'mean_test_rmse': array([0.95349238, 0.9460493 , 0.94581032, 0.94572263, 0.94573242]),\n",
       " 'std_test_rmse': array([0.00866683, 0.00887921, 0.00890473, 0.00892499, 0.00892661]),\n",
       " 'rank_test_rmse': array([5, 4, 3, 1, 2]),\n",
       " 'mean_fit_time': array([35.25749722, 45.87964926, 35.28609433, 34.99248075, 34.86602535]),\n",
       " 'std_fit_time': array([0.45311962, 9.46482853, 1.14897543, 0.29089358, 0.38689552]),\n",
       " 'mean_test_time': array([3.16531239, 4.93509488, 4.07886205, 4.11698155, 4.19963675]),\n",
       " 'std_test_time': array([0.36807133, 0.84462968, 0.29855839, 0.2476047 , 0.30416502]),\n",
       " 'params': [{'k': 10, 'sim_options': {'name': 'cosine', 'user_based': True}},\n",
       "  {'k': 50, 'sim_options': {'name': 'cosine', 'user_based': True}},\n",
       "  {'k': 100, 'sim_options': {'name': 'cosine', 'user_based': True}},\n",
       "  {'k': 350, 'sim_options': {'name': 'cosine', 'user_based': True}},\n",
       "  {'k': 500, 'sim_options': {'name': 'cosine', 'user_based': True}}],\n",
       " 'param_k': [10, 50, 100, 350, 500],\n",
       " 'param_sim_options': [{'name': 'cosine', 'user_based': True},\n",
       "  {'name': 'cosine', 'user_based': True},\n",
       "  {'name': 'cosine', 'user_based': True},\n",
       "  {'name': 'cosine', 'user_based': True},\n",
       "  {'name': 'cosine', 'user_based': True}]}"
      ]
     },
     "execution_count": 126,
     "metadata": {},
     "output_type": "execute_result"
    }
   ],
   "source": [
    "##### generating results\n",
    "\n",
    "results_mean_cosine = model_mean_cosine.cv_results\n",
    "results_mean_cosine"
   ]
  },
  {
   "cell_type": "code",
   "execution_count": 127,
   "id": "c06191f2",
   "metadata": {},
   "outputs": [
    {
     "data": {
      "text/html": [
       "<div>\n",
       "<style scoped>\n",
       "    .dataframe tbody tr th:only-of-type {\n",
       "        vertical-align: middle;\n",
       "    }\n",
       "\n",
       "    .dataframe tbody tr th {\n",
       "        vertical-align: top;\n",
       "    }\n",
       "\n",
       "    .dataframe thead th {\n",
       "        text-align: right;\n",
       "    }\n",
       "</style>\n",
       "<table border=\"1\" class=\"dataframe\">\n",
       "  <thead>\n",
       "    <tr style=\"text-align: right;\">\n",
       "      <th></th>\n",
       "      <th>split0_test_rmse</th>\n",
       "      <th>split1_test_rmse</th>\n",
       "      <th>split2_test_rmse</th>\n",
       "      <th>split3_test_rmse</th>\n",
       "      <th>split4_test_rmse</th>\n",
       "      <th>mean_test_rmse</th>\n",
       "      <th>std_test_rmse</th>\n",
       "      <th>rank_test_rmse</th>\n",
       "      <th>mean_fit_time</th>\n",
       "      <th>std_fit_time</th>\n",
       "      <th>mean_test_time</th>\n",
       "      <th>std_test_time</th>\n",
       "      <th>params</th>\n",
       "      <th>param_k</th>\n",
       "      <th>param_sim_options</th>\n",
       "    </tr>\n",
       "  </thead>\n",
       "  <tbody>\n",
       "    <tr>\n",
       "      <th>0</th>\n",
       "      <td>0.945937</td>\n",
       "      <td>0.944839</td>\n",
       "      <td>0.952135</td>\n",
       "      <td>0.955663</td>\n",
       "      <td>0.968888</td>\n",
       "      <td>0.953492</td>\n",
       "      <td>0.008667</td>\n",
       "      <td>5</td>\n",
       "      <td>35.257497</td>\n",
       "      <td>0.453120</td>\n",
       "      <td>3.165312</td>\n",
       "      <td>0.368071</td>\n",
       "      <td>{'k': 10, 'sim_options': {'name': 'cosine', 'u...</td>\n",
       "      <td>10</td>\n",
       "      <td>{'name': 'cosine', 'user_based': True}</td>\n",
       "    </tr>\n",
       "    <tr>\n",
       "      <th>1</th>\n",
       "      <td>0.938451</td>\n",
       "      <td>0.937154</td>\n",
       "      <td>0.943856</td>\n",
       "      <td>0.949151</td>\n",
       "      <td>0.961635</td>\n",
       "      <td>0.946049</td>\n",
       "      <td>0.008879</td>\n",
       "      <td>4</td>\n",
       "      <td>45.879649</td>\n",
       "      <td>9.464829</td>\n",
       "      <td>4.935095</td>\n",
       "      <td>0.844630</td>\n",
       "      <td>{'k': 50, 'sim_options': {'name': 'cosine', 'u...</td>\n",
       "      <td>50</td>\n",
       "      <td>{'name': 'cosine', 'user_based': True}</td>\n",
       "    </tr>\n",
       "    <tr>\n",
       "      <th>2</th>\n",
       "      <td>0.938204</td>\n",
       "      <td>0.936965</td>\n",
       "      <td>0.943423</td>\n",
       "      <td>0.949016</td>\n",
       "      <td>0.961444</td>\n",
       "      <td>0.945810</td>\n",
       "      <td>0.008905</td>\n",
       "      <td>3</td>\n",
       "      <td>35.286094</td>\n",
       "      <td>1.148975</td>\n",
       "      <td>4.078862</td>\n",
       "      <td>0.298558</td>\n",
       "      <td>{'k': 100, 'sim_options': {'name': 'cosine', '...</td>\n",
       "      <td>100</td>\n",
       "      <td>{'name': 'cosine', 'user_based': True}</td>\n",
       "    </tr>\n",
       "    <tr>\n",
       "      <th>3</th>\n",
       "      <td>0.938084</td>\n",
       "      <td>0.936831</td>\n",
       "      <td>0.943348</td>\n",
       "      <td>0.948989</td>\n",
       "      <td>0.961361</td>\n",
       "      <td>0.945723</td>\n",
       "      <td>0.008925</td>\n",
       "      <td>1</td>\n",
       "      <td>34.992481</td>\n",
       "      <td>0.290894</td>\n",
       "      <td>4.116982</td>\n",
       "      <td>0.247605</td>\n",
       "      <td>{'k': 350, 'sim_options': {'name': 'cosine', '...</td>\n",
       "      <td>350</td>\n",
       "      <td>{'name': 'cosine', 'user_based': True}</td>\n",
       "    </tr>\n",
       "    <tr>\n",
       "      <th>4</th>\n",
       "      <td>0.938087</td>\n",
       "      <td>0.936852</td>\n",
       "      <td>0.943352</td>\n",
       "      <td>0.948992</td>\n",
       "      <td>0.961379</td>\n",
       "      <td>0.945732</td>\n",
       "      <td>0.008927</td>\n",
       "      <td>2</td>\n",
       "      <td>34.866025</td>\n",
       "      <td>0.386896</td>\n",
       "      <td>4.199637</td>\n",
       "      <td>0.304165</td>\n",
       "      <td>{'k': 500, 'sim_options': {'name': 'cosine', '...</td>\n",
       "      <td>500</td>\n",
       "      <td>{'name': 'cosine', 'user_based': True}</td>\n",
       "    </tr>\n",
       "  </tbody>\n",
       "</table>\n",
       "</div>"
      ],
      "text/plain": [
       "   split0_test_rmse  split1_test_rmse  split2_test_rmse  split3_test_rmse  \\\n",
       "0          0.945937          0.944839          0.952135          0.955663   \n",
       "1          0.938451          0.937154          0.943856          0.949151   \n",
       "2          0.938204          0.936965          0.943423          0.949016   \n",
       "3          0.938084          0.936831          0.943348          0.948989   \n",
       "4          0.938087          0.936852          0.943352          0.948992   \n",
       "\n",
       "   split4_test_rmse  mean_test_rmse  std_test_rmse  rank_test_rmse  \\\n",
       "0          0.968888        0.953492       0.008667               5   \n",
       "1          0.961635        0.946049       0.008879               4   \n",
       "2          0.961444        0.945810       0.008905               3   \n",
       "3          0.961361        0.945723       0.008925               1   \n",
       "4          0.961379        0.945732       0.008927               2   \n",
       "\n",
       "   mean_fit_time  std_fit_time  mean_test_time  std_test_time  \\\n",
       "0      35.257497      0.453120        3.165312       0.368071   \n",
       "1      45.879649      9.464829        4.935095       0.844630   \n",
       "2      35.286094      1.148975        4.078862       0.298558   \n",
       "3      34.992481      0.290894        4.116982       0.247605   \n",
       "4      34.866025      0.386896        4.199637       0.304165   \n",
       "\n",
       "                                              params  param_k  \\\n",
       "0  {'k': 10, 'sim_options': {'name': 'cosine', 'u...       10   \n",
       "1  {'k': 50, 'sim_options': {'name': 'cosine', 'u...       50   \n",
       "2  {'k': 100, 'sim_options': {'name': 'cosine', '...      100   \n",
       "3  {'k': 350, 'sim_options': {'name': 'cosine', '...      350   \n",
       "4  {'k': 500, 'sim_options': {'name': 'cosine', '...      500   \n",
       "\n",
       "                        param_sim_options  \n",
       "0  {'name': 'cosine', 'user_based': True}  \n",
       "1  {'name': 'cosine', 'user_based': True}  \n",
       "2  {'name': 'cosine', 'user_based': True}  \n",
       "3  {'name': 'cosine', 'user_based': True}  \n",
       "4  {'name': 'cosine', 'user_based': True}  "
      ]
     },
     "execution_count": 127,
     "metadata": {},
     "output_type": "execute_result"
    }
   ],
   "source": [
    "results_mean_cosine_df = pd.DataFrame.from_dict(results_mean_cosine)\n",
    "results_mean_cosine_df"
   ]
  },
  {
   "cell_type": "code",
   "execution_count": null,
   "id": "e7747cb6",
   "metadata": {},
   "outputs": [],
   "source": []
  },
  {
   "cell_type": "markdown",
   "id": "15244eb8",
   "metadata": {},
   "source": [
    "### B. Z-Score Normalisation"
   ]
  },
  {
   "cell_type": "code",
   "execution_count": 128,
   "id": "c6659b77",
   "metadata": {},
   "outputs": [],
   "source": [
    "##### making model using 'KNNWithZScore'\n",
    "\n",
    "model_zscore_cosine = creating_model(KNNWithZScore, 5, [10, 50, 100, 350, 500], 'cosine', True)"
   ]
  },
  {
   "cell_type": "code",
   "execution_count": 129,
   "id": "e97a9895",
   "metadata": {},
   "outputs": [
    {
     "name": "stdout",
     "output_type": "stream",
     "text": [
      "Computing the cosine similarity matrix...\n"
     ]
    },
    {
     "name": "stderr",
     "output_type": "stream",
     "text": [
      "/Users/ambuj/opt/anaconda3/envs/scrapping/lib/python3.8/site-packages/surprise/prediction_algorithms/algo_base.py:249: RuntimeWarning: invalid value encountered in double_scalars\n",
      "  sim = construction_func[name](*args)\n"
     ]
    },
    {
     "name": "stdout",
     "output_type": "stream",
     "text": [
      "Done computing similarity matrix.\n",
      "Computing the cosine similarity matrix...\n",
      "Done computing similarity matrix.\n",
      "Computing the cosine similarity matrix...\n",
      "Done computing similarity matrix.\n",
      "Computing the cosine similarity matrix...\n",
      "Done computing similarity matrix.\n",
      "Computing the cosine similarity matrix...\n",
      "Done computing similarity matrix.\n",
      "Computing the cosine similarity matrix...\n",
      "Done computing similarity matrix.\n",
      "Computing the cosine similarity matrix...\n",
      "Done computing similarity matrix.\n",
      "Computing the cosine similarity matrix...\n",
      "Done computing similarity matrix.\n",
      "Computing the cosine similarity matrix...\n",
      "Done computing similarity matrix.\n",
      "Computing the cosine similarity matrix...\n",
      "Done computing similarity matrix.\n",
      "Computing the cosine similarity matrix...\n",
      "Done computing similarity matrix.\n",
      "Computing the cosine similarity matrix...\n",
      "Done computing similarity matrix.\n",
      "Computing the cosine similarity matrix...\n",
      "Done computing similarity matrix.\n",
      "Computing the cosine similarity matrix...\n",
      "Done computing similarity matrix.\n",
      "Computing the cosine similarity matrix...\n",
      "Done computing similarity matrix.\n",
      "Computing the cosine similarity matrix...\n",
      "Done computing similarity matrix.\n",
      "Computing the cosine similarity matrix...\n",
      "Done computing similarity matrix.\n",
      "Computing the cosine similarity matrix...\n",
      "Done computing similarity matrix.\n",
      "Computing the cosine similarity matrix...\n",
      "Done computing similarity matrix.\n",
      "Computing the cosine similarity matrix...\n",
      "Done computing similarity matrix.\n",
      "Computing the cosine similarity matrix...\n",
      "Done computing similarity matrix.\n",
      "Computing the cosine similarity matrix...\n",
      "Done computing similarity matrix.\n",
      "Computing the cosine similarity matrix...\n",
      "Done computing similarity matrix.\n",
      "Computing the cosine similarity matrix...\n",
      "Done computing similarity matrix.\n",
      "Computing the cosine similarity matrix...\n",
      "Done computing similarity matrix.\n",
      "Computing the cosine similarity matrix...\n",
      "Done computing similarity matrix.\n"
     ]
    }
   ],
   "source": [
    "model_zscore_cosine.fit(train_set)"
   ]
  },
  {
   "cell_type": "code",
   "execution_count": 130,
   "id": "1f8bd673",
   "metadata": {},
   "outputs": [
    {
     "data": {
      "text/plain": [
       "{'split0_test_rmse': array([0.96501254, 0.95646795, 0.95632212, 0.95636209, 0.95633774]),\n",
       " 'split1_test_rmse': array([0.96822449, 0.9607955 , 0.96055443, 0.96044427, 0.96044653]),\n",
       " 'split2_test_rmse': array([0.96099529, 0.95205602, 0.9518504 , 0.9517703 , 0.95176393]),\n",
       " 'split3_test_rmse': array([0.96987565, 0.96107308, 0.960727  , 0.96065646, 0.96068325]),\n",
       " 'split4_test_rmse': array([0.96270306, 0.95348065, 0.9528048 , 0.95284931, 0.95284787]),\n",
       " 'mean_test_rmse': array([0.96536221, 0.95677464, 0.95645175, 0.95641649, 0.95641586]),\n",
       " 'std_test_rmse': array([0.00331141, 0.00368385, 0.00373093, 0.00370176, 0.00371037]),\n",
       " 'rank_test_rmse': array([5, 4, 3, 2, 1]),\n",
       " 'mean_fit_time': array([35.47588897, 34.0420434 , 33.55392628, 34.89410586, 35.43531566]),\n",
       " 'std_fit_time': array([0.19085806, 0.70723332, 0.30139851, 0.17172242, 0.78528598]),\n",
       " 'mean_test_time': array([3.60675769, 3.85470157, 4.25700254, 4.66497726, 4.3788085 ]),\n",
       " 'std_test_time': array([0.39580819, 0.27926043, 0.26245337, 0.3398868 , 0.32474537]),\n",
       " 'params': [{'k': 10, 'sim_options': {'name': 'cosine', 'user_based': True}},\n",
       "  {'k': 50, 'sim_options': {'name': 'cosine', 'user_based': True}},\n",
       "  {'k': 100, 'sim_options': {'name': 'cosine', 'user_based': True}},\n",
       "  {'k': 350, 'sim_options': {'name': 'cosine', 'user_based': True}},\n",
       "  {'k': 500, 'sim_options': {'name': 'cosine', 'user_based': True}}],\n",
       " 'param_k': [10, 50, 100, 350, 500],\n",
       " 'param_sim_options': [{'name': 'cosine', 'user_based': True},\n",
       "  {'name': 'cosine', 'user_based': True},\n",
       "  {'name': 'cosine', 'user_based': True},\n",
       "  {'name': 'cosine', 'user_based': True},\n",
       "  {'name': 'cosine', 'user_based': True}]}"
      ]
     },
     "execution_count": 130,
     "metadata": {},
     "output_type": "execute_result"
    }
   ],
   "source": [
    "results_zscore_cosine = model_zscore_cosine.cv_results\n",
    "results_zscore_cosine"
   ]
  },
  {
   "cell_type": "code",
   "execution_count": 131,
   "id": "d0427c86",
   "metadata": {},
   "outputs": [
    {
     "data": {
      "text/html": [
       "<div>\n",
       "<style scoped>\n",
       "    .dataframe tbody tr th:only-of-type {\n",
       "        vertical-align: middle;\n",
       "    }\n",
       "\n",
       "    .dataframe tbody tr th {\n",
       "        vertical-align: top;\n",
       "    }\n",
       "\n",
       "    .dataframe thead th {\n",
       "        text-align: right;\n",
       "    }\n",
       "</style>\n",
       "<table border=\"1\" class=\"dataframe\">\n",
       "  <thead>\n",
       "    <tr style=\"text-align: right;\">\n",
       "      <th></th>\n",
       "      <th>split0_test_rmse</th>\n",
       "      <th>split1_test_rmse</th>\n",
       "      <th>split2_test_rmse</th>\n",
       "      <th>split3_test_rmse</th>\n",
       "      <th>split4_test_rmse</th>\n",
       "      <th>mean_test_rmse</th>\n",
       "      <th>std_test_rmse</th>\n",
       "      <th>rank_test_rmse</th>\n",
       "      <th>mean_fit_time</th>\n",
       "      <th>std_fit_time</th>\n",
       "      <th>mean_test_time</th>\n",
       "      <th>std_test_time</th>\n",
       "      <th>params</th>\n",
       "      <th>param_k</th>\n",
       "      <th>param_sim_options</th>\n",
       "    </tr>\n",
       "  </thead>\n",
       "  <tbody>\n",
       "    <tr>\n",
       "      <th>0</th>\n",
       "      <td>0.965013</td>\n",
       "      <td>0.968224</td>\n",
       "      <td>0.960995</td>\n",
       "      <td>0.969876</td>\n",
       "      <td>0.962703</td>\n",
       "      <td>0.965362</td>\n",
       "      <td>0.003311</td>\n",
       "      <td>5</td>\n",
       "      <td>35.475889</td>\n",
       "      <td>0.190858</td>\n",
       "      <td>3.606758</td>\n",
       "      <td>0.395808</td>\n",
       "      <td>{'k': 10, 'sim_options': {'name': 'cosine', 'u...</td>\n",
       "      <td>10</td>\n",
       "      <td>{'name': 'cosine', 'user_based': True}</td>\n",
       "    </tr>\n",
       "    <tr>\n",
       "      <th>1</th>\n",
       "      <td>0.956468</td>\n",
       "      <td>0.960796</td>\n",
       "      <td>0.952056</td>\n",
       "      <td>0.961073</td>\n",
       "      <td>0.953481</td>\n",
       "      <td>0.956775</td>\n",
       "      <td>0.003684</td>\n",
       "      <td>4</td>\n",
       "      <td>34.042043</td>\n",
       "      <td>0.707233</td>\n",
       "      <td>3.854702</td>\n",
       "      <td>0.279260</td>\n",
       "      <td>{'k': 50, 'sim_options': {'name': 'cosine', 'u...</td>\n",
       "      <td>50</td>\n",
       "      <td>{'name': 'cosine', 'user_based': True}</td>\n",
       "    </tr>\n",
       "    <tr>\n",
       "      <th>2</th>\n",
       "      <td>0.956322</td>\n",
       "      <td>0.960554</td>\n",
       "      <td>0.951850</td>\n",
       "      <td>0.960727</td>\n",
       "      <td>0.952805</td>\n",
       "      <td>0.956452</td>\n",
       "      <td>0.003731</td>\n",
       "      <td>3</td>\n",
       "      <td>33.553926</td>\n",
       "      <td>0.301399</td>\n",
       "      <td>4.257003</td>\n",
       "      <td>0.262453</td>\n",
       "      <td>{'k': 100, 'sim_options': {'name': 'cosine', '...</td>\n",
       "      <td>100</td>\n",
       "      <td>{'name': 'cosine', 'user_based': True}</td>\n",
       "    </tr>\n",
       "    <tr>\n",
       "      <th>3</th>\n",
       "      <td>0.956362</td>\n",
       "      <td>0.960444</td>\n",
       "      <td>0.951770</td>\n",
       "      <td>0.960656</td>\n",
       "      <td>0.952849</td>\n",
       "      <td>0.956416</td>\n",
       "      <td>0.003702</td>\n",
       "      <td>2</td>\n",
       "      <td>34.894106</td>\n",
       "      <td>0.171722</td>\n",
       "      <td>4.664977</td>\n",
       "      <td>0.339887</td>\n",
       "      <td>{'k': 350, 'sim_options': {'name': 'cosine', '...</td>\n",
       "      <td>350</td>\n",
       "      <td>{'name': 'cosine', 'user_based': True}</td>\n",
       "    </tr>\n",
       "    <tr>\n",
       "      <th>4</th>\n",
       "      <td>0.956338</td>\n",
       "      <td>0.960447</td>\n",
       "      <td>0.951764</td>\n",
       "      <td>0.960683</td>\n",
       "      <td>0.952848</td>\n",
       "      <td>0.956416</td>\n",
       "      <td>0.003710</td>\n",
       "      <td>1</td>\n",
       "      <td>35.435316</td>\n",
       "      <td>0.785286</td>\n",
       "      <td>4.378808</td>\n",
       "      <td>0.324745</td>\n",
       "      <td>{'k': 500, 'sim_options': {'name': 'cosine', '...</td>\n",
       "      <td>500</td>\n",
       "      <td>{'name': 'cosine', 'user_based': True}</td>\n",
       "    </tr>\n",
       "  </tbody>\n",
       "</table>\n",
       "</div>"
      ],
      "text/plain": [
       "   split0_test_rmse  split1_test_rmse  split2_test_rmse  split3_test_rmse  \\\n",
       "0          0.965013          0.968224          0.960995          0.969876   \n",
       "1          0.956468          0.960796          0.952056          0.961073   \n",
       "2          0.956322          0.960554          0.951850          0.960727   \n",
       "3          0.956362          0.960444          0.951770          0.960656   \n",
       "4          0.956338          0.960447          0.951764          0.960683   \n",
       "\n",
       "   split4_test_rmse  mean_test_rmse  std_test_rmse  rank_test_rmse  \\\n",
       "0          0.962703        0.965362       0.003311               5   \n",
       "1          0.953481        0.956775       0.003684               4   \n",
       "2          0.952805        0.956452       0.003731               3   \n",
       "3          0.952849        0.956416       0.003702               2   \n",
       "4          0.952848        0.956416       0.003710               1   \n",
       "\n",
       "   mean_fit_time  std_fit_time  mean_test_time  std_test_time  \\\n",
       "0      35.475889      0.190858        3.606758       0.395808   \n",
       "1      34.042043      0.707233        3.854702       0.279260   \n",
       "2      33.553926      0.301399        4.257003       0.262453   \n",
       "3      34.894106      0.171722        4.664977       0.339887   \n",
       "4      35.435316      0.785286        4.378808       0.324745   \n",
       "\n",
       "                                              params  param_k  \\\n",
       "0  {'k': 10, 'sim_options': {'name': 'cosine', 'u...       10   \n",
       "1  {'k': 50, 'sim_options': {'name': 'cosine', 'u...       50   \n",
       "2  {'k': 100, 'sim_options': {'name': 'cosine', '...      100   \n",
       "3  {'k': 350, 'sim_options': {'name': 'cosine', '...      350   \n",
       "4  {'k': 500, 'sim_options': {'name': 'cosine', '...      500   \n",
       "\n",
       "                        param_sim_options  \n",
       "0  {'name': 'cosine', 'user_based': True}  \n",
       "1  {'name': 'cosine', 'user_based': True}  \n",
       "2  {'name': 'cosine', 'user_based': True}  \n",
       "3  {'name': 'cosine', 'user_based': True}  \n",
       "4  {'name': 'cosine', 'user_based': True}  "
      ]
     },
     "execution_count": 131,
     "metadata": {},
     "output_type": "execute_result"
    }
   ],
   "source": [
    "results_zscore_cosine_df = pd.DataFrame.from_dict(results_zscore_cosine)\n",
    "results_zscore_cosine_df"
   ]
  },
  {
   "cell_type": "markdown",
   "id": "73978936",
   "metadata": {},
   "source": [
    "### Plotting comparative graphs "
   ]
  },
  {
   "cell_type": "code",
   "execution_count": 132,
   "id": "72f18330",
   "metadata": {},
   "outputs": [],
   "source": [
    "k_values = [10, 50, 100, 350, 500]"
   ]
  },
  {
   "cell_type": "code",
   "execution_count": 133,
   "id": "d66b1c29",
   "metadata": {},
   "outputs": [],
   "source": [
    "mean_rmse = results_mean_cosine['mean_test_rmse']\n",
    "zscore_rmse = results_zscore_cosine['mean_test_rmse']"
   ]
  },
  {
   "cell_type": "code",
   "execution_count": 134,
   "id": "bffda5d2",
   "metadata": {},
   "outputs": [
    {
     "data": {
      "image/png": "[encoded data removed]",
      "text/plain": [
       "<Figure size 576x576 with 1 Axes>"
      ]
     },
     "metadata": {
      "needs_background": "light"
     },
     "output_type": "display_data"
    }
   ],
   "source": [
    "####### Plotting value comparison for different algos\n",
    "\n",
    "plt.figure(figsize = (8,8))\n",
    "\n",
    "plt.plot(k_values, mean_rmse, label='Mean-centering', color='darkgreen', marker='o')\n",
    "plt.plot(k_values, zscore_rmse, label='Z-score', color='navy', marker='o')\n",
    "\n",
    "plt.xlabel('K Value', fontsize=15)\n",
    "plt.ylabel('RMSE Value', fontsize=15)\n",
    "plt.title('Average RMSE vs K-values', loc='center', fontsize=15)\n",
    "\n",
    "plt.grid(ls='dashed')\n",
    "plt.legend()\n",
    "\n",
    "plt.show()"
   ]
  },
  {
   "cell_type": "code",
   "execution_count": null,
   "id": "ab330615",
   "metadata": {},
   "outputs": [],
   "source": []
  },
  {
   "cell_type": "markdown",
   "id": "cf3b5448",
   "metadata": {},
   "source": [
    "# QUESTION-3"
   ]
  },
  {
   "cell_type": "markdown",
   "id": "d3f57c99",
   "metadata": {},
   "source": [
    "### A. Using cosine similarity"
   ]
  },
  {
   "cell_type": "code",
   "execution_count": 135,
   "id": "dae0bedb",
   "metadata": {},
   "outputs": [],
   "source": [
    "###### Using cosine-similarity and applying 'KNNBasic'\n",
    "\n",
    "model_basic_cosine = creating_model(KNNBasic, 5, [10, 50, 100, 350, 500], 'cosine', False)"
   ]
  },
  {
   "cell_type": "code",
   "execution_count": 136,
   "id": "0d889e50",
   "metadata": {},
   "outputs": [
    {
     "name": "stdout",
     "output_type": "stream",
     "text": [
      "Computing the cosine similarity matrix...\n"
     ]
    },
    {
     "name": "stderr",
     "output_type": "stream",
     "text": [
      "/Users/ambuj/opt/anaconda3/envs/scrapping/lib/python3.8/site-packages/surprise/prediction_algorithms/algo_base.py:249: RuntimeWarning: invalid value encountered in double_scalars\n",
      "  sim = construction_func[name](*args)\n"
     ]
    },
    {
     "name": "stdout",
     "output_type": "stream",
     "text": [
      "Done computing similarity matrix.\n",
      "Computing the cosine similarity matrix...\n",
      "Done computing similarity matrix.\n",
      "Computing the cosine similarity matrix...\n",
      "Done computing similarity matrix.\n",
      "Computing the cosine similarity matrix...\n",
      "Done computing similarity matrix.\n",
      "Computing the cosine similarity matrix...\n",
      "Done computing similarity matrix.\n",
      "Computing the cosine similarity matrix...\n",
      "Done computing similarity matrix.\n",
      "Computing the cosine similarity matrix...\n",
      "Done computing similarity matrix.\n",
      "Computing the cosine similarity matrix...\n",
      "Done computing similarity matrix.\n",
      "Computing the cosine similarity matrix...\n",
      "Done computing similarity matrix.\n",
      "Computing the cosine similarity matrix...\n",
      "Done computing similarity matrix.\n",
      "Computing the cosine similarity matrix...\n",
      "Done computing similarity matrix.\n",
      "Computing the cosine similarity matrix...\n",
      "Done computing similarity matrix.\n",
      "Computing the cosine similarity matrix...\n",
      "Done computing similarity matrix.\n",
      "Computing the cosine similarity matrix...\n",
      "Done computing similarity matrix.\n",
      "Computing the cosine similarity matrix...\n",
      "Done computing similarity matrix.\n",
      "Computing the cosine similarity matrix...\n",
      "Done computing similarity matrix.\n",
      "Computing the cosine similarity matrix...\n",
      "Done computing similarity matrix.\n",
      "Computing the cosine similarity matrix...\n",
      "Done computing similarity matrix.\n",
      "Computing the cosine similarity matrix...\n",
      "Done computing similarity matrix.\n",
      "Computing the cosine similarity matrix...\n",
      "Done computing similarity matrix.\n",
      "Computing the cosine similarity matrix...\n",
      "Done computing similarity matrix.\n",
      "Computing the cosine similarity matrix...\n",
      "Done computing similarity matrix.\n",
      "Computing the cosine similarity matrix...\n",
      "Done computing similarity matrix.\n",
      "Computing the cosine similarity matrix...\n",
      "Done computing similarity matrix.\n",
      "Computing the cosine similarity matrix...\n",
      "Done computing similarity matrix.\n",
      "Computing the cosine similarity matrix...\n",
      "Done computing similarity matrix.\n"
     ]
    }
   ],
   "source": [
    "model_basic_cosine.fit(train_set)"
   ]
  },
  {
   "cell_type": "code",
   "execution_count": 137,
   "id": "a3a24e47",
   "metadata": {},
   "outputs": [
    {
     "data": {
      "text/plain": [
       "{'split0_test_rmse': array([0.96137848, 0.95112554, 0.95064386, 0.95062064, 0.95062228]),\n",
       " 'split1_test_rmse': array([0.95656874, 0.9455915 , 0.94526081, 0.94520882, 0.94520467]),\n",
       " 'split2_test_rmse': array([0.9672987 , 0.95734477, 0.95714408, 0.95706773, 0.95706986]),\n",
       " 'split3_test_rmse': array([0.95992825, 0.94951745, 0.94922412, 0.94923335, 0.94923121]),\n",
       " 'split4_test_rmse': array([0.96619031, 0.95584222, 0.95557323, 0.95553207, 0.95552784]),\n",
       " 'mean_test_rmse': array([0.9622729 , 0.9518843 , 0.95156922, 0.95153252, 0.95153117]),\n",
       " 'std_test_rmse': array([0.00398597, 0.00427221, 0.00431887, 0.00430678, 0.00430792]),\n",
       " 'rank_test_rmse': array([5, 4, 3, 2, 1]),\n",
       " 'mean_fit_time': array([40.01959338, 39.820084  , 38.6671524 , 39.44126883, 38.59546986]),\n",
       " 'std_fit_time': array([2.16422603, 1.5244149 , 0.28553915, 0.55901148, 0.76160085]),\n",
       " 'mean_test_time': array([4.41209464, 5.39024358, 6.11609201, 6.41915956, 6.33513327]),\n",
       " 'std_test_time': array([0.32275476, 0.36171308, 0.48030037, 0.45971702, 0.31342404]),\n",
       " 'params': [{'k': 10, 'sim_options': {'name': 'cosine', 'user_based': False}},\n",
       "  {'k': 50, 'sim_options': {'name': 'cosine', 'user_based': False}},\n",
       "  {'k': 100, 'sim_options': {'name': 'cosine', 'user_based': False}},\n",
       "  {'k': 350, 'sim_options': {'name': 'cosine', 'user_based': False}},\n",
       "  {'k': 500, 'sim_options': {'name': 'cosine', 'user_based': False}}],\n",
       " 'param_k': [10, 50, 100, 350, 500],\n",
       " 'param_sim_options': [{'name': 'cosine', 'user_based': False},\n",
       "  {'name': 'cosine', 'user_based': False},\n",
       "  {'name': 'cosine', 'user_based': False},\n",
       "  {'name': 'cosine', 'user_based': False},\n",
       "  {'name': 'cosine', 'user_based': False}]}"
      ]
     },
     "execution_count": 137,
     "metadata": {},
     "output_type": "execute_result"
    }
   ],
   "source": [
    "results_basic_cosine = model_basic_cosine.cv_results\n",
    "results_basic_cosine"
   ]
  },
  {
   "cell_type": "code",
   "execution_count": 138,
   "id": "f443f60e",
   "metadata": {},
   "outputs": [
    {
     "data": {
      "text/html": [
       "<div>\n",
       "<style scoped>\n",
       "    .dataframe tbody tr th:only-of-type {\n",
       "        vertical-align: middle;\n",
       "    }\n",
       "\n",
       "    .dataframe tbody tr th {\n",
       "        vertical-align: top;\n",
       "    }\n",
       "\n",
       "    .dataframe thead th {\n",
       "        text-align: right;\n",
       "    }\n",
       "</style>\n",
       "<table border=\"1\" class=\"dataframe\">\n",
       "  <thead>\n",
       "    <tr style=\"text-align: right;\">\n",
       "      <th></th>\n",
       "      <th>split0_test_rmse</th>\n",
       "      <th>split1_test_rmse</th>\n",
       "      <th>split2_test_rmse</th>\n",
       "      <th>split3_test_rmse</th>\n",
       "      <th>split4_test_rmse</th>\n",
       "      <th>mean_test_rmse</th>\n",
       "      <th>std_test_rmse</th>\n",
       "      <th>rank_test_rmse</th>\n",
       "      <th>mean_fit_time</th>\n",
       "      <th>std_fit_time</th>\n",
       "      <th>mean_test_time</th>\n",
       "      <th>std_test_time</th>\n",
       "      <th>params</th>\n",
       "      <th>param_k</th>\n",
       "      <th>param_sim_options</th>\n",
       "    </tr>\n",
       "  </thead>\n",
       "  <tbody>\n",
       "    <tr>\n",
       "      <th>0</th>\n",
       "      <td>0.961378</td>\n",
       "      <td>0.956569</td>\n",
       "      <td>0.967299</td>\n",
       "      <td>0.959928</td>\n",
       "      <td>0.966190</td>\n",
       "      <td>0.962273</td>\n",
       "      <td>0.003986</td>\n",
       "      <td>5</td>\n",
       "      <td>40.019593</td>\n",
       "      <td>2.164226</td>\n",
       "      <td>4.412095</td>\n",
       "      <td>0.322755</td>\n",
       "      <td>{'k': 10, 'sim_options': {'name': 'cosine', 'u...</td>\n",
       "      <td>10</td>\n",
       "      <td>{'name': 'cosine', 'user_based': False}</td>\n",
       "    </tr>\n",
       "    <tr>\n",
       "      <th>1</th>\n",
       "      <td>0.951126</td>\n",
       "      <td>0.945591</td>\n",
       "      <td>0.957345</td>\n",
       "      <td>0.949517</td>\n",
       "      <td>0.955842</td>\n",
       "      <td>0.951884</td>\n",
       "      <td>0.004272</td>\n",
       "      <td>4</td>\n",
       "      <td>39.820084</td>\n",
       "      <td>1.524415</td>\n",
       "      <td>5.390244</td>\n",
       "      <td>0.361713</td>\n",
       "      <td>{'k': 50, 'sim_options': {'name': 'cosine', 'u...</td>\n",
       "      <td>50</td>\n",
       "      <td>{'name': 'cosine', 'user_based': False}</td>\n",
       "    </tr>\n",
       "    <tr>\n",
       "      <th>2</th>\n",
       "      <td>0.950644</td>\n",
       "      <td>0.945261</td>\n",
       "      <td>0.957144</td>\n",
       "      <td>0.949224</td>\n",
       "      <td>0.955573</td>\n",
       "      <td>0.951569</td>\n",
       "      <td>0.004319</td>\n",
       "      <td>3</td>\n",
       "      <td>38.667152</td>\n",
       "      <td>0.285539</td>\n",
       "      <td>6.116092</td>\n",
       "      <td>0.480300</td>\n",
       "      <td>{'k': 100, 'sim_options': {'name': 'cosine', '...</td>\n",
       "      <td>100</td>\n",
       "      <td>{'name': 'cosine', 'user_based': False}</td>\n",
       "    </tr>\n",
       "    <tr>\n",
       "      <th>3</th>\n",
       "      <td>0.950621</td>\n",
       "      <td>0.945209</td>\n",
       "      <td>0.957068</td>\n",
       "      <td>0.949233</td>\n",
       "      <td>0.955532</td>\n",
       "      <td>0.951533</td>\n",
       "      <td>0.004307</td>\n",
       "      <td>2</td>\n",
       "      <td>39.441269</td>\n",
       "      <td>0.559011</td>\n",
       "      <td>6.419160</td>\n",
       "      <td>0.459717</td>\n",
       "      <td>{'k': 350, 'sim_options': {'name': 'cosine', '...</td>\n",
       "      <td>350</td>\n",
       "      <td>{'name': 'cosine', 'user_based': False}</td>\n",
       "    </tr>\n",
       "    <tr>\n",
       "      <th>4</th>\n",
       "      <td>0.950622</td>\n",
       "      <td>0.945205</td>\n",
       "      <td>0.957070</td>\n",
       "      <td>0.949231</td>\n",
       "      <td>0.955528</td>\n",
       "      <td>0.951531</td>\n",
       "      <td>0.004308</td>\n",
       "      <td>1</td>\n",
       "      <td>38.595470</td>\n",
       "      <td>0.761601</td>\n",
       "      <td>6.335133</td>\n",
       "      <td>0.313424</td>\n",
       "      <td>{'k': 500, 'sim_options': {'name': 'cosine', '...</td>\n",
       "      <td>500</td>\n",
       "      <td>{'name': 'cosine', 'user_based': False}</td>\n",
       "    </tr>\n",
       "  </tbody>\n",
       "</table>\n",
       "</div>"
      ],
      "text/plain": [
       "   split0_test_rmse  split1_test_rmse  split2_test_rmse  split3_test_rmse  \\\n",
       "0          0.961378          0.956569          0.967299          0.959928   \n",
       "1          0.951126          0.945591          0.957345          0.949517   \n",
       "2          0.950644          0.945261          0.957144          0.949224   \n",
       "3          0.950621          0.945209          0.957068          0.949233   \n",
       "4          0.950622          0.945205          0.957070          0.949231   \n",
       "\n",
       "   split4_test_rmse  mean_test_rmse  std_test_rmse  rank_test_rmse  \\\n",
       "0          0.966190        0.962273       0.003986               5   \n",
       "1          0.955842        0.951884       0.004272               4   \n",
       "2          0.955573        0.951569       0.004319               3   \n",
       "3          0.955532        0.951533       0.004307               2   \n",
       "4          0.955528        0.951531       0.004308               1   \n",
       "\n",
       "   mean_fit_time  std_fit_time  mean_test_time  std_test_time  \\\n",
       "0      40.019593      2.164226        4.412095       0.322755   \n",
       "1      39.820084      1.524415        5.390244       0.361713   \n",
       "2      38.667152      0.285539        6.116092       0.480300   \n",
       "3      39.441269      0.559011        6.419160       0.459717   \n",
       "4      38.595470      0.761601        6.335133       0.313424   \n",
       "\n",
       "                                              params  param_k  \\\n",
       "0  {'k': 10, 'sim_options': {'name': 'cosine', 'u...       10   \n",
       "1  {'k': 50, 'sim_options': {'name': 'cosine', 'u...       50   \n",
       "2  {'k': 100, 'sim_options': {'name': 'cosine', '...      100   \n",
       "3  {'k': 350, 'sim_options': {'name': 'cosine', '...      350   \n",
       "4  {'k': 500, 'sim_options': {'name': 'cosine', '...      500   \n",
       "\n",
       "                         param_sim_options  \n",
       "0  {'name': 'cosine', 'user_based': False}  \n",
       "1  {'name': 'cosine', 'user_based': False}  \n",
       "2  {'name': 'cosine', 'user_based': False}  \n",
       "3  {'name': 'cosine', 'user_based': False}  \n",
       "4  {'name': 'cosine', 'user_based': False}  "
      ]
     },
     "execution_count": 138,
     "metadata": {},
     "output_type": "execute_result"
    }
   ],
   "source": [
    "results_basic_cosine_df = pd.DataFrame.from_dict(results_basic_cosine)\n",
    "results_basic_cosine_df"
   ]
  },
  {
   "cell_type": "code",
   "execution_count": null,
   "id": "c71bb5cf",
   "metadata": {},
   "outputs": [],
   "source": []
  },
  {
   "cell_type": "markdown",
   "id": "37d1ba77",
   "metadata": {},
   "source": [
    "### B. Using Pearson's correlation coefficient "
   ]
  },
  {
   "cell_type": "code",
   "execution_count": 139,
   "id": "b77bb02c",
   "metadata": {},
   "outputs": [],
   "source": [
    "###### Using pearson-correlation and applying 'KNNBasic'\n",
    "\n",
    "model_basic_pearson = creating_model(KNNBasic, 5, [10, 50, 100, 350, 500], 'pearson_baseline', False)"
   ]
  },
  {
   "cell_type": "code",
   "execution_count": 140,
   "id": "aa228e6d",
   "metadata": {},
   "outputs": [
    {
     "name": "stdout",
     "output_type": "stream",
     "text": [
      "Estimating biases using als...\n",
      "Computing the pearson_baseline similarity matrix...\n",
      "Done computing similarity matrix.\n",
      "Estimating biases using als...\n",
      "Computing the pearson_baseline similarity matrix...\n",
      "Done computing similarity matrix.\n",
      "Estimating biases using als...\n",
      "Computing the pearson_baseline similarity matrix...\n",
      "Done computing similarity matrix.\n",
      "Estimating biases using als...\n",
      "Computing the pearson_baseline similarity matrix...\n",
      "Done computing similarity matrix.\n",
      "Estimating biases using als...\n",
      "Computing the pearson_baseline similarity matrix...\n",
      "Done computing similarity matrix.\n",
      "Estimating biases using als...\n",
      "Computing the pearson_baseline similarity matrix...\n",
      "Done computing similarity matrix.\n",
      "Estimating biases using als...\n",
      "Computing the pearson_baseline similarity matrix...\n",
      "Done computing similarity matrix.\n",
      "Estimating biases using als...\n",
      "Computing the pearson_baseline similarity matrix...\n",
      "Done computing similarity matrix.\n",
      "Estimating biases using als...\n",
      "Computing the pearson_baseline similarity matrix...\n",
      "Done computing similarity matrix.\n",
      "Estimating biases using als...\n",
      "Computing the pearson_baseline similarity matrix...\n",
      "Done computing similarity matrix.\n",
      "Estimating biases using als...\n",
      "Computing the pearson_baseline similarity matrix...\n",
      "Done computing similarity matrix.\n",
      "Estimating biases using als...\n",
      "Computing the pearson_baseline similarity matrix...\n",
      "Done computing similarity matrix.\n",
      "Estimating biases using als...\n",
      "Computing the pearson_baseline similarity matrix...\n",
      "Done computing similarity matrix.\n",
      "Estimating biases using als...\n",
      "Computing the pearson_baseline similarity matrix...\n",
      "Done computing similarity matrix.\n",
      "Estimating biases using als...\n",
      "Computing the pearson_baseline similarity matrix...\n",
      "Done computing similarity matrix.\n",
      "Estimating biases using als...\n",
      "Computing the pearson_baseline similarity matrix...\n",
      "Done computing similarity matrix.\n",
      "Estimating biases using als...\n",
      "Computing the pearson_baseline similarity matrix...\n",
      "Done computing similarity matrix.\n",
      "Estimating biases using als...\n",
      "Computing the pearson_baseline similarity matrix...\n",
      "Done computing similarity matrix.\n",
      "Estimating biases using als...\n",
      "Computing the pearson_baseline similarity matrix...\n",
      "Done computing similarity matrix.\n",
      "Estimating biases using als...\n",
      "Computing the pearson_baseline similarity matrix...\n",
      "Done computing similarity matrix.\n",
      "Estimating biases using als...\n",
      "Computing the pearson_baseline similarity matrix...\n",
      "Done computing similarity matrix.\n",
      "Estimating biases using als...\n",
      "Computing the pearson_baseline similarity matrix...\n",
      "Done computing similarity matrix.\n",
      "Estimating biases using als...\n",
      "Computing the pearson_baseline similarity matrix...\n",
      "Done computing similarity matrix.\n",
      "Estimating biases using als...\n",
      "Computing the pearson_baseline similarity matrix...\n",
      "Done computing similarity matrix.\n",
      "Estimating biases using als...\n",
      "Computing the pearson_baseline similarity matrix...\n",
      "Done computing similarity matrix.\n",
      "Estimating biases using als...\n",
      "Computing the pearson_baseline similarity matrix...\n",
      "Done computing similarity matrix.\n"
     ]
    }
   ],
   "source": [
    "model_basic_pearson.fit(train_set)"
   ]
  },
  {
   "cell_type": "code",
   "execution_count": 141,
   "id": "f05a491a",
   "metadata": {},
   "outputs": [
    {
     "data": {
      "text/plain": [
       "{'split0_test_rmse': array([0.99844713, 0.9961356 , 0.99611351, 0.99611108, 0.99611111]),\n",
       " 'split1_test_rmse': array([0.98982789, 0.98760857, 0.9875918 , 0.98759055, 0.98759047]),\n",
       " 'split2_test_rmse': array([0.99762794, 0.99550181, 0.99548795, 0.99548862, 0.99548864]),\n",
       " 'split3_test_rmse': array([0.99214887, 0.98983079, 0.98982197, 0.98982239, 0.98982245]),\n",
       " 'split4_test_rmse': array([1.01099289, 1.00855264, 1.00852861, 1.00853117, 1.0085313 ]),\n",
       " 'mean_test_rmse': array([0.99780894, 0.99552588, 0.99550877, 0.99550876, 0.99550879]),\n",
       " 'std_test_rmse': array([0.00734833, 0.00728267, 0.00727874, 0.00727983, 0.00727988]),\n",
       " 'rank_test_rmse': array([5, 4, 2, 1, 3]),\n",
       " 'mean_fit_time': array([34.97340379, 34.88582759, 35.32815318, 33.44181862, 37.47488074]),\n",
       " 'std_fit_time': array([1.03032671, 0.78945127, 1.54175205, 0.52790713, 3.75157773]),\n",
       " 'mean_test_time': array([4.21192083, 4.90432091, 5.57409458, 5.71702046, 5.92726836]),\n",
       " 'std_test_time': array([0.32949796, 0.50913532, 0.45483068, 0.50644589, 0.86371003]),\n",
       " 'params': [{'k': 10,\n",
       "   'sim_options': {'name': 'pearson_baseline', 'user_based': False}},\n",
       "  {'k': 50, 'sim_options': {'name': 'pearson_baseline', 'user_based': False}},\n",
       "  {'k': 100, 'sim_options': {'name': 'pearson_baseline', 'user_based': False}},\n",
       "  {'k': 350, 'sim_options': {'name': 'pearson_baseline', 'user_based': False}},\n",
       "  {'k': 500,\n",
       "   'sim_options': {'name': 'pearson_baseline', 'user_based': False}}],\n",
       " 'param_k': [10, 50, 100, 350, 500],\n",
       " 'param_sim_options': [{'name': 'pearson_baseline', 'user_based': False},\n",
       "  {'name': 'pearson_baseline', 'user_based': False},\n",
       "  {'name': 'pearson_baseline', 'user_based': False},\n",
       "  {'name': 'pearson_baseline', 'user_based': False},\n",
       "  {'name': 'pearson_baseline', 'user_based': False}]}"
      ]
     },
     "execution_count": 141,
     "metadata": {},
     "output_type": "execute_result"
    }
   ],
   "source": [
    "results_basic_pearson = model_basic_pearson.cv_results\n",
    "results_basic_pearson"
   ]
  },
  {
   "cell_type": "code",
   "execution_count": 142,
   "id": "970dc944",
   "metadata": {},
   "outputs": [
    {
     "data": {
      "text/html": [
       "<div>\n",
       "<style scoped>\n",
       "    .dataframe tbody tr th:only-of-type {\n",
       "        vertical-align: middle;\n",
       "    }\n",
       "\n",
       "    .dataframe tbody tr th {\n",
       "        vertical-align: top;\n",
       "    }\n",
       "\n",
       "    .dataframe thead th {\n",
       "        text-align: right;\n",
       "    }\n",
       "</style>\n",
       "<table border=\"1\" class=\"dataframe\">\n",
       "  <thead>\n",
       "    <tr style=\"text-align: right;\">\n",
       "      <th></th>\n",
       "      <th>split0_test_rmse</th>\n",
       "      <th>split1_test_rmse</th>\n",
       "      <th>split2_test_rmse</th>\n",
       "      <th>split3_test_rmse</th>\n",
       "      <th>split4_test_rmse</th>\n",
       "      <th>mean_test_rmse</th>\n",
       "      <th>std_test_rmse</th>\n",
       "      <th>rank_test_rmse</th>\n",
       "      <th>mean_fit_time</th>\n",
       "      <th>std_fit_time</th>\n",
       "      <th>mean_test_time</th>\n",
       "      <th>std_test_time</th>\n",
       "      <th>params</th>\n",
       "      <th>param_k</th>\n",
       "      <th>param_sim_options</th>\n",
       "    </tr>\n",
       "  </thead>\n",
       "  <tbody>\n",
       "    <tr>\n",
       "      <th>0</th>\n",
       "      <td>0.998447</td>\n",
       "      <td>0.989828</td>\n",
       "      <td>0.997628</td>\n",
       "      <td>0.992149</td>\n",
       "      <td>1.010993</td>\n",
       "      <td>0.997809</td>\n",
       "      <td>0.007348</td>\n",
       "      <td>5</td>\n",
       "      <td>34.973404</td>\n",
       "      <td>1.030327</td>\n",
       "      <td>4.211921</td>\n",
       "      <td>0.329498</td>\n",
       "      <td>{'k': 10, 'sim_options': {'name': 'pearson_bas...</td>\n",
       "      <td>10</td>\n",
       "      <td>{'name': 'pearson_baseline', 'user_based': False}</td>\n",
       "    </tr>\n",
       "    <tr>\n",
       "      <th>1</th>\n",
       "      <td>0.996136</td>\n",
       "      <td>0.987609</td>\n",
       "      <td>0.995502</td>\n",
       "      <td>0.989831</td>\n",
       "      <td>1.008553</td>\n",
       "      <td>0.995526</td>\n",
       "      <td>0.007283</td>\n",
       "      <td>4</td>\n",
       "      <td>34.885828</td>\n",
       "      <td>0.789451</td>\n",
       "      <td>4.904321</td>\n",
       "      <td>0.509135</td>\n",
       "      <td>{'k': 50, 'sim_options': {'name': 'pearson_bas...</td>\n",
       "      <td>50</td>\n",
       "      <td>{'name': 'pearson_baseline', 'user_based': False}</td>\n",
       "    </tr>\n",
       "    <tr>\n",
       "      <th>2</th>\n",
       "      <td>0.996114</td>\n",
       "      <td>0.987592</td>\n",
       "      <td>0.995488</td>\n",
       "      <td>0.989822</td>\n",
       "      <td>1.008529</td>\n",
       "      <td>0.995509</td>\n",
       "      <td>0.007279</td>\n",
       "      <td>2</td>\n",
       "      <td>35.328153</td>\n",
       "      <td>1.541752</td>\n",
       "      <td>5.574095</td>\n",
       "      <td>0.454831</td>\n",
       "      <td>{'k': 100, 'sim_options': {'name': 'pearson_ba...</td>\n",
       "      <td>100</td>\n",
       "      <td>{'name': 'pearson_baseline', 'user_based': False}</td>\n",
       "    </tr>\n",
       "    <tr>\n",
       "      <th>3</th>\n",
       "      <td>0.996111</td>\n",
       "      <td>0.987591</td>\n",
       "      <td>0.995489</td>\n",
       "      <td>0.989822</td>\n",
       "      <td>1.008531</td>\n",
       "      <td>0.995509</td>\n",
       "      <td>0.007280</td>\n",
       "      <td>1</td>\n",
       "      <td>33.441819</td>\n",
       "      <td>0.527907</td>\n",
       "      <td>5.717020</td>\n",
       "      <td>0.506446</td>\n",
       "      <td>{'k': 350, 'sim_options': {'name': 'pearson_ba...</td>\n",
       "      <td>350</td>\n",
       "      <td>{'name': 'pearson_baseline', 'user_based': False}</td>\n",
       "    </tr>\n",
       "    <tr>\n",
       "      <th>4</th>\n",
       "      <td>0.996111</td>\n",
       "      <td>0.987590</td>\n",
       "      <td>0.995489</td>\n",
       "      <td>0.989822</td>\n",
       "      <td>1.008531</td>\n",
       "      <td>0.995509</td>\n",
       "      <td>0.007280</td>\n",
       "      <td>3</td>\n",
       "      <td>37.474881</td>\n",
       "      <td>3.751578</td>\n",
       "      <td>5.927268</td>\n",
       "      <td>0.863710</td>\n",
       "      <td>{'k': 500, 'sim_options': {'name': 'pearson_ba...</td>\n",
       "      <td>500</td>\n",
       "      <td>{'name': 'pearson_baseline', 'user_based': False}</td>\n",
       "    </tr>\n",
       "  </tbody>\n",
       "</table>\n",
       "</div>"
      ],
      "text/plain": [
       "   split0_test_rmse  split1_test_rmse  split2_test_rmse  split3_test_rmse  \\\n",
       "0          0.998447          0.989828          0.997628          0.992149   \n",
       "1          0.996136          0.987609          0.995502          0.989831   \n",
       "2          0.996114          0.987592          0.995488          0.989822   \n",
       "3          0.996111          0.987591          0.995489          0.989822   \n",
       "4          0.996111          0.987590          0.995489          0.989822   \n",
       "\n",
       "   split4_test_rmse  mean_test_rmse  std_test_rmse  rank_test_rmse  \\\n",
       "0          1.010993        0.997809       0.007348               5   \n",
       "1          1.008553        0.995526       0.007283               4   \n",
       "2          1.008529        0.995509       0.007279               2   \n",
       "3          1.008531        0.995509       0.007280               1   \n",
       "4          1.008531        0.995509       0.007280               3   \n",
       "\n",
       "   mean_fit_time  std_fit_time  mean_test_time  std_test_time  \\\n",
       "0      34.973404      1.030327        4.211921       0.329498   \n",
       "1      34.885828      0.789451        4.904321       0.509135   \n",
       "2      35.328153      1.541752        5.574095       0.454831   \n",
       "3      33.441819      0.527907        5.717020       0.506446   \n",
       "4      37.474881      3.751578        5.927268       0.863710   \n",
       "\n",
       "                                              params  param_k  \\\n",
       "0  {'k': 10, 'sim_options': {'name': 'pearson_bas...       10   \n",
       "1  {'k': 50, 'sim_options': {'name': 'pearson_bas...       50   \n",
       "2  {'k': 100, 'sim_options': {'name': 'pearson_ba...      100   \n",
       "3  {'k': 350, 'sim_options': {'name': 'pearson_ba...      350   \n",
       "4  {'k': 500, 'sim_options': {'name': 'pearson_ba...      500   \n",
       "\n",
       "                                   param_sim_options  \n",
       "0  {'name': 'pearson_baseline', 'user_based': False}  \n",
       "1  {'name': 'pearson_baseline', 'user_based': False}  \n",
       "2  {'name': 'pearson_baseline', 'user_based': False}  \n",
       "3  {'name': 'pearson_baseline', 'user_based': False}  \n",
       "4  {'name': 'pearson_baseline', 'user_based': False}  "
      ]
     },
     "execution_count": 142,
     "metadata": {},
     "output_type": "execute_result"
    }
   ],
   "source": [
    "results_basic_pearson_df = pd.DataFrame.from_dict(results_basic_pearson)\n",
    "results_basic_pearson_df"
   ]
  },
  {
   "cell_type": "markdown",
   "id": "964606f1",
   "metadata": {},
   "source": [
    "### Plotting comparative graphs"
   ]
  },
  {
   "cell_type": "code",
   "execution_count": 143,
   "id": "41607730",
   "metadata": {},
   "outputs": [],
   "source": [
    "basic_cosine_rmse = results_basic_cosine['mean_test_rmse']\n",
    "basic_pearson_rmse = results_basic_pearson['mean_test_rmse']"
   ]
  },
  {
   "cell_type": "code",
   "execution_count": 144,
   "id": "c0084611",
   "metadata": {},
   "outputs": [
    {
     "data": {
      "image/png": "[encoded data removed]",
      "text/plain": [
       "<Figure size 576x576 with 1 Axes>"
      ]
     },
     "metadata": {
      "needs_background": "light"
     },
     "output_type": "display_data"
    }
   ],
   "source": [
    "####### Plotting value comparison for different algos\n",
    "\n",
    "plt.figure(figsize = (8,8))\n",
    "\n",
    "plt.plot(k_values, basic_cosine_rmse, label='Cosine similarity', color='darkgreen', marker='o')\n",
    "plt.plot(k_values, basic_pearson_rmse, label='Pearson Correlation', color='navy', marker='o')\n",
    "\n",
    "plt.xlabel('K Value', fontsize=15)\n",
    "plt.ylabel('RMSE Value', fontsize=15)\n",
    "plt.title('Average RMSE vs K-values', loc='center', fontsize=15)\n",
    "\n",
    "plt.grid(ls='dashed')\n",
    "plt.legend()\n",
    "\n",
    "plt.show()"
   ]
  },
  {
   "cell_type": "markdown",
   "id": "52b01621",
   "metadata": {},
   "source": [
    "# QUESTION-4"
   ]
  },
  {
   "cell_type": "code",
   "execution_count": 157,
   "id": "babea255",
   "metadata": {},
   "outputs": [],
   "source": [
    "from surprise import SVD\n",
    "from surprise.model_selection import cross_validate\n",
    "from surprise.model_selection import GridSearchCV"
   ]
  },
  {
   "cell_type": "code",
   "execution_count": 158,
   "id": "16fdea50",
   "metadata": {},
   "outputs": [],
   "source": [
    "##### Making dataset after loading from data-frames\n",
    "\n",
    "data_train_df = load_dataset(TRAINING_PATH)\n",
    "data_train_df = data_train_df[['user_id', 'recipe_id', 'rating']]\n",
    "\n",
    "data_train_df = shorten_dataset(data_train_df)\n",
    "train_set_df = Dataset.load_from_df(data_train_df[['user_id', 'recipe_id', 'rating']], reader)"
   ]
  },
  {
   "cell_type": "code",
   "execution_count": 159,
   "id": "8af1f09c",
   "metadata": {},
   "outputs": [],
   "source": [
    "data_test_df = load_dataset(TESTING_PATH)\n",
    "data_test_df = data_test_df[['user_id', 'recipe_id', 'rating']]\n",
    "\n",
    "test_set_df = Dataset.load_from_df(data_test_df[['user_id', 'recipe_id', 'rating']], reader)"
   ]
  },
  {
   "cell_type": "code",
   "execution_count": 160,
   "id": "1f226631",
   "metadata": {},
   "outputs": [],
   "source": [
    "###### Making SVD model objects by giving different parameters\n",
    "\n",
    "param_grid = {'n_epochs': [10, 25, 70], 'lr_all': [0.002, 0.005], 'reg_all': [0.4, 0.6]}\n",
    "model_svd = GridSearchCV(SVD, param_grid, measures=['rmse'], cv=3)"
   ]
  },
  {
   "cell_type": "code",
   "execution_count": 161,
   "id": "cd13694d",
   "metadata": {},
   "outputs": [],
   "source": [
    "##### fitting SVD model\n",
    "\n",
    "model_svd.fit(train_set_df)"
   ]
  },
  {
   "cell_type": "code",
   "execution_count": 162,
   "id": "f704c0c1",
   "metadata": {},
   "outputs": [
    {
     "data": {
      "text/plain": [
       "{'split0_test_rmse': array([0.89695981, 0.89776221, 0.89140289, 0.89228365, 0.89133853,\n",
       "        0.89204029, 0.89165689, 0.891803  , 0.89175892, 0.89201466,\n",
       "        0.89601578, 0.89484918]),\n",
       " 'split1_test_rmse': array([0.90004066, 0.90112459, 0.89423229, 0.89500838, 0.8940648 ,\n",
       "        0.89507659, 0.89402627, 0.89415417, 0.89398128, 0.89418281,\n",
       "        0.89798483, 0.89718945]),\n",
       " 'split2_test_rmse': array([0.89952058, 0.9000075 , 0.89394719, 0.8945236 , 0.89334325,\n",
       "        0.89424391, 0.89379671, 0.89425641, 0.89429372, 0.89409654,\n",
       "        0.89843891, 0.89751161]),\n",
       " 'mean_test_rmse': array([0.89884035, 0.89963143, 0.89319412, 0.89393854, 0.89291553,\n",
       "        0.89378693, 0.89315996, 0.89340453, 0.89334464, 0.89343134,\n",
       "        0.89747984, 0.89651675]),\n",
       " 'std_test_rmse': array([0.00134659, 0.00139821, 0.00127193, 0.0011868 , 0.00115335,\n",
       "        0.00128099, 0.00106695, 0.00113322, 0.00112851, 0.00100236,\n",
       "        0.00105171, 0.00118646]),\n",
       " 'rank_test_rmse': array([11, 12,  3,  8,  1,  7,  2,  5,  4,  6, 10,  9]),\n",
       " 'mean_fit_time': array([  5.10553137,   5.01763908,   5.06496199,   5.06202435,\n",
       "         12.61125763,  12.57844369,  12.55371078,  12.52607234,\n",
       "         34.98897465,  35.20667028,  34.8985424 , 114.22689708]),\n",
       " 'std_fit_time': array([3.06728264e-02, 9.54076814e-03, 2.58648842e-02, 1.47681506e-02,\n",
       "        6.79570867e-02, 2.04164935e-02, 2.71475525e-02, 3.67849705e-02,\n",
       "        3.50718446e-02, 1.83265267e-01, 1.40882732e-01, 1.11990904e+02]),\n",
       " 'mean_test_time': array([0.99660317, 0.94091352, 0.95546778, 0.88403797, 0.95287792,\n",
       "        0.42732302, 0.94625966, 0.91479858, 0.93509801, 0.87835534,\n",
       "        0.97898491, 1.04047513]),\n",
       " 'std_test_time': array([0.80135602, 0.72355789, 0.74418595, 0.64098504, 0.73792743,\n",
       "        0.00349908, 0.72372812, 0.68621524, 0.70238876, 0.62822394,\n",
       "        0.77949848, 0.75017951]),\n",
       " 'params': [{'n_epochs': 10, 'lr_all': 0.002, 'reg_all': 0.4},\n",
       "  {'n_epochs': 10, 'lr_all': 0.002, 'reg_all': 0.6},\n",
       "  {'n_epochs': 10, 'lr_all': 0.005, 'reg_all': 0.4},\n",
       "  {'n_epochs': 10, 'lr_all': 0.005, 'reg_all': 0.6},\n",
       "  {'n_epochs': 25, 'lr_all': 0.002, 'reg_all': 0.4},\n",
       "  {'n_epochs': 25, 'lr_all': 0.002, 'reg_all': 0.6},\n",
       "  {'n_epochs': 25, 'lr_all': 0.005, 'reg_all': 0.4},\n",
       "  {'n_epochs': 25, 'lr_all': 0.005, 'reg_all': 0.6},\n",
       "  {'n_epochs': 70, 'lr_all': 0.002, 'reg_all': 0.4},\n",
       "  {'n_epochs': 70, 'lr_all': 0.002, 'reg_all': 0.6},\n",
       "  {'n_epochs': 70, 'lr_all': 0.005, 'reg_all': 0.4},\n",
       "  {'n_epochs': 70, 'lr_all': 0.005, 'reg_all': 0.6}],\n",
       " 'param_n_epochs': [10, 10, 10, 10, 25, 25, 25, 25, 70, 70, 70, 70],\n",
       " 'param_lr_all': [0.002,\n",
       "  0.002,\n",
       "  0.005,\n",
       "  0.005,\n",
       "  0.002,\n",
       "  0.002,\n",
       "  0.005,\n",
       "  0.005,\n",
       "  0.002,\n",
       "  0.002,\n",
       "  0.005,\n",
       "  0.005],\n",
       " 'param_reg_all': [0.4, 0.6, 0.4, 0.6, 0.4, 0.6, 0.4, 0.6, 0.4, 0.6, 0.4, 0.6]}"
      ]
     },
     "execution_count": 162,
     "metadata": {},
     "output_type": "execute_result"
    }
   ],
   "source": [
    "results_svd = model_svd.cv_results\n",
    "results_svd"
   ]
  },
  {
   "cell_type": "markdown",
   "id": "65717a58",
   "metadata": {},
   "source": [
    "## Plotting SVD average RMSE values graph with epochs "
   ]
  },
  {
   "cell_type": "code",
   "execution_count": 171,
   "id": "b8c16d81",
   "metadata": {},
   "outputs": [
    {
     "data": {
      "text/plain": [
       "array([0.89884035, 0.89963143, 0.89319412, 0.89393854, 0.89291553,\n",
       "       0.89378693, 0.89315996, 0.89340453, 0.89334464, 0.89343134,\n",
       "       0.89747984, 0.89651675])"
      ]
     },
     "execution_count": 171,
     "metadata": {},
     "output_type": "execute_result"
    }
   ],
   "source": [
    "svd_rmse = results_svd['mean_test_rmse']\n",
    "svd_rmse"
   ]
  },
  {
   "cell_type": "code",
   "execution_count": 172,
   "id": "db7b8272",
   "metadata": {},
   "outputs": [],
   "source": [
    "#### evaluating avg RMSE values for all epochs\n",
    "\n",
    "avg_svd_rmse = []\n",
    "\n",
    "for i in range(0, 12, 4):\n",
    "    temp = sum(svd_rmse[i:i+4])/4\n",
    "    avg_svd_rmse.append(temp)"
   ]
  },
  {
   "cell_type": "code",
   "execution_count": 173,
   "id": "0cb513be",
   "metadata": {},
   "outputs": [],
   "source": [
    "avg_svd_rmse\n",
    "epochs = [10, 25, 70]"
   ]
  },
  {
   "cell_type": "code",
   "execution_count": 174,
   "id": "f4ddbd22",
   "metadata": {},
   "outputs": [
    {
     "data": {
      "image/png": "[encoded data removed]",
      "text/plain": [
       "<Figure size 576x576 with 1 Axes>"
      ]
     },
     "metadata": {
      "needs_background": "light"
     },
     "output_type": "display_data"
    }
   ],
   "source": [
    "##### plotting the curve\n",
    "plt.figure(figsize = (8,8))\n",
    "\n",
    "plt.plot(epochs, avg_svd_rmse, label='Cosine similarity', color='darkgreen', marker='o')\n",
    "\n",
    "plt.xlabel('Epochs', fontsize=15)\n",
    "plt.ylabel('RMSE Value', fontsize=15)\n",
    "plt.title('Average RMSE vs Epochs', loc='center', fontsize=15)\n",
    "\n",
    "plt.grid(ls='dashed')\n",
    "plt.legend()\n",
    "\n",
    "plt.show()"
   ]
  },
  {
   "cell_type": "code",
   "execution_count": null,
   "id": "b7c249b8",
   "metadata": {},
   "outputs": [],
   "source": []
  },
  {
   "cell_type": "markdown",
   "id": "9c508ab7",
   "metadata": {},
   "source": [
    "# OBSERVATIONS"
   ]
  },
  {
   "cell_type": "markdown",
   "id": "08ee7801",
   "metadata": {},
   "source": [
    "### Question-1 "
   ]
  },
  {
   "cell_type": "markdown",
   "id": "979d717f",
   "metadata": {},
   "source": [
    "1. Amongst the dataset analysis, I have found that the total number of unique users are 25076 and total number of unique recipes are 160901. There are total 698901 reviews given from different users.\n",
    "2. Rating distributions are plotted in form of a bar-chart.\n",
    "3. We have also made a function \"item_rating_info()\" to calculate minimum, maximum and average rating given for a perticular recipe.\n",
    "4. We have tried to find out as well if the given user_id values and recipe_id values are continuous or not."
   ]
  },
  {
   "cell_type": "markdown",
   "id": "5109c930",
   "metadata": {},
   "source": [
    "### Question-2"
   ]
  },
  {
   "cell_type": "markdown",
   "id": "94d157ca",
   "metadata": {},
   "source": [
    "1. We checked for the users who have given very less reviews and recipes which are reviewed very less.\n",
    "2. We further tried to remove the users and recipes with less reviews.\n",
    "3. We further applied KNN using mean-centering and z-score normalization with cosine similarity and plotted the average RMSE comparisons over all folds as well with different K values."
   ]
  },
  {
   "cell_type": "markdown",
   "id": "bfc0cb93",
   "metadata": {},
   "source": [
    "### Question-3 "
   ]
  },
  {
   "cell_type": "markdown",
   "id": "94171781",
   "metadata": {},
   "source": [
    "1. We used KNNBasic with 'cosine similarity' and 'pearson correlation' to calculte RMSE.\n",
    "2. We further plotted average RMSE comparisons over all folds as well with different K values."
   ]
  },
  {
   "cell_type": "markdown",
   "id": "7df6ec32",
   "metadata": {},
   "source": [
    "### Question-4"
   ]
  },
  {
   "cell_type": "markdown",
   "id": "8cef5e14",
   "metadata": {},
   "source": [
    "1. To calculate the RMSE using SVD, built-in libraries are used. We calculate RMSE on multiple epochs.\n",
    "2. We further plotted the average RMSE values with different epoch values."
   ]
  },
  {
   "cell_type": "markdown",
   "id": "6b85ed75",
   "metadata": {},
   "source": [
    "### SHORTCOMINGS "
   ]
  },
  {
   "cell_type": "markdown",
   "id": "1d8facdf",
   "metadata": {},
   "source": [
    "I have created the user-item matrix. To decompose it, below function is used :\n",
    "\n",
    "eigen_values, eigen_vectors = eig(V)\n",
    "\n",
    "This will generate the matrix containing eigen_values and eigen_vectors which can be further used to calculate the eigen decomposition of similarity matrix. But, I wasn't able to do it because of following reasons."
   ]
  },
  {
   "cell_type": "markdown",
   "id": "83028854",
   "metadata": {},
   "source": [
    "### PROBLEMS "
   ]
  },
  {
   "cell_type": "markdown",
   "id": "617f2bb3",
   "metadata": {},
   "source": [
    "1. Due to the large size of the dataset, when we are processing to calculate the similarity matrix over complete dataset, the system crashes.\n",
    "2. While using the built-in functions, it takes parameters in a certain format. So, even after calculating the user-item matrix, it isn't easy to pass it onto the the built-in function."
   ]
  },
  {
   "cell_type": "markdown",
   "id": "a324c0ba",
   "metadata": {},
   "source": [
    "# Thank you!"
   ]
  },
  {
   "cell_type": "code",
   "execution_count": null,
   "id": "05cb413e",
   "metadata": {},
   "outputs": [],
   "source": []
  }
 ],
 "metadata": {
  "kernelspec": {
   "display_name": "Python 3 (ipykernel)",
   "language": "python",
   "name": "python3"
  },
  "language_info": {
   "codemirror_mode": {
    "name": "ipython",
    "version": 3
   },
   "file_extension": ".py",
   "mimetype": "text/x-python",
   "name": "python",
   "nbconvert_exporter": "python",
   "pygments_lexer": "ipython3",
   "version": "3.8.11"
  }
 },
 "nbformat": 4,
 "nbformat_minor": 5
}
